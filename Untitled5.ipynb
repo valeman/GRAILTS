{
 "cells": [
  {
   "cell_type": "code",
   "execution_count": 1,
   "metadata": {},
   "outputs": [],
   "source": [
    "import numpy as np\n",
    "import matplotlib.pyplot as plt\n",
    "import pandas as pd\n",
    "from statsmodels.tsa.stattools import adfuller\n",
    "from Causal_inference import granger_causality,add_causality_dataset, generate_synthetic\n",
    "from time import time\n",
    "import pmdarima as pm\n",
    "from tqdm import tqdm\n",
    "from statsmodels.tsa.arima_model import ARMA\n",
    "from TimeSeries import TimeSeries"
   ]
  },
  {
   "cell_type": "code",
   "execution_count": 2,
   "metadata": {},
   "outputs": [],
   "source": [
    "def load_dataset(path):\n",
    "    path = path\n",
    "    TRAIN, train_labels = TimeSeries.load(path+'_TRAIN', \"UCR\")\n",
    "    TEST, test_labels = TimeSeries.load(path+'_TEST', \"UCR\")\n",
    "\n",
    "    return TRAIN, train_labels, TEST, test_labels"
   ]
  },
  {
   "cell_type": "code",
   "execution_count": 3,
   "metadata": {},
   "outputs": [],
   "source": [
    "def plot(x):\n",
    "    l = np.arange(x.shape[0])\n",
    "    plt.plot(l, x, c='blue')\n",
    "    plt.show()\n",
    "\n",
    "\n",
    "def adf_test(x, pval = 0.05):\n",
    "    \"\"\"\n",
    "    Test if the time series is stationary\n",
    "    :param x: time series\n",
    "    :return:\n",
    "    \"\"\"\n",
    "    dftest = adfuller(x, autolag='AIC')\n",
    "    if dftest[1] < pval:\n",
    "        return True\n",
    "    else:\n",
    "        return False\n",
    "    \n",
    "def difference(x):\n",
    "    m = x.shape[0]\n",
    "    diff = [x[0]]\n",
    "    for i in range(1,m):\n",
    "        val = x[i] - x[i-1]\n",
    "        diff.append(val)\n",
    "    diff = np.array(diff)\n",
    "    return diff\n",
    "\n",
    "def make_stationary(x, plot = False):\n",
    "    \"\"\"\n",
    "    Take difference until statinonary\n",
    "    :param x: time series\n",
    "    :return:\n",
    "    \"\"\"\n",
    "    for it in range(10):\n",
    "        diff = []\n",
    "        if adf_test(x):\n",
    "            return np.array(x)\n",
    "        for i in range(1, len(x)):\n",
    "            val = x[i] - x[i - 1]\n",
    "            diff.append(val)\n",
    "        x = diff\n",
    "\n",
    "        if it == 9:\n",
    "            print('Cannot be made stationary')\n",
    "\n",
    "        if plot:\n",
    "            l = np.arange(len(diff))\n",
    "            plt.plot(l, x, c='blue')\n",
    "            plt.show()\n",
    "    return np.array(x)\n",
    "\n",
    "\n",
    "def preprocess_dataset(TS):\n",
    "    \"\"\"\n",
    "    Make each time series stationary\n",
    "    :param TS: \n",
    "    :return: \n",
    "    \"\"\"\n",
    "    minlength = float('inf')\n",
    "    newTS = [None for i in range(TS.shape[0])]\n",
    "    for i in range(TS.shape[0]):\n",
    "        newTS[i] = make_stationary(TS[i])\n",
    "        minlength = min(minlength, len(newTS[i]))\n",
    "    for i in range(TS.shape[0]):\n",
    "        m = len(newTS[i])\n",
    "        newTS[i] = newTS[i][(m-minlength):]\n",
    "    return np.array(newTS)\n",
    "\n",
    "def add_causality(x, y, lag):\n",
    "    m = y.shape[0]\n",
    "    for i in range(m-lag):\n",
    "        y[i + lag] += x[i]\n"
   ]
  },
  {
   "cell_type": "code",
   "execution_count": 40,
   "metadata": {},
   "outputs": [
    {
     "name": "stdout",
     "output_type": "stream",
     "text": [
      "(175, 463)\n"
     ]
    },
    {
     "data": {
      "image/png": "[encoded data removed]",
      "text/plain": [
       "<Figure size 432x288 with 1 Axes>"
      ]
     },
     "metadata": {
      "needs_background": "light"
     },
     "output_type": "display_data"
    }
   ],
   "source": [
    "ts, train_labels, TEST, test_labels = load_dataset('UCR2018/Fish/Fish')\n",
    "\n",
    "print(ts.shape)\n",
    "\n",
    "plot(ts[10])"
   ]
  },
  {
   "cell_type": "code",
   "execution_count": 31,
   "metadata": {},
   "outputs": [
    {
     "name": "stdout",
     "output_type": "stream",
     "text": [
      "0.9999999999998197\n",
      "0.00015397812036287606\n",
      "0.00019367811829204787\n",
      "1.6869189332112973e-05\n",
      "2.777395890074762e-10\n",
      "8.177159665279448e-06\n",
      "5.383973738719406e-05\n",
      "0.5525961453897119\n",
      "2.1667879074943438e-05\n",
      "1.0076716240740115e-05\n",
      "8.59402839725333e-08\n",
      "4.306402533177526e-12\n",
      "0.00010931092675100146\n",
      "0.006883442679763387\n",
      "3.666557873226786e-14\n",
      "6.007631653806251e-11\n",
      "0.9421713608489453\n",
      "2.094161529037967e-08\n",
      "4.870863868778148e-05\n",
      "6.063467677450052e-07\n",
      "1.2620319459753495e-09\n",
      "1.5390149927504453e-06\n",
      "1.1675598233446758e-06\n",
      "3.154863721777532e-07\n",
      "0.5245872935388668\n",
      "1.3131398188286235e-10\n",
      "2.0277457963397374e-08\n",
      "0.16978842091514845\n",
      "3.3114736047502145e-05\n",
      "7.0337116997725875e-06\n",
      "5.345055954705168e-13\n",
      "2.2997817223869497e-08\n",
      "4.6077465147515784e-14\n",
      "4.705209282579217e-11\n",
      "0.012617080250815269\n",
      "0.0002077281542732544\n",
      "1.2618487490128038e-06\n",
      "0.00019936654524257302\n",
      "1.7559004709873678e-05\n",
      "0.11039942146056082\n",
      "9.01394541808471e-11\n",
      "1.623100379284091e-17\n",
      "1.7227024164633156e-11\n",
      "1.4733770768269063e-08\n",
      "0.003155243302266353\n",
      "3.579478542166662e-12\n",
      "1.1536623377012266e-10\n",
      "9.389626318960765e-06\n",
      "3.4347965070381343e-10\n",
      "0.06928155574238617\n",
      "2.4264620296130626e-05\n",
      "2.8260045420444653e-15\n",
      "4.771500330347239e-07\n",
      "2.4198603986324376e-14\n",
      "0.030077189680901412\n",
      "9.950481393942763e-10\n",
      "7.834911032995698e-06\n",
      "1.98106260633084e-07\n",
      "1.729922440446128e-05\n",
      "6.776551020160317e-05\n",
      "0.22732942226966127\n",
      "1.9790515243428252e-10\n",
      "4.107041813300964e-06\n",
      "1.6657638048312853e-08\n",
      "3.646925665042098e-10\n",
      "4.7006738344447854e-07\n",
      "0.002488078049364572\n",
      "2.1343473202412195e-06\n",
      "3.888019152289213e-22\n",
      "0.9780004831218905\n",
      "8.813678030393e-06\n",
      "0.00341203140556505\n",
      "8.924147492657827e-13\n",
      "0.000141635573464132\n",
      "4.440542535609871e-11\n",
      "8.984555788048122e-08\n",
      "3.336842975830479e-16\n",
      "1.2314777364765132e-05\n",
      "4.1444650743806366e-05\n",
      "0.0002224779423824464\n",
      "2.9507934536256486e-07\n",
      "0.0016032751356714404\n",
      "1.0353494428528274e-16\n",
      "0.24906841637030494\n",
      "1.2128046806188593e-09\n",
      "0.7293892819022099\n",
      "0.09527957443685438\n",
      "2.4172787184521608e-11\n",
      "6.799197547361155e-11\n",
      "2.4731074742977257e-07\n",
      "0.004758381970356235\n",
      "5.482929284629453e-06\n",
      "9.059928109914327e-13\n",
      "6.565019160692781e-06\n",
      "3.9162767258796283e-13\n",
      "8.330144935599116e-11\n",
      "4.0975699048871216e-11\n",
      "4.574664989300018e-15\n",
      "0.00024549928672935515\n",
      "8.844284829626028e-07\n",
      "3.057063667634334e-13\n",
      "0.00040974509823400425\n",
      "1.0996448486394493e-07\n",
      "3.0555092713269937e-21\n",
      "0.00011162643003455494\n",
      "0.595563756734669\n",
      "1.0347228339089743e-07\n",
      "4.2866744440861937e-07\n",
      "1.8741636312481837e-05\n",
      "0.009573675010694411\n",
      "4.967179513844948e-14\n",
      "6.615618706414995e-08\n",
      "3.0872592993888154e-07\n",
      "5.1803528866588427e-11\n",
      "0.18620993547788312\n",
      "0.8433580064169791\n",
      "0.00018251253824192384\n",
      "1.1270048907302041e-11\n",
      "0.04383000686830126\n",
      "4.46346318540657e-05\n",
      "6.910911053305144e-17\n",
      "1.7287648952178563e-14\n",
      "3.483496853636519e-11\n",
      "4.458763659765732e-08\n",
      "0.021698397967132188\n",
      "0.4418116610886865\n",
      "7.48658792391712e-06\n",
      "0.00038170192958699394\n",
      "6.925371137759456e-06\n",
      "1.2155216255422215e-05\n",
      "1.3683415232603546e-07\n",
      "1.3838839023724124e-07\n",
      "3.779336205556739e-06\n",
      "4.5771757249129784e-10\n",
      "5.973944630101163e-06\n",
      "0.00014282745489181694\n",
      "0.05083260481773123\n",
      "3.505008975102397e-07\n",
      "7.812281034317071e-22\n",
      "4.7877255915449576e-08\n",
      "4.606028000514484e-11\n",
      "1.818605512598381e-05\n",
      "3.204163740158808e-05\n",
      "3.1205679540381587e-09\n",
      "1.9782709110822358e-11\n",
      "3.3556979061764775e-05\n",
      "3.1741045506613474e-07\n",
      "8.61661555473773e-06\n",
      "8.26868770424124e-10\n",
      "1.5050112193004082e-06\n",
      "3.826177635291738e-07\n",
      "0.18566495087837584\n",
      "3.846223494409741e-12\n",
      "3.2161208765190076e-14\n",
      "0.00019821533839038577\n",
      "0.3291522136864192\n",
      "1.0715602825591668e-13\n",
      "9.65740660797571e-05\n",
      "2.9766380529322347e-06\n",
      "2.3972039059195423e-20\n",
      "0.8154954700846413\n",
      "2.1117364706049077e-05\n",
      "6.017453435222835e-07\n",
      "0.010669943260790937\n",
      "9.779175067061723e-10\n",
      "3.974465691360904e-07\n",
      "0.22807543962354213\n",
      "2.626625039679895e-05\n",
      "6.723342988562764e-08\n",
      "0.0009677936147709249\n",
      "0.012833152233471222\n",
      "0.0003980579844221322\n",
      "1.778611847567877e-07\n",
      "3.1782407322687937e-05\n",
      "6.369948224464709e-07\n",
      "1.8205644712928418e-07\n",
      "2.8101473005428476e-05\n",
      "4.179704409546046e-08\n",
      "1.8095623369667897e-10\n",
      "0.22069260603535276\n",
      "0.0011881840200839754\n",
      "0.009357783733153997\n",
      "6.536795502922103e-10\n",
      "0.05074727296920045\n",
      "0.28384470853351684\n",
      "1.0734202053585207e-09\n",
      "0.00010388340119058055\n",
      "1.5270968518641742e-14\n",
      "5.927699285556504e-08\n",
      "1.1811231306691093e-10\n",
      "4.610169633412865e-14\n",
      "1.8890148654556724e-11\n",
      "0.03862480870418594\n",
      "4.751400811227194e-09\n",
      "0.015225347892476787\n",
      "2.9424015956340258e-24\n",
      "1.5327848410007613e-05\n",
      "0.00020330778668691866\n",
      "6.53766839994414e-05\n",
      "2.5708463068669794e-09\n",
      "0.007185923862558836\n",
      "1.887214823176908e-05\n",
      "0.12200961534185044\n",
      "7.018903236006648e-08\n",
      "2.8864981083421655e-06\n",
      "6.245175694418359e-07\n",
      "7.519664739055471e-10\n",
      "0.07011705540429419\n",
      "5.7530798026163976e-12\n",
      "0.7650818916755306\n",
      "1.0140869450867653e-14\n",
      "2.2697151797943702e-13\n",
      "0.0010304892412588693\n",
      "0.20289585446405567\n",
      "0.00677070339929179\n",
      "0.00029996841097535527\n",
      "1.7900439464351988e-10\n",
      "3.5028268405312583e-06\n",
      "2.041162894715237e-08\n",
      "1.9956713260046152e-16\n",
      "5.640406510071852e-09\n",
      "1.5727711597111382e-05\n",
      "2.6081212874644112e-08\n",
      "0.06445951400642909\n",
      "0.7198157676696306\n",
      "0.00032375384886858174\n",
      "2.467629905523003e-23\n",
      "5.565065522871738e-10\n",
      "0.8632833969166588\n",
      "8.46337727237152e-21\n",
      "1.1404972303398756e-11\n",
      "0.5582769971177814\n",
      "6.049971654102774e-13\n",
      "1.841063614047205e-07\n",
      "2.103673450789638e-09\n",
      "9.488633210349129e-05\n",
      "0.16115289709583452\n",
      "0.9210173752331042\n",
      "2.5866417965861915e-05\n",
      "4.6043119048288966e-15\n",
      "2.6432959090124074e-20\n",
      "2.427619769501039e-14\n",
      "1.8654963021980818e-08\n",
      "0.032656175741808506\n",
      "4.0379569647179844e-05\n",
      "2.7190332389768643e-06\n",
      "1.2718437700088526e-09\n",
      "1.4174875307230331e-05\n",
      "1.1829940047138965e-13\n",
      "5.749212362350061e-08\n",
      "9.237398727556164e-05\n",
      "1.559046298492625e-11\n",
      "1.2255367538449909e-11\n",
      "1.2845666270277633e-06\n",
      "3.4710810929892105e-14\n",
      "0.00013264600718874238\n",
      "1.4718879736561577e-05\n",
      "0.04584091282603324\n",
      "9.843850826434707e-11\n",
      "0.003025543540036837\n",
      "2.8096057831379064e-10\n",
      "2.9670003179525754e-12\n",
      "0.0012994534614162367\n",
      "2.6137065489947234e-11\n",
      "1.504761509249484e-05\n",
      "1.38065616953311e-08\n",
      "0.12475864353522596\n",
      "0.06915547850832195\n",
      "6.054303857309665e-12\n",
      "5.0821433739088514e-14\n",
      "3.406619234967573e-05\n",
      "0.0003712981595343072\n",
      "0.00024208497580103605\n",
      "8.713425663878729e-06\n",
      "2.591471708294696e-08\n",
      "3.9840190300464306e-09\n",
      "0.00019761467026462972\n",
      "1.759649925855352e-08\n",
      "1.8344975205774975e-07\n",
      "0.00025416141283978057\n",
      "4.0262879678595936e-06\n",
      "0.0013930364884643012\n",
      "2.495139586061514e-07\n",
      "2.361452384020214e-08\n",
      "4.954384722541872e-09\n",
      "9.141488850310693e-05\n",
      "0.034937413303539895\n",
      "1.5208569809467324e-07\n",
      "0.0011134710323520544\n",
      "4.395831098453456e-09\n",
      "0.41122569593300695\n",
      "0.0003135758388699256\n",
      "3.209782103068362e-14\n",
      "1.765557513681108e-11\n",
      "4.09438786553823e-14\n",
      "4.240409870980995e-20\n",
      "5.344371316425324e-17\n",
      "0.0055132638885845185\n",
      "1.719034814789947e-14\n",
      "0.00019622663629492634\n",
      "6.845057558801816e-07\n",
      "1.519412855361455e-16\n",
      "7.560426745269557e-06\n",
      "0.04732147943913862\n",
      "3.18084875030112e-12\n",
      "1.0873559800882921e-14\n",
      "1.3603078606493449e-09\n",
      "1.955993204713985e-07\n",
      "3.51097519756735e-06\n",
      "3.180131968620027e-13\n",
      "1.3063442656088565e-13\n",
      "3.9630307793466345e-05\n",
      "0.05874866858003493\n",
      "0.00074458255465202\n",
      "6.746133769181198e-09\n",
      "9.363044898793848e-08\n",
      "4.364275826810116e-06\n",
      "0.053346336741122824\n",
      "6.460539690167805e-11\n",
      "4.918303055964391e-07\n",
      "9.038954178494816e-17\n",
      "4.482919960765122e-11\n",
      "0.5354571985898486\n",
      "3.842874395629917e-15\n",
      "6.651437437916247e-08\n",
      "1.559367337052678e-05\n",
      "3.3447333543208426e-10\n",
      "2.072176717835675e-08\n",
      "5.308357381645583e-10\n",
      "0.0003576387943367679\n",
      "4.3134914767979125e-11\n",
      "5.982057323284409e-11\n",
      "0.4115897173350831\n",
      "4.970694463263643e-15\n",
      "1.6402421823530004e-05\n",
      "5.400766733837648e-05\n",
      "7.990060995854848e-06\n",
      "5.135146521882976e-18\n",
      "0.004073084901614311\n",
      "3.1927160667628293e-09\n",
      "4.45058842147112e-12\n",
      "0.08009496106934083\n",
      "3.665476392655714e-08\n",
      "2.8752519743382056e-05\n",
      "2.9691426832565926e-05\n",
      "2.432972051302987e-08\n",
      "3.6907861229142596e-06\n",
      "0.4140546070940102\n",
      "9.920004646629769e-05\n",
      "3.61688096425231e-05\n",
      "3.2242979778248906e-06\n",
      "0.0011935728423858166\n",
      "2.899807830138015e-05\n",
      "0.048245731281303106\n",
      "0.15254218884804527\n",
      "9.008230668175979e-05\n",
      "2.1009235714016166e-06\n",
      "7.569714330126802e-14\n",
      "1.054842890699941e-07\n",
      "1.1251678992892486e-05\n",
      "0.005403700523393689\n",
      "8.226264110941139e-06\n",
      "2.2181834748039547e-12\n",
      "0.0001686280981136259\n",
      "1.0036394838083885e-12\n",
      "4.850430600089011e-05\n",
      "1.157369099119007e-19\n",
      "3.5849434031110315e-14\n",
      "0.0003863545408733336\n",
      "6.268776835027668e-14\n",
      "0.11854959472658218\n",
      "0.0003044604460252927\n",
      "1.0914366107557508e-06\n",
      "2.5117848398465193e-07\n",
      "1.3657062557914497e-14\n",
      "5.784328956150412e-09\n",
      "0.017956980405017916\n",
      "2.5823546904616175e-05\n",
      "0.11901831293951366\n",
      "2.7481914247644876e-14\n",
      "0.0001662314304583491\n",
      "2.045311748495441e-06\n",
      "1.902146664890926e-09\n",
      "4.8619549079604534e-05\n",
      "3.030848305837606e-08\n"
     ]
    },
    {
     "name": "stdout",
     "output_type": "stream",
     "text": [
      "4.4062205267708375e-05\n",
      "4.522711402586229e-05\n",
      "8.941886352412293e-07\n",
      "0.00019241483161624428\n",
      "2.3058504836849394e-09\n"
     ]
    },
    {
     "data": {
      "text/plain": [
       "91"
      ]
     },
     "execution_count": 31,
     "metadata": {},
     "output_type": "execute_result"
    }
   ],
   "source": [
    "cnt = 0\n",
    "\n",
    "for i, x in enumerate(ts):\n",
    "    if granger_causality(x, ts[0], lag = 2, verbose = True, pval = 1e-10,check_one_lag = True):\n",
    "        cnt += 1\n",
    "cnt"
   ]
  },
  {
   "cell_type": "code",
   "execution_count": 4,
   "metadata": {},
   "outputs": [],
   "source": [
    "def brute_ground_truth(TS, lag, pval = 0.05):\n",
    "    n,m = TS.shape\n",
    "    truemat= np.zeros((n,n))\n",
    "    for i in tqdm(range(n)):\n",
    "        for j in range(n):\n",
    "            truemat[i,j] = granger_causality(TS[j], TS[i], lag = lag, verbose = False, pval = pval)\n",
    "    return truemat"
   ]
  },
  {
   "cell_type": "code",
   "execution_count": 42,
   "metadata": {},
   "outputs": [
    {
     "name": "stderr",
     "output_type": "stream",
     "text": [
      "100%|████████████████████████████████████████████████████████████████████████████████| 175/175 [03:20<00:00,  1.15s/it]\n"
     ]
    }
   ],
   "source": [
    "truemat = brute_ground_truth(ts,lag=2)"
   ]
  },
  {
   "cell_type": "code",
   "execution_count": 43,
   "metadata": {},
   "outputs": [
    {
     "data": {
      "text/plain": [
       "26017.0"
      ]
     },
     "execution_count": 43,
     "metadata": {},
     "output_type": "execute_result"
    }
   ],
   "source": [
    "truemat.sum()"
   ]
  },
  {
   "cell_type": "code",
   "execution_count": 8,
   "metadata": {},
   "outputs": [],
   "source": [
    "def random_walk(drift = 0, m = 128, sd = 1):\n",
    "    ls = [None] * m\n",
    "    ls[0] = np.random.normal(0,1)\n",
    "    for i in range(1, m):\n",
    "        ls[i] = ls[i-1] + drift + np.random.normal(0,sd)\n",
    "    return np.array(ls)\n",
    "    \n",
    "    "
   ]
  },
  {
   "cell_type": "code",
   "execution_count": 38,
   "metadata": {},
   "outputs": [],
   "source": [
    "walk = random_walk()"
   ]
  },
  {
   "cell_type": "code",
   "execution_count": 39,
   "metadata": {},
   "outputs": [
    {
     "data": {
      "image/png": "[encoded data removed]",
      "text/plain": [
       "<Figure size 432x288 with 1 Axes>"
      ]
     },
     "metadata": {
      "needs_background": "light"
     },
     "output_type": "display_data"
    }
   ],
   "source": [
    "plot(walk)"
   ]
  },
  {
   "cell_type": "code",
   "execution_count": 48,
   "metadata": {},
   "outputs": [
    {
     "data": {
      "image/png": "[encoded data removed]",
      "text/plain": [
       "<Figure size 432x288 with 1 Axes>"
      ]
     },
     "metadata": {
      "needs_background": "light"
     },
     "output_type": "display_data"
    }
   ],
   "source": [
    "noisydata = np.load('ecgarimanoisy200.npy')\n",
    "plot(noisydata[1])"
   ]
  },
  {
   "cell_type": "code",
   "execution_count": 49,
   "metadata": {},
   "outputs": [],
   "source": [
    "for i in range(1,200, 2):\n",
    "    noisydata[i] += random_walk(m = 96, sd= 0.1)"
   ]
  },
  {
   "cell_type": "code",
   "execution_count": 50,
   "metadata": {},
   "outputs": [
    {
     "data": {
      "image/png": "[encoded data removed]",
      "text/plain": [
       "<Figure size 432x288 with 1 Axes>"
      ]
     },
     "metadata": {
      "needs_background": "light"
     },
     "output_type": "display_data"
    }
   ],
   "source": [
    "plot(noisydata[1])"
   ]
  },
  {
   "cell_type": "code",
   "execution_count": 51,
   "metadata": {},
   "outputs": [
    {
     "name": "stdout",
     "output_type": "stream",
     "text": [
      "4.138003586410384e-23\n"
     ]
    },
    {
     "data": {
      "text/plain": [
       "True"
      ]
     },
     "execution_count": 51,
     "metadata": {},
     "output_type": "execute_result"
    }
   ],
   "source": [
    "granger_causality(noisydata[1], noisydata[0], lag = 2, verbose=True)"
   ]
  },
  {
   "cell_type": "code",
   "execution_count": 9,
   "metadata": {},
   "outputs": [],
   "source": [
    "def generate_with_rwalk(sd = 0.1):\n",
    "    noisydata = np.load('ecgarimanoisy200.npy')\n",
    "    plot(noisydata[1])\n",
    "    for i in range(1,200, 2):\n",
    "        walk = random_walk(m = 96, sd= sd)\n",
    "        noisydata[i] += walk\n",
    "    plot(noisydata[1])\n",
    "    return noisydata"
   ]
  },
  {
   "cell_type": "code",
   "execution_count": 10,
   "metadata": {},
   "outputs": [
    {
     "data": {
      "image/png": "[encoded data removed]",
      "text/plain": [
       "<Figure size 432x288 with 1 Axes>"
      ]
     },
     "metadata": {
      "needs_background": "light"
     },
     "output_type": "display_data"
    },
    {
     "data": {
      "image/png": "[encoded data removed]",
      "text/plain": [
       "<Figure size 432x288 with 1 Axes>"
      ]
     },
     "metadata": {
      "needs_background": "light"
     },
     "output_type": "display_data"
    },
    {
     "name": "stderr",
     "output_type": "stream",
     "text": [
      "100%|████████████████████████████████████████████████████████████████████████████████| 200/200 [04:38<00:00,  1.39s/it]\n",
      "100%|████████████████████████████████████████████████████████████████████████████████| 200/200 [04:37<00:00,  1.39s/it]\n",
      "100%|████████████████████████████████████████████████████████████████████████████████| 200/200 [04:30<00:00,  1.35s/it]\n",
      "100%|████████████████████████████████████████████████████████████████████████████████| 200/200 [04:32<00:00,  1.36s/it]\n"
     ]
    },
    {
     "data": {
      "image/png": "[encoded data removed]",
      "text/plain": [
       "<Figure size 432x288 with 1 Axes>"
      ]
     },
     "metadata": {
      "needs_background": "light"
     },
     "output_type": "display_data"
    },
    {
     "data": {
      "image/png": "[encoded data removed]",
      "text/plain": [
       "<Figure size 432x288 with 1 Axes>"
      ]
     },
     "metadata": {
      "needs_background": "light"
     },
     "output_type": "display_data"
    },
    {
     "name": "stderr",
     "output_type": "stream",
     "text": [
      "100%|████████████████████████████████████████████████████████████████████████████████| 200/200 [04:15<00:00,  1.28s/it]\n",
      "100%|████████████████████████████████████████████████████████████████████████████████| 200/200 [05:37<00:00,  1.69s/it]\n",
      "100%|████████████████████████████████████████████████████████████████████████████████| 200/200 [04:15<00:00,  1.28s/it]\n",
      "100%|████████████████████████████████████████████████████████████████████████████████| 200/200 [05:00<00:00,  1.50s/it]\n"
     ]
    },
    {
     "data": {
      "image/png": "[encoded data removed]",
      "text/plain": [
       "<Figure size 432x288 with 1 Axes>"
      ]
     },
     "metadata": {
      "needs_background": "light"
     },
     "output_type": "display_data"
    },
    {
     "data": {
      "image/png": "[encoded data removed]",
      "text/plain": [
       "<Figure size 432x288 with 1 Axes>"
      ]
     },
     "metadata": {
      "needs_background": "light"
     },
     "output_type": "display_data"
    },
    {
     "name": "stderr",
     "output_type": "stream",
     "text": [
      "100%|████████████████████████████████████████████████████████████████████████████████| 200/200 [04:59<00:00,  1.50s/it]\n",
      "100%|████████████████████████████████████████████████████████████████████████████████| 200/200 [05:07<00:00,  1.54s/it]\n",
      "100%|████████████████████████████████████████████████████████████████████████████████| 200/200 [04:52<00:00,  1.46s/it]\n",
      "100%|████████████████████████████████████████████████████████████████████████████████| 200/200 [05:28<00:00,  1.64s/it]\n"
     ]
    }
   ],
   "source": [
    "for sd in [0.1, 0.5, 1]:\n",
    "    newdata = generate_with_rwalk(sd = sd)\n",
    "    with open('ecgrwalksd{}.npy'.format(sd), 'wb') as f:\n",
    "        np.save(f, newdata)\n",
    "    for pval in [0.05, 0.001, 1e-9, 1e-20]:\n",
    "        truemat = brute_ground_truth(newdata,lag=2, pval = pval)\n",
    "        with open('ecgrwalksd{}_pval{}_truemat.npy'.format(sd, pval), 'wb') as f:\n",
    "            np.save(f, newdata)\n"
   ]
  },
  {
   "cell_type": "code",
   "execution_count": null,
   "metadata": {},
   "outputs": [],
   "source": []
  }
 ],
 "metadata": {
  "kernelspec": {
   "display_name": "Python 3",
   "language": "python",
   "name": "python3"
  },
  "language_info": {
   "codemirror_mode": {
    "name": "ipython",
    "version": 3
   },
   "file_extension": ".py",
   "mimetype": "text/x-python",
   "name": "python",
   "nbconvert_exporter": "python",
   "pygments_lexer": "ipython3",
   "version": "3.8.3"
  }
 },
 "nbformat": 4,
 "nbformat_minor": 4
}
