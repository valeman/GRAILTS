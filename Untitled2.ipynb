{
 "cells": [
  {
   "cell_type": "code",
   "execution_count": 1,
   "metadata": {},
   "outputs": [],
   "source": [
    "import numpy as np\n",
    "import matplotlib.pyplot as plt\n",
    "import pandas as pd\n",
    "from statsmodels.tsa.stattools import adfuller\n",
    "from causal_arima_test import load_dataset\n",
    "from Causal_inference import granger_causality,add_causality_dataset, generate_synthetic\n",
    "from time import time\n",
    "import pmdarima as pm\n",
    "from tqdm import tqdm"
   ]
  },
  {
   "cell_type": "code",
   "execution_count": 2,
   "metadata": {},
   "outputs": [
    {
     "name": "stdout",
     "output_type": "stream",
     "text": [
      "(100, 96)\n"
     ]
    },
    {
     "data": {
      "image/png": "[encoded data removed]",
      "text/plain": [
       "<Figure size 432x288 with 1 Axes>"
      ]
     },
     "metadata": {
      "needs_background": "light"
     },
     "output_type": "display_data"
    }
   ],
   "source": [
    "ts, train_labels, TEST, test_labels = load_dataset('', 'ECG200')\n",
    "\n",
    "print(ts.shape)\n",
    "\n",
    "x = np.arange(ts.shape[1])\n",
    "plt.plot(x, ts[3], c='blue')\n",
    "plt.show()"
   ]
  },
  {
   "cell_type": "code",
   "execution_count": 63,
   "metadata": {},
   "outputs": [],
   "source": [
    "def plot(x):\n",
    "    l = np.arange(x.shape[0])\n",
    "    plt.plot(l, x, c='blue')\n",
    "    plt.show()\n",
    "\n",
    "\n",
    "def adf_test(x, pval = 0.05):\n",
    "    \"\"\"\n",
    "    Test if the time series is stationary\n",
    "    :param x: time series\n",
    "    :return:\n",
    "    \"\"\"\n",
    "    dftest = adfuller(x, autolag='AIC')\n",
    "    if dftest[1] < pval:\n",
    "        return True\n",
    "    else:\n",
    "        return False\n",
    "    \n",
    "def difference(x):\n",
    "    m = x.shape[0]\n",
    "    diff = [x[0]]\n",
    "    for i in range(1,m):\n",
    "        val = x[i] - x[i-1]\n",
    "        diff.append(val)\n",
    "    x = diff\n",
    "\n",
    "    l = np.arange(m)\n",
    "    plt.plot(l, x, c='blue')\n",
    "    plt.show()\n",
    "\n",
    "def make_stationary(x, plot = False):\n",
    "    \"\"\"\n",
    "    Take difference until statinonary\n",
    "    :param x: time series\n",
    "    :return:\n",
    "    \"\"\"\n",
    "    for it in range(10):\n",
    "        diff = []\n",
    "        if adf_test(x):\n",
    "            return np.array(x)\n",
    "        for i in range(1, len(x)):\n",
    "            val = x[i] - x[i - 1]\n",
    "            diff.append(val)\n",
    "        x = diff\n",
    "\n",
    "        if it == 9:\n",
    "            print('Cannot be made stationary')\n",
    "\n",
    "        if plot:\n",
    "            l = np.arange(len(diff))\n",
    "            plt.plot(l, x, c='blue')\n",
    "            plt.show()\n",
    "    return np.array(x)\n",
    "\n",
    "\n",
    "def preprocess_dataset(TS):\n",
    "    \"\"\"\n",
    "    Make each time series stationary\n",
    "    :param TS: \n",
    "    :return: \n",
    "    \"\"\"\n",
    "    minlength = float('inf')\n",
    "    newTS = [None for i in range(TS.shape[0])]\n",
    "    for i in range(TS.shape[0]):\n",
    "        newTS[i] = make_stationary(TS[i])\n",
    "        minlength = min(minlength, len(newTS[i]))\n",
    "    for i in range(TS.shape[0]):\n",
    "        m = len(newTS[i])\n",
    "        newTS[i] = newTS[i][(m-minlength):]\n",
    "    return np.array(newTS)\n",
    "\n"
   ]
  },
  {
   "cell_type": "code",
   "execution_count": 64,
   "metadata": {},
   "outputs": [],
   "source": [
    "def generate_data(n, weight = 3, stationary = True):\n",
    "    ls = []\n",
    "    model = pm.auto_arima(ts[0], seasonal=False)\n",
    "    for i in tqdm(range(n)):\n",
    "        newstuff = model.arima_res_.simulate(len(ts[0]))\n",
    "        ls.append(newstuff)\n",
    "    data = np.array(ls)\n",
    "    if stationary:\n",
    "        data =  preprocess_dataset(data)\n",
    "    data, truemat = add_causality_dataset(data, lag=2, weight = weight)\n",
    "    with open('ecgarima{}.npy'.format(n), 'wb') as f:\n",
    "        np.save(f, data)\n",
    "    with open('ecgarima{}_truemat.npy'.format(n), 'wb') as f:\n",
    "        np.save(f, truemat)\n",
    "    return data\n",
    "    "
   ]
  },
  {
   "cell_type": "code",
   "execution_count": 67,
   "metadata": {},
   "outputs": [
    {
     "name": "stderr",
     "output_type": "stream",
     "text": [
      "100%|███████████████████████████████████████████████████████████████████████████████| 200/200 [00:00<00:00, 439.51it/s]\n"
     ]
    },
    {
     "data": {
      "text/plain": [
       "array([[ 0.11138141,  0.29719999,  0.20954409, ...,  0.05765104,\n",
       "        -0.02884146,  0.00860944],\n",
       "       [ 0.28194104,  0.18713365,  1.13916197, ..., -1.08332113,\n",
       "         2.00522614,  0.80537346],\n",
       "       [ 0.2164375 ,  0.1145734 , -0.17465067, ...,  0.19838338,\n",
       "         0.12963827, -0.25550275],\n",
       "       ...,\n",
       "       [-0.09962417,  0.26439215,  0.2736602 , ...,  2.75853689,\n",
       "         1.33557197,  1.12148832],\n",
       "       [-0.01919032, -0.41341191,  0.06480291, ...,  0.17818671,\n",
       "         0.16365875, -0.05413458],\n",
       "       [ 0.17268561,  0.08806908,  0.34973206, ..., -2.19368206,\n",
       "        -1.94062773,  1.73481693]])"
      ]
     },
     "execution_count": 67,
     "metadata": {},
     "output_type": "execute_result"
    }
   ],
   "source": [
    "generate_data(200, weight = 10, stationary = True)"
   ]
  },
  {
   "cell_type": "code",
   "execution_count": 35,
   "metadata": {},
   "outputs": [
    {
     "name": "stderr",
     "output_type": "stream",
     "text": [
      "100%|███████████████████████████████████████████████████████████████████████████████| 400/400 [00:00<00:00, 403.45it/s]\n"
     ]
    }
   ],
   "source": [
    "data = generate_data(400)"
   ]
  },
  {
   "cell_type": "code",
   "execution_count": 16,
   "metadata": {},
   "outputs": [
    {
     "data": {
      "image/png": "[encoded data removed]",
      "text/plain": [
       "<Figure size 432x288 with 1 Axes>"
      ]
     },
     "metadata": {
      "needs_background": "light"
     },
     "output_type": "display_data"
    }
   ],
   "source": [
    "plot(data[0])"
   ]
  },
  {
   "cell_type": "code",
   "execution_count": 32,
   "metadata": {},
   "outputs": [],
   "source": [
    "TS, trueMat = generate_synthetic(n =100, m = 128, lag = 2, ar = [1,0.4,0.4], ma = [1,1,1])"
   ]
  },
  {
   "cell_type": "code",
   "execution_count": 33,
   "metadata": {},
   "outputs": [
    {
     "data": {
      "image/png": "[encoded data removed]",
      "text/plain": [
       "<Figure size 432x288 with 1 Axes>"
      ]
     },
     "metadata": {
      "needs_background": "light"
     },
     "output_type": "display_data"
    }
   ],
   "source": [
    "plot(TS[1])"
   ]
  },
  {
   "cell_type": "code",
   "execution_count": 34,
   "metadata": {},
   "outputs": [
    {
     "data": {
      "text/plain": [
       "False"
      ]
     },
     "execution_count": 34,
     "metadata": {},
     "output_type": "execute_result"
    }
   ],
   "source": [
    "adf_test(TS[1])"
   ]
  },
  {
   "cell_type": "code",
   "execution_count": 36,
   "metadata": {},
   "outputs": [
    {
     "name": "stdout",
     "output_type": "stream",
     "text": [
      "0.7741220628151546\n",
      "0.024720338172692393\n",
      "0.41834133005832486\n",
      "0.672368246314968\n",
      "1.0\n",
      "7.01005748845991e-06\n",
      "0.7211241967684844\n",
      "0.4550323872351011\n",
      "0.10906389361501372\n",
      "0.15103089784526624\n",
      "0.6182666390527414\n",
      "0.32341577803865734\n",
      "0.437690277316342\n",
      "0.026678054632763234\n",
      "0.1851441640786089\n",
      "0.20790455231159521\n",
      "0.9064258320017352\n",
      "0.5058023670279848\n",
      "0.28249630149766203\n",
      "0.8953267700354675\n",
      "0.477943666144768\n",
      "0.3100806636842824\n",
      "0.26479016372390907\n",
      "0.22614601434130707\n",
      "0.7088368968508029\n",
      "0.3351156117741289\n",
      "0.3812682614457461\n",
      "0.025402188844442685\n",
      "0.6355538938343949\n",
      "0.00250169315933812\n",
      "0.3415705633913456\n",
      "0.28034263625756395\n",
      "0.1062961205162069\n",
      "0.3851635720931229\n",
      "0.49150424058211784\n",
      "0.29005823796304653\n",
      "0.004587076678335981\n",
      "0.08398501486875942\n",
      "0.08821529375861192\n",
      "0.7553646569472519\n",
      "0.03404791205378177\n",
      "0.6400764526916225\n",
      "0.46014605851227686\n",
      "0.030618302558510176\n",
      "0.17311258263025125\n",
      "0.2578466792823332\n",
      "0.6341080573794442\n",
      "0.3808395276094666\n",
      "0.755331128073501\n",
      "0.7516786975988184\n",
      "0.08958598340236065\n",
      "0.37428458788070884\n",
      "0.4267131708927464\n",
      "0.2829926323518786\n",
      "0.9187589790510743\n",
      "0.09248838808530369\n",
      "0.3999829415292674\n",
      "0.20581164067416713\n",
      "0.7586043636387194\n",
      "0.8059908680169299\n",
      "0.14748309957968259\n",
      "0.10633900743662503\n",
      "0.592031720078111\n",
      "0.18623208367996963\n",
      "0.5279347048976889\n",
      "0.2361924571742308\n",
      "0.9820136171594749\n",
      "0.3241703718809384\n",
      "0.014718935168268653\n",
      "0.019287756383909574\n",
      "0.365355648197105\n",
      "0.688565350544567\n",
      "0.5685483955348146\n",
      "0.7008569074792548\n",
      "0.5021430088881275\n",
      "0.3167943437616995\n",
      "0.5421801205191201\n",
      "0.1659719524968072\n",
      "0.017162695945313385\n",
      "0.15920090416425806\n",
      "0.7180782989404912\n",
      "0.8637663685037249\n",
      "0.9113148909831703\n",
      "0.20397250271199516\n",
      "0.42399239456577564\n",
      "0.6554110586558368\n",
      "0.4547269684500781\n",
      "0.992210735262342\n",
      "0.003393650194379646\n",
      "0.6291864036096982\n",
      "0.38999502542471576\n",
      "0.6092460749534017\n",
      "0.514749545541723\n",
      "0.5488306102321473\n",
      "0.7843963660685329\n",
      "0.07819037293158138\n",
      "0.9479117307105477\n",
      "0.948129567980714\n",
      "0.41375280298423034\n",
      "0.28781226008688116\n"
     ]
    },
    {
     "data": {
      "text/plain": [
       "1"
      ]
     },
     "execution_count": 36,
     "metadata": {},
     "output_type": "execute_result"
    }
   ],
   "source": [
    "cnt = 0\n",
    "\n",
    "for i, x in enumerate(TS):\n",
    "    if granger_causality(x, TS[4], lag = 2, verbose = True, pval = 0.00001):\n",
    "        cnt += 1\n",
    "cnt"
   ]
  },
  {
   "cell_type": "code",
   "execution_count": 53,
   "metadata": {},
   "outputs": [],
   "source": [
    "ts, _ = add_causality_dataset(ts, lag=2, weight = 10)"
   ]
  },
  {
   "cell_type": "code",
   "execution_count": 58,
   "metadata": {},
   "outputs": [
    {
     "name": "stdout",
     "output_type": "stream",
     "text": [
      "4.403605237890029e-06\n",
      "1.3563672887234082e-06\n",
      "5.1732375323022595e-06\n",
      "1.7164302146170158e-06\n",
      "0.27510448647492064\n",
      "1.4616708991044888e-11\n",
      "0.0011000507814152836\n",
      "0.03366472526594695\n",
      "0.09924858862971213\n",
      "2.8374078199965926e-15\n",
      "1.325858955934812e-07\n",
      "8.490489457941257e-06\n",
      "0.2708354000470206\n",
      "0.02483396702286667\n",
      "0.008137406404111909\n",
      "0.003267082943525782\n",
      "0.36990865012014085\n",
      "1.2361398581985054e-13\n",
      "5.6368859809987544e-05\n",
      "0.06359953584954259\n",
      "0.40386227579255807\n",
      "0.632029031554851\n",
      "2.914021548731316e-11\n",
      "8.129241284943919e-10\n",
      "0.17875304690351076\n",
      "3.096945734091783e-19\n",
      "0.022442920217262567\n",
      "6.875285599779243e-12\n",
      "0.057075279040428806\n",
      "1.4699991474410103e-05\n",
      "0.016115940553263174\n",
      "8.036405702871743e-17\n",
      "0.13418980660067187\n",
      "1.1455199239828837e-07\n",
      "9.989899011785257e-09\n",
      "1.7591564552942972e-08\n",
      "0.13981891508295693\n",
      "0.02504447236342221\n",
      "0.010798782763814394\n",
      "0.21185369448733843\n",
      "0.00043465010544807054\n",
      "0.00017060776378540556\n",
      "0.2541363991674538\n",
      "2.168426344466506e-18\n",
      "0.14213039730189717\n",
      "3.2428774755915694e-08\n",
      "0.00017235144676720188\n",
      "0.0002774979840297764\n",
      "8.406585448401893e-08\n",
      "1.7938777412423044e-15\n",
      "0.040989645931867234\n",
      "6.045227333554901e-08\n",
      "0.05621113194108422\n",
      "0.00012207865235842693\n",
      "0.8673203453870899\n",
      "1.4577085220127717e-10\n",
      "0.05509783676436177\n",
      "0.11654181335821444\n",
      "0.00011202395972390118\n",
      "5.9836828962085e-14\n",
      "5.233538052067845e-08\n",
      "8.399402326117178e-07\n",
      "8.108707198090728e-05\n",
      "0.013798864686522335\n",
      "1.0\n",
      "5.892137036190081e-50\n",
      "0.00948047822010353\n",
      "1.2016031665944175e-20\n",
      "0.0007165129141482968\n",
      "1.3765010042919325e-10\n",
      "5.537348882744538e-07\n",
      "1.6018708387310178e-06\n",
      "0.04136030739337521\n",
      "0.01936177282974128\n",
      "0.09103145172206444\n",
      "1.3384237968982433e-17\n",
      "0.25261684184805444\n",
      "1.4061909548869222e-09\n",
      "2.9117918947935295e-07\n",
      "1.3154726234084218e-06\n",
      "0.6422771918277947\n",
      "0.0007808492194591001\n",
      "0.00607189552851052\n",
      "1.7941369179768118e-10\n",
      "0.00032953623396859305\n",
      "0.0005741717378313553\n",
      "0.019318986096401685\n",
      "0.13151839364508597\n",
      "0.009193144047708714\n",
      "0.004683325777737746\n",
      "0.0018403041700468885\n",
      "0.00015841739349255234\n",
      "5.321514924170922e-11\n",
      "3.2446989574995935e-11\n",
      "8.517422297852545e-05\n",
      "8.347612841691551e-05\n",
      "0.004676760530497669\n",
      "0.3805102990209769\n",
      "5.333680126561334e-05\n",
      "9.506769770284766e-20\n"
     ]
    },
    {
     "data": {
      "text/plain": [
       "1"
      ]
     },
     "execution_count": 58,
     "metadata": {},
     "output_type": "execute_result"
    }
   ],
   "source": [
    "cnt = 0\n",
    "\n",
    "for i, x in enumerate(ts):\n",
    "    if granger_causality(x, ts[64], lag = 2, verbose = True, pval = 1e-30):\n",
    "        cnt += 1\n",
    "cnt"
   ]
  },
  {
   "cell_type": "code",
   "execution_count": null,
   "metadata": {},
   "outputs": [],
   "source": []
  }
 ],
 "metadata": {
  "kernelspec": {
   "display_name": "Python 3",
   "language": "python",
   "name": "python3"
  },
  "language_info": {
   "codemirror_mode": {
    "name": "ipython",
    "version": 3
   },
   "file_extension": ".py",
   "mimetype": "text/x-python",
   "name": "python",
   "nbconvert_exporter": "python",
   "pygments_lexer": "ipython3",
   "version": "3.8.3"
  }
 },
 "nbformat": 4,
 "nbformat_minor": 4
}
