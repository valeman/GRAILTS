{
 "cells": [
  {
   "cell_type": "code",
   "execution_count": 1,
   "metadata": {},
   "outputs": [],
   "source": [
    "import numpy as np\n",
    "import matplotlib.pyplot as plt\n",
    "import pandas as pd\n",
    "from statsmodels.tsa.stattools import adfuller\n",
    "from causal_ucr import load_dataset\n",
    "from Causal_inference import granger_causality,add_causality_dataset, generate_synthetic\n",
    "from time import time\n",
    "import pmdarima as pm\n",
    "from tqdm import tqdm"
   ]
  },
  {
   "cell_type": "code",
   "execution_count": 2,
   "metadata": {},
   "outputs": [
    {
     "name": "stdout",
     "output_type": "stream",
     "text": [
      "(100, 96)\n"
     ]
    },
    {
     "data": {
      "image/png": "[encoded data removed]",
      "text/plain": [
       "<Figure size 432x288 with 1 Axes>"
      ]
     },
     "metadata": {
      "needs_background": "light"
     },
     "output_type": "display_data"
    }
   ],
   "source": [
    "ts, train_labels, TEST, test_labels = load_dataset('', 'ECG200')\n",
    "\n",
    "print(ts.shape)\n",
    "\n",
    "x = np.arange(ts.shape[1])\n",
    "plt.plot(x, ts[3], c='blue')\n",
    "plt.show()"
   ]
  },
  {
   "cell_type": "code",
   "execution_count": 3,
   "metadata": {},
   "outputs": [],
   "source": [
    "def plot(x):\n",
    "    l = np.arange(x.shape[0])\n",
    "    plt.plot(l, x, c='blue')\n",
    "    plt.show()\n",
    "\n",
    "\n",
    "def adf_test(x, pval = 0.05):\n",
    "    \"\"\"\n",
    "    Test if the time series is stationary\n",
    "    :param x: time series\n",
    "    :return:\n",
    "    \"\"\"\n",
    "    dftest = adfuller(x, autolag='AIC')\n",
    "    if dftest[1] < pval:\n",
    "        return True\n",
    "    else:\n",
    "        return False\n",
    "    \n",
    "def difference(x):\n",
    "    m = x.shape[0]\n",
    "    diff = [x[0]]\n",
    "    for i in range(1,m):\n",
    "        val = x[i] - x[i-1]\n",
    "        diff.append(val)\n",
    "    x = diff\n",
    "\n",
    "    l = np.arange(m)\n",
    "    plt.plot(l, x, c='blue')\n",
    "    plt.show()\n",
    "\n",
    "def make_stationary(x, plot = False):\n",
    "    \"\"\"\n",
    "    Take difference until statinonary\n",
    "    :param x: time series\n",
    "    :return:\n",
    "    \"\"\"\n",
    "    for it in range(10):\n",
    "        diff = []\n",
    "        if adf_test(x):\n",
    "            return np.array(x)\n",
    "        for i in range(1, len(x)):\n",
    "            val = x[i] - x[i - 1]\n",
    "            diff.append(val)\n",
    "        x = diff\n",
    "\n",
    "        if it == 9:\n",
    "            print('Cannot be made stationary')\n",
    "\n",
    "        if plot:\n",
    "            l = np.arange(len(diff))\n",
    "            plt.plot(l, x, c='blue')\n",
    "            plt.show()\n",
    "    return np.array(x)\n",
    "\n",
    "\n",
    "def preprocess_dataset(TS):\n",
    "    \"\"\"\n",
    "    Make each time series stationary\n",
    "    :param TS: \n",
    "    :return: \n",
    "    \"\"\"\n",
    "    minlength = float('inf')\n",
    "    newTS = [None for i in range(TS.shape[0])]\n",
    "    for i in range(TS.shape[0]):\n",
    "        newTS[i] = make_stationary(TS[i])\n",
    "        minlength = min(minlength, len(newTS[i]))\n",
    "    for i in range(TS.shape[0]):\n",
    "        m = len(newTS[i])\n",
    "        newTS[i] = newTS[i][(m-minlength):]\n",
    "    return np.array(newTS)\n",
    "\n"
   ]
  },
  {
   "cell_type": "code",
   "execution_count": 33,
   "metadata": {},
   "outputs": [],
   "source": [
    "def generate_data(n):\n",
    "    ls = []\n",
    "    model = pm.auto_arima(ts[0], seasonal=False)\n",
    "    for i in tqdm(range(n)):\n",
    "        newstuff = model.arima_res_.simulate(len(ts[0]))\n",
    "        ls.append(newstuff)\n",
    "    data = np.array(ls)\n",
    "    data =  preprocess_dataset(data)\n",
    "    data, truemat = add_causality_dataset(data, lag=2, weight = 3)\n",
    "    with open('ecgarima{}.npy'.format(n), 'wb') as f:\n",
    "        np.save(f, data)\n",
    "    with open('ecgarima{}_truemat.npy'.format(n), 'wb') as f:\n",
    "        np.save(f, truemat)\n",
    "    return data\n",
    "    "
   ]
  },
  {
   "cell_type": "code",
   "execution_count": 34,
   "metadata": {},
   "outputs": [
    {
     "name": "stderr",
     "output_type": "stream",
     "text": [
      "100%|███████████████████████████████████████████████████████████████████████████████| 200/200 [00:00<00:00, 371.82it/s]\n"
     ]
    },
    {
     "data": {
      "text/plain": [
       "array([[-0.18358183, -0.10928758,  0.26492944, ..., -0.40275114,\n",
       "         0.19433107,  0.15395313],\n",
       "       [-0.26127174, -0.05733227, -0.71766746, ...,  1.35372737,\n",
       "        -0.11404833, -1.30096868],\n",
       "       [-0.101551  ,  0.14795103,  0.1905275 , ...,  0.38813917,\n",
       "         0.06859779,  0.02474334],\n",
       "       ...,\n",
       "       [ 0.27624175,  0.30066819,  1.09623933, ...,  0.39048632,\n",
       "        -0.18803885, -0.42921326],\n",
       "       [-0.15184493, -0.28853743,  0.10166177, ..., -0.16866545,\n",
       "         0.06735792, -0.06978965],\n",
       "       [ 0.03541453,  0.1670943 , -0.25652722, ...,  0.43518384,\n",
       "        -0.58826432, -0.63038549]])"
      ]
     },
     "execution_count": 34,
     "metadata": {},
     "output_type": "execute_result"
    }
   ],
   "source": [
    "generate_data(200)"
   ]
  },
  {
   "cell_type": "code",
   "execution_count": 35,
   "metadata": {},
   "outputs": [
    {
     "name": "stderr",
     "output_type": "stream",
     "text": [
      "100%|███████████████████████████████████████████████████████████████████████████████| 400/400 [00:00<00:00, 403.45it/s]\n"
     ]
    }
   ],
   "source": [
    "data = generate_data(400)"
   ]
  },
  {
   "cell_type": "code",
   "execution_count": 16,
   "metadata": {},
   "outputs": [
    {
     "data": {
      "image/png": "[encoded data removed]",
      "text/plain": [
       "<Figure size 432x288 with 1 Axes>"
      ]
     },
     "metadata": {
      "needs_background": "light"
     },
     "output_type": "display_data"
    }
   ],
   "source": [
    "plot(data[0])"
   ]
  },
  {
   "cell_type": "code",
   "execution_count": null,
   "metadata": {},
   "outputs": [],
   "source": []
  }
 ],
 "metadata": {
  "kernelspec": {
   "display_name": "Python 3",
   "language": "python",
   "name": "python3"
  },
  "language_info": {
   "codemirror_mode": {
    "name": "ipython",
    "version": 3
   },
   "file_extension": ".py",
   "mimetype": "text/x-python",
   "name": "python",
   "nbconvert_exporter": "python",
   "pygments_lexer": "ipython3",
   "version": "3.8.3"
  }
 },
 "nbformat": 4,
 "nbformat_minor": 4
}
