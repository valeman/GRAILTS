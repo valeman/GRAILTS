{
 "cells": [
  {
   "cell_type": "code",
   "execution_count": 34,
   "metadata": {},
   "outputs": [],
   "source": [
    "import numpy as np\n",
    "import matplotlib.pyplot as plt\n",
    "import pandas as pd\n",
    "from statsmodels.tsa.stattools import adfuller\n",
    "from causal_arima_test import load_dataset\n",
    "from Causal_inference import granger_causality,add_causality_dataset, generate_synthetic\n",
    "from time import time\n",
    "import pmdarima as pm\n",
    "from tqdm import tqdm\n",
    "from statsmodels.tsa.arima_model import ARMA"
   ]
  },
  {
   "cell_type": "code",
   "execution_count": 35,
   "metadata": {},
   "outputs": [
    {
     "name": "stdout",
     "output_type": "stream",
     "text": [
      "(100, 96)\n"
     ]
    },
    {
     "data": {
      "image/png": "[encoded data removed]",
      "text/plain": [
       "<Figure size 432x288 with 1 Axes>"
      ]
     },
     "metadata": {
      "needs_background": "light"
     },
     "output_type": "display_data"
    }
   ],
   "source": [
    "ts, train_labels, TEST, test_labels = load_dataset('', 'ECG200', testenv = 'windows')\n",
    "\n",
    "print(ts.shape)\n",
    "\n",
    "plot(ts[0])"
   ]
  },
  {
   "cell_type": "code",
   "execution_count": 8,
   "metadata": {},
   "outputs": [],
   "source": [
    "def plot(x):\n",
    "    l = np.arange(x.shape[0])\n",
    "    plt.plot(l, x, c='blue')\n",
    "    plt.show()\n",
    "\n",
    "\n",
    "def adf_test(x, pval = 0.05):\n",
    "    \"\"\"\n",
    "    Test if the time series is stationary\n",
    "    :param x: time series\n",
    "    :return:\n",
    "    \"\"\"\n",
    "    dftest = adfuller(x, autolag='AIC')\n",
    "    if dftest[1] < pval:\n",
    "        return True\n",
    "    else:\n",
    "        return False\n",
    "    \n",
    "def difference(x):\n",
    "    m = x.shape[0]\n",
    "    diff = [x[0]]\n",
    "    for i in range(1,m):\n",
    "        val = x[i] - x[i-1]\n",
    "        diff.append(val)\n",
    "    diff = np.array(diff)\n",
    "    return diff\n",
    "\n",
    "def make_stationary(x, plot = False):\n",
    "    \"\"\"\n",
    "    Take difference until statinonary\n",
    "    :param x: time series\n",
    "    :return:\n",
    "    \"\"\"\n",
    "    for it in range(10):\n",
    "        diff = []\n",
    "        if adf_test(x):\n",
    "            return np.array(x)\n",
    "        for i in range(1, len(x)):\n",
    "            val = x[i] - x[i - 1]\n",
    "            diff.append(val)\n",
    "        x = diff\n",
    "\n",
    "        if it == 9:\n",
    "            print('Cannot be made stationary')\n",
    "\n",
    "        if plot:\n",
    "            l = np.arange(len(diff))\n",
    "            plt.plot(l, x, c='blue')\n",
    "            plt.show()\n",
    "    return np.array(x)\n",
    "\n",
    "\n",
    "def preprocess_dataset(TS):\n",
    "    \"\"\"\n",
    "    Make each time series stationary\n",
    "    :param TS: \n",
    "    :return: \n",
    "    \"\"\"\n",
    "    minlength = float('inf')\n",
    "    newTS = [None for i in range(TS.shape[0])]\n",
    "    for i in range(TS.shape[0]):\n",
    "        newTS[i] = make_stationary(TS[i])\n",
    "        minlength = min(minlength, len(newTS[i]))\n",
    "    for i in range(TS.shape[0]):\n",
    "        m = len(newTS[i])\n",
    "        newTS[i] = newTS[i][(m-minlength):]\n",
    "    return np.array(newTS)\n",
    "\n",
    "def add_causality(x, y, lag):\n",
    "    m = y.shape[0]\n",
    "    for i in range(m-lag):\n",
    "        y[i + lag] += x[i]\n"
   ]
  },
  {
   "cell_type": "code",
   "execution_count": 15,
   "metadata": {},
   "outputs": [
    {
     "ename": "AttributeError",
     "evalue": "'SARIMAXResults' object has no attribute '_params_ma'",
     "output_type": "error",
     "traceback": [
      "\u001b[1;31m---------------------------------------------------------------------------\u001b[0m",
      "\u001b[1;31mAttributeError\u001b[0m                            Traceback (most recent call last)",
      "\u001b[1;32m<ipython-input-15-92097f3a4b7a>\u001b[0m in \u001b[0;36m<module>\u001b[1;34m\u001b[0m\n\u001b[0;32m      1\u001b[0m \u001b[0mmodel\u001b[0m \u001b[1;33m=\u001b[0m \u001b[0mpm\u001b[0m\u001b[1;33m.\u001b[0m\u001b[0mauto_arima\u001b[0m\u001b[1;33m(\u001b[0m\u001b[0mts\u001b[0m\u001b[1;33m[\u001b[0m\u001b[1;36m0\u001b[0m\u001b[1;33m]\u001b[0m\u001b[1;33m,\u001b[0m \u001b[0mseasonal\u001b[0m\u001b[1;33m=\u001b[0m\u001b[1;32mFalse\u001b[0m\u001b[1;33m)\u001b[0m\u001b[1;33m\u001b[0m\u001b[1;33m\u001b[0m\u001b[0m\n\u001b[0;32m      2\u001b[0m \u001b[0mres\u001b[0m \u001b[1;33m=\u001b[0m \u001b[0mmodel\u001b[0m\u001b[1;33m.\u001b[0m\u001b[0marima_res_\u001b[0m\u001b[1;33m\u001b[0m\u001b[1;33m\u001b[0m\u001b[0m\n\u001b[1;32m----> 3\u001b[1;33m \u001b[0mres\u001b[0m\u001b[1;33m.\u001b[0m\u001b[0mmaparams\u001b[0m\u001b[1;33m\u001b[0m\u001b[1;33m\u001b[0m\u001b[0m\n\u001b[0m",
      "\u001b[1;32m~\\anaconda3\\lib\\site-packages\\statsmodels\\base\\wrapper.py\u001b[0m in \u001b[0;36m__getattribute__\u001b[1;34m(self, attr)\u001b[0m\n\u001b[0;32m     34\u001b[0m             \u001b[1;32mpass\u001b[0m\u001b[1;33m\u001b[0m\u001b[1;33m\u001b[0m\u001b[0m\n\u001b[0;32m     35\u001b[0m \u001b[1;33m\u001b[0m\u001b[0m\n\u001b[1;32m---> 36\u001b[1;33m         \u001b[0mobj\u001b[0m \u001b[1;33m=\u001b[0m \u001b[0mgetattr\u001b[0m\u001b[1;33m(\u001b[0m\u001b[0mresults\u001b[0m\u001b[1;33m,\u001b[0m \u001b[0mattr\u001b[0m\u001b[1;33m)\u001b[0m\u001b[1;33m\u001b[0m\u001b[1;33m\u001b[0m\u001b[0m\n\u001b[0m\u001b[0;32m     37\u001b[0m         \u001b[0mdata\u001b[0m \u001b[1;33m=\u001b[0m \u001b[0mresults\u001b[0m\u001b[1;33m.\u001b[0m\u001b[0mmodel\u001b[0m\u001b[1;33m.\u001b[0m\u001b[0mdata\u001b[0m\u001b[1;33m\u001b[0m\u001b[1;33m\u001b[0m\u001b[0m\n\u001b[0;32m     38\u001b[0m         \u001b[0mhow\u001b[0m \u001b[1;33m=\u001b[0m \u001b[0mself\u001b[0m\u001b[1;33m.\u001b[0m\u001b[0m_wrap_attrs\u001b[0m\u001b[1;33m.\u001b[0m\u001b[0mget\u001b[0m\u001b[1;33m(\u001b[0m\u001b[0mattr\u001b[0m\u001b[1;33m)\u001b[0m\u001b[1;33m\u001b[0m\u001b[1;33m\u001b[0m\u001b[0m\n",
      "\u001b[1;32mpandas\\_libs\\properties.pyx\u001b[0m in \u001b[0;36mpandas._libs.properties.CachedProperty.__get__\u001b[1;34m()\u001b[0m\n",
      "\u001b[1;32m~\\anaconda3\\lib\\site-packages\\statsmodels\\tsa\\statespace\\sarimax.py\u001b[0m in \u001b[0;36mmaparams\u001b[1;34m(self)\u001b[0m\n\u001b[0;32m   1942\u001b[0m         \u001b[0mzero\u001b[0m\u001b[1;33m.\u001b[0m\u001b[1;33m\u001b[0m\u001b[1;33m\u001b[0m\u001b[0m\n\u001b[0;32m   1943\u001b[0m         \"\"\"\n\u001b[1;32m-> 1944\u001b[1;33m         \u001b[1;32mreturn\u001b[0m \u001b[0mself\u001b[0m\u001b[1;33m.\u001b[0m\u001b[0m_params_ma\u001b[0m\u001b[1;33m\u001b[0m\u001b[1;33m\u001b[0m\u001b[0m\n\u001b[0m\u001b[0;32m   1945\u001b[0m \u001b[1;33m\u001b[0m\u001b[0m\n\u001b[0;32m   1946\u001b[0m     \u001b[1;33m@\u001b[0m\u001b[0mcache_readonly\u001b[0m\u001b[1;33m\u001b[0m\u001b[1;33m\u001b[0m\u001b[0m\n",
      "\u001b[1;31mAttributeError\u001b[0m: 'SARIMAXResults' object has no attribute '_params_ma'"
     ]
    }
   ],
   "source": [
    "model = pm.auto_arima(ts[0], seasonal=False)\n",
    "res = model.arima_res_"
   ]
  },
  {
   "cell_type": "code",
   "execution_count": 21,
   "metadata": {},
   "outputs": [
    {
     "name": "stdout",
     "output_type": "stream",
     "text": [
      "[ 1.         -0.89828956]\n",
      "[ 1.          0.5820661  -0.33288251]\n"
     ]
    },
    {
     "data": {
      "text/plain": [
       "{'seasonal_periods': 0,\n",
       " 'measurement_error': False,\n",
       " 'time_varying_regression': False,\n",
       " 'simple_differencing': False,\n",
       " 'enforce_stationarity': True,\n",
       " 'enforce_invertibility': True,\n",
       " 'hamilton_representation': False,\n",
       " 'concentrate_scale': False,\n",
       " 'trend_offset': 1,\n",
       " 'order': (1, 0, 2),\n",
       " 'seasonal_order': (0, 0, 0, 0),\n",
       " 'k_diff': 0,\n",
       " 'k_seasonal_diff': 0,\n",
       " 'k_ar': 1,\n",
       " 'k_ma': 2,\n",
       " 'k_seasonal_ar': 0,\n",
       " 'k_seasonal_ma': 0,\n",
       " 'k_ar_params': 1,\n",
       " 'k_ma_params': 2,\n",
       " 'trend': None,\n",
       " 'k_trend': 0,\n",
       " 'k_exog': 0,\n",
       " 'mle_regression': False,\n",
       " 'state_regression': False}"
      ]
     },
     "execution_count": 21,
     "metadata": {},
     "output_type": "execute_result"
    }
   ],
   "source": [
    "print(res.polynomial_reduced_ar)\n",
    "print(res.polynomial_ma)\n",
    "res.specification"
   ]
  },
  {
   "cell_type": "code",
   "execution_count": 23,
   "metadata": {},
   "outputs": [
    {
     "name": "stdout",
     "output_type": "stream",
     "text": [
      "(5, 1, 0)\n",
      "(0, 1, 0)\n",
      "(5, 1, 0)\n",
      "(5, 1, 0)\n",
      "(1, 0, 2)\n",
      "(2, 1, 1)\n",
      "(3, 1, 2)\n",
      "(2, 0, 0)\n",
      "(2, 1, 2)\n",
      "(1, 0, 1)\n",
      "(5, 0, 1)\n",
      "(0, 1, 1)\n",
      "(4, 1, 1)\n",
      "(5, 0, 1)\n",
      "(4, 1, 2)\n",
      "(1, 0, 1)\n",
      "(4, 0, 1)\n",
      "(1, 0, 2)\n",
      "(5, 1, 0)\n",
      "(4, 1, 2)\n"
     ]
    }
   ],
   "source": [
    "for i in range(20):\n",
    "    model = pm.auto_arima(ts[i], seasonal=False)\n",
    "    res = model.arima_res_\n",
    "    #print((len(res.polynomial_ar)-1, len(res.polynomial_ma) - 1))\n",
    "    print(res.specification['order'])"
   ]
  },
  {
   "cell_type": "code",
   "execution_count": 6,
   "metadata": {},
   "outputs": [
    {
     "name": "stdout",
     "output_type": "stream",
     "text": [
      "                               SARIMAX Results                                \n",
      "==============================================================================\n",
      "Dep. Variable:                      y   No. Observations:                   96\n",
      "Model:               SARIMAX(5, 1, 0)   Log Likelihood                  60.974\n",
      "Date:                Mon, 21 Jun 2021   AIC                           -109.948\n",
      "Time:                        15:18:01   BIC                            -94.625\n",
      "Sample:                             0   HQIC                          -103.756\n",
      "                                 - 96                                         \n",
      "Covariance Type:                  opg                                         \n",
      "==============================================================================\n",
      "                 coef    std err          z      P>|z|      [0.025      0.975]\n",
      "------------------------------------------------------------------------------\n",
      "ar.L1          1.2599      0.106     11.896      0.000       1.052       1.468\n",
      "ar.L2         -1.2699      0.148     -8.564      0.000      -1.561      -0.979\n",
      "ar.L3          1.1987      0.151      7.952      0.000       0.903       1.494\n",
      "ar.L4         -0.8870      0.142     -6.239      0.000      -1.166      -0.608\n",
      "ar.L5          0.3125      0.093      3.369      0.001       0.131       0.494\n",
      "sigma2         0.0157      0.002      7.490      0.000       0.012       0.020\n",
      "===================================================================================\n",
      "Ljung-Box (Q):                      101.04   Jarque-Bera (JB):                 4.50\n",
      "Prob(Q):                              0.00   Prob(JB):                         0.11\n",
      "Heteroskedasticity (H):               0.29   Skew:                            -0.09\n",
      "Prob(H) (two-sided):                  0.00   Kurtosis:                         4.05\n",
      "===================================================================================\n",
      "\n",
      "Warnings:\n",
      "[1] Covariance matrix calculated using the outer product of gradients (complex-step).\n"
     ]
    }
   ],
   "source": [
    "print(res.summary())"
   ]
  },
  {
   "cell_type": "code",
   "execution_count": 11,
   "metadata": {},
   "outputs": [
    {
     "data": {
      "text/html": [
       "<table class=\"simpletable\">\n",
       "<caption>SARIMAX Results</caption>\n",
       "<tr>\n",
       "  <th>Dep. Variable:</th>           <td>y</td>        <th>  No. Observations:  </th>   <td>96</td>   \n",
       "</tr>\n",
       "<tr>\n",
       "  <th>Model:</th>           <td>SARIMAX(2, 1, 1)</td> <th>  Log Likelihood     </th> <td>-56.600</td>\n",
       "</tr>\n",
       "<tr>\n",
       "  <th>Date:</th>            <td>Mon, 21 Jun 2021</td> <th>  AIC                </th> <td>121.199</td>\n",
       "</tr>\n",
       "<tr>\n",
       "  <th>Time:</th>                <td>15:19:05</td>     <th>  BIC                </th> <td>131.415</td>\n",
       "</tr>\n",
       "<tr>\n",
       "  <th>Sample:</th>                  <td>0</td>        <th>  HQIC               </th> <td>125.327</td>\n",
       "</tr>\n",
       "<tr>\n",
       "  <th></th>                       <td> - 96</td>      <th>                     </th>    <td> </td>   \n",
       "</tr>\n",
       "<tr>\n",
       "  <th>Covariance Type:</th>        <td>opg</td>       <th>                     </th>    <td> </td>   \n",
       "</tr>\n",
       "</table>\n",
       "<table class=\"simpletable\">\n",
       "<tr>\n",
       "     <td></td>       <th>coef</th>     <th>std err</th>      <th>z</th>      <th>P>|z|</th>  <th>[0.025</th>    <th>0.975]</th>  \n",
       "</tr>\n",
       "<tr>\n",
       "  <th>ar.L1</th>  <td>   -1.0028</td> <td>    0.105</td> <td>   -9.518</td> <td> 0.000</td> <td>   -1.209</td> <td>   -0.796</td>\n",
       "</tr>\n",
       "<tr>\n",
       "  <th>ar.L2</th>  <td>   -0.4177</td> <td>    0.101</td> <td>   -4.123</td> <td> 0.000</td> <td>   -0.616</td> <td>   -0.219</td>\n",
       "</tr>\n",
       "<tr>\n",
       "  <th>ma.L1</th>  <td>    0.8574</td> <td>    0.116</td> <td>    7.388</td> <td> 0.000</td> <td>    0.630</td> <td>    1.085</td>\n",
       "</tr>\n",
       "<tr>\n",
       "  <th>sigma2</th> <td>    0.1911</td> <td>    0.021</td> <td>    9.155</td> <td> 0.000</td> <td>    0.150</td> <td>    0.232</td>\n",
       "</tr>\n",
       "</table>\n",
       "<table class=\"simpletable\">\n",
       "<tr>\n",
       "  <th>Ljung-Box (Q):</th>          <td>23.97</td> <th>  Jarque-Bera (JB):  </th> <td>32.42</td>\n",
       "</tr>\n",
       "<tr>\n",
       "  <th>Prob(Q):</th>                <td>0.98</td>  <th>  Prob(JB):          </th> <td>0.00</td> \n",
       "</tr>\n",
       "<tr>\n",
       "  <th>Heteroskedasticity (H):</th> <td>0.15</td>  <th>  Skew:              </th> <td>-0.43</td>\n",
       "</tr>\n",
       "<tr>\n",
       "  <th>Prob(H) (two-sided):</th>    <td>0.00</td>  <th>  Kurtosis:          </th> <td>5.73</td> \n",
       "</tr>\n",
       "</table><br/><br/>Warnings:<br/>[1] Covariance matrix calculated using the outer product of gradients (complex-step)."
      ],
      "text/plain": [
       "<class 'statsmodels.iolib.summary.Summary'>\n",
       "\"\"\"\n",
       "                               SARIMAX Results                                \n",
       "==============================================================================\n",
       "Dep. Variable:                      y   No. Observations:                   96\n",
       "Model:               SARIMAX(2, 1, 1)   Log Likelihood                 -56.600\n",
       "Date:                Mon, 21 Jun 2021   AIC                            121.199\n",
       "Time:                        15:19:05   BIC                            131.415\n",
       "Sample:                             0   HQIC                           125.327\n",
       "                                 - 96                                         \n",
       "Covariance Type:                  opg                                         \n",
       "==============================================================================\n",
       "                 coef    std err          z      P>|z|      [0.025      0.975]\n",
       "------------------------------------------------------------------------------\n",
       "ar.L1         -1.0028      0.105     -9.518      0.000      -1.209      -0.796\n",
       "ar.L2         -0.4177      0.101     -4.123      0.000      -0.616      -0.219\n",
       "ma.L1          0.8574      0.116      7.388      0.000       0.630       1.085\n",
       "sigma2         0.1911      0.021      9.155      0.000       0.150       0.232\n",
       "===================================================================================\n",
       "Ljung-Box (Q):                       23.97   Jarque-Bera (JB):                32.42\n",
       "Prob(Q):                              0.98   Prob(JB):                         0.00\n",
       "Heteroskedasticity (H):               0.15   Skew:                            -0.43\n",
       "Prob(H) (two-sided):                  0.00   Kurtosis:                         5.73\n",
       "===================================================================================\n",
       "\n",
       "Warnings:\n",
       "[1] Covariance matrix calculated using the outer product of gradients (complex-step).\n",
       "\"\"\""
      ]
     },
     "execution_count": 11,
     "metadata": {},
     "output_type": "execute_result"
    }
   ],
   "source": [
    "model = pm.auto_arima(ts[5], seasonal=False)\n",
    "res = model.arima_res_\n",
    "res.summary()"
   ]
  },
  {
   "cell_type": "code",
   "execution_count": 19,
   "metadata": {},
   "outputs": [
    {
     "data": {
      "image/png": "[encoded data removed]",
      "text/plain": [
       "<Figure size 432x288 with 1 Axes>"
      ]
     },
     "metadata": {
      "needs_background": "light"
     },
     "output_type": "display_data"
    }
   ],
   "source": [
    "plot(ts[0])"
   ]
  },
  {
   "cell_type": "code",
   "execution_count": 21,
   "metadata": {},
   "outputs": [
    {
     "data": {
      "image/png": "[encoded data removed]",
      "text/plain": [
       "<Figure size 432x288 with 1 Axes>"
      ]
     },
     "metadata": {
      "needs_background": "light"
     },
     "output_type": "display_data"
    }
   ],
   "source": [
    "plot(res.fittedvalues)"
   ]
  },
  {
   "cell_type": "code",
   "execution_count": 14,
   "metadata": {},
   "outputs": [],
   "source": [
    "fitted = res.fittedvalues"
   ]
  },
  {
   "cell_type": "code",
   "execution_count": 61,
   "metadata": {},
   "outputs": [
    {
     "ename": "RuntimeError",
     "evalue": "Model must be fit before calling predict",
     "output_type": "error",
     "traceback": [
      "\u001b[1;31m---------------------------------------------------------------------------\u001b[0m",
      "\u001b[1;31mRuntimeError\u001b[0m                              Traceback (most recent call last)",
      "\u001b[1;32m<ipython-input-61-7f4ccab9d108>\u001b[0m in \u001b[0;36m<module>\u001b[1;34m\u001b[0m\n\u001b[0;32m      1\u001b[0m \u001b[0marmamodel\u001b[0m \u001b[1;33m=\u001b[0m \u001b[0mARMA\u001b[0m\u001b[1;33m(\u001b[0m\u001b[0mts\u001b[0m\u001b[1;33m[\u001b[0m\u001b[1;36m0\u001b[0m\u001b[1;33m]\u001b[0m\u001b[1;33m,\u001b[0m \u001b[1;33m(\u001b[0m\u001b[1;36m5\u001b[0m\u001b[1;33m,\u001b[0m\u001b[1;36m0\u001b[0m\u001b[1;33m)\u001b[0m\u001b[1;33m)\u001b[0m\u001b[1;33m\u001b[0m\u001b[1;33m\u001b[0m\u001b[0m\n\u001b[1;32m----> 2\u001b[1;33m \u001b[0marmamodel\u001b[0m\u001b[1;33m.\u001b[0m\u001b[0mpredict\u001b[0m\u001b[1;33m(\u001b[0m\u001b[0mparams\u001b[0m \u001b[1;33m=\u001b[0m \u001b[0mres\u001b[0m\u001b[1;33m.\u001b[0m\u001b[0mpolynomial_ar\u001b[0m\u001b[1;33m)\u001b[0m\u001b[1;33m\u001b[0m\u001b[1;33m\u001b[0m\u001b[0m\n\u001b[0m",
      "\u001b[1;32m~\\anaconda3\\lib\\site-packages\\statsmodels\\tsa\\arima_model.py\u001b[0m in \u001b[0;36mpredict\u001b[1;34m(self, params, start, end, exog, dynamic, **kwargs)\u001b[0m\n\u001b[0;32m    730\u001b[0m             \u001b[1;32mraise\u001b[0m \u001b[0mTypeError\u001b[0m\u001b[1;33m(\u001b[0m\u001b[1;34m'Unknown extra arguments'\u001b[0m\u001b[1;33m)\u001b[0m\u001b[1;33m\u001b[0m\u001b[1;33m\u001b[0m\u001b[0m\n\u001b[0;32m    731\u001b[0m         \u001b[1;32mif\u001b[0m \u001b[1;32mnot\u001b[0m \u001b[1;33m(\u001b[0m\u001b[0mhasattr\u001b[0m\u001b[1;33m(\u001b[0m\u001b[0mself\u001b[0m\u001b[1;33m,\u001b[0m \u001b[1;34m'k_ar'\u001b[0m\u001b[1;33m)\u001b[0m \u001b[1;32mand\u001b[0m \u001b[0mhasattr\u001b[0m\u001b[1;33m(\u001b[0m\u001b[0mself\u001b[0m\u001b[1;33m,\u001b[0m \u001b[1;34m'k_trend'\u001b[0m\u001b[1;33m)\u001b[0m\u001b[1;33m)\u001b[0m\u001b[1;33m:\u001b[0m\u001b[1;33m\u001b[0m\u001b[1;33m\u001b[0m\u001b[0m\n\u001b[1;32m--> 732\u001b[1;33m             \u001b[1;32mraise\u001b[0m \u001b[0mRuntimeError\u001b[0m\u001b[1;33m(\u001b[0m\u001b[1;34m'Model must be fit before calling predict'\u001b[0m\u001b[1;33m)\u001b[0m\u001b[1;33m\u001b[0m\u001b[1;33m\u001b[0m\u001b[0m\n\u001b[0m\u001b[0;32m    733\u001b[0m         \u001b[0mparams\u001b[0m \u001b[1;33m=\u001b[0m \u001b[0marray_like\u001b[0m\u001b[1;33m(\u001b[0m\u001b[0mparams\u001b[0m\u001b[1;33m,\u001b[0m \u001b[1;34m'params'\u001b[0m\u001b[1;33m)\u001b[0m\u001b[1;33m\u001b[0m\u001b[1;33m\u001b[0m\u001b[0m\n\u001b[0;32m    734\u001b[0m         \u001b[0mmethod\u001b[0m \u001b[1;33m=\u001b[0m \u001b[0mgetattr\u001b[0m\u001b[1;33m(\u001b[0m\u001b[0mself\u001b[0m\u001b[1;33m,\u001b[0m \u001b[1;34m'method'\u001b[0m\u001b[1;33m,\u001b[0m \u001b[1;34m'mle'\u001b[0m\u001b[1;33m)\u001b[0m  \u001b[1;31m# do not assume fit\u001b[0m\u001b[1;33m\u001b[0m\u001b[1;33m\u001b[0m\u001b[0m\n",
      "\u001b[1;31mRuntimeError\u001b[0m: Model must be fit before calling predict"
     ]
    }
   ],
   "source": [
    "armamodel = ARMA(ts[0], (5,0))\n",
    "armamodel.predict(params = res.polynomial_ar)"
   ]
  },
  {
   "cell_type": "code",
   "execution_count": 28,
   "metadata": {},
   "outputs": [
    {
     "name": "stdout",
     "output_type": "stream",
     "text": [
      "4.545901218235626e-15\n"
     ]
    },
    {
     "data": {
      "text/plain": [
       "True"
      ]
     },
     "execution_count": 28,
     "metadata": {},
     "output_type": "execute_result"
    }
   ],
   "source": [
    "granger_causality(ts[0], fitted, 2, verbose = True)"
   ]
  },
  {
   "cell_type": "code",
   "execution_count": 23,
   "metadata": {},
   "outputs": [],
   "source": [
    "diff1 = difference(ts[0])\n",
    "diff2 = difference(fitted)"
   ]
  },
  {
   "cell_type": "code",
   "execution_count": 24,
   "metadata": {},
   "outputs": [
    {
     "data": {
      "image/png": "[encoded data removed]",
      "text/plain": [
       "<Figure size 432x288 with 1 Axes>"
      ]
     },
     "metadata": {
      "needs_background": "light"
     },
     "output_type": "display_data"
    },
    {
     "data": {
      "image/png": "[encoded data removed]",
      "text/plain": [
       "<Figure size 432x288 with 1 Axes>"
      ]
     },
     "metadata": {
      "needs_background": "light"
     },
     "output_type": "display_data"
    }
   ],
   "source": [
    "plot(diff1)\n",
    "plot(diff2)"
   ]
  },
  {
   "cell_type": "code",
   "execution_count": 25,
   "metadata": {},
   "outputs": [
    {
     "name": "stdout",
     "output_type": "stream",
     "text": [
      "6.433756174090265e-37\n"
     ]
    },
    {
     "data": {
      "text/plain": [
       "True"
      ]
     },
     "execution_count": 25,
     "metadata": {},
     "output_type": "execute_result"
    }
   ],
   "source": [
    "granger_causality(diff2, diff1, 2, verbose = True)"
   ]
  },
  {
   "cell_type": "code",
   "execution_count": 29,
   "metadata": {},
   "outputs": [
    {
     "name": "stdout",
     "output_type": "stream",
     "text": [
      "2.3039430100697785e-50\n",
      "True\n"
     ]
    },
    {
     "name": "stderr",
     "output_type": "stream",
     "text": [
      "C:\\Users\\kayan\\anaconda3\\lib\\site-packages\\statsmodels\\base\\model.py:1830: ValueWarning: covariance of constraints does not have full rank. The number of constraints is 2, but rank is 1\n",
      "  warnings.warn('covariance of constraints does not have full '\n"
     ]
    },
    {
     "name": "stdout",
     "output_type": "stream",
     "text": [
      "0.0\n",
      "True\n",
      "1.007495546793842e-55\n",
      "True\n",
      "1.8500049700047235e-42\n",
      "True\n",
      "7.012726002401143e-104\n",
      "True\n",
      "5.5829767538046976e-61\n",
      "True\n",
      "1.7803626749948913e-24\n",
      "True\n",
      "0.0\n",
      "True\n",
      "5.5103339683439096e-45\n",
      "True\n",
      "1.532260234753646e-280\n",
      "True\n",
      "5.016806463134507e-45\n",
      "True\n",
      "1.0214916467977975e-144\n",
      "True\n",
      "7.603664329038745e-39\n",
      "True\n",
      "7.489806216044985e-37\n",
      "True\n",
      "2.5211646413464283e-20\n",
      "True\n",
      "0.0\n",
      "True\n",
      "1.5561950394883457e-52\n",
      "True\n",
      "2.5186249098847692e-110\n",
      "True\n",
      "1.9697191650246193e-46\n",
      "True\n",
      "3.842961124244396e-24\n",
      "True\n",
      "5.517351494031487e-49\n",
      "True\n",
      "2.699268792789291e-69\n",
      "True\n",
      "4.092555886461508e-138\n",
      "True\n",
      "0.0\n",
      "True\n",
      "1.5346379529828592e-55\n",
      "True\n"
     ]
    },
    {
     "name": "stderr",
     "output_type": "stream",
     "text": [
      "C:\\Users\\kayan\\anaconda3\\lib\\site-packages\\statsmodels\\base\\model.py:1830: ValueWarning: covariance of constraints does not have full rank. The number of constraints is 2, but rank is 1\n",
      "  warnings.warn('covariance of constraints does not have full '\n"
     ]
    },
    {
     "name": "stdout",
     "output_type": "stream",
     "text": [
      "0.0\n",
      "True\n",
      "1.404802504430685e-119\n",
      "True\n",
      "1.1418086975823397e-43\n",
      "True\n",
      "3.5566669384707466e-49\n",
      "True\n",
      "1.0391310677408092e-102\n",
      "True\n",
      "1.4319465977635763e-41\n",
      "True\n",
      "2.573767241607955e-34\n",
      "True\n",
      "9.134746003012168e-79\n",
      "True\n",
      "5.631166146325543e-106\n",
      "True\n",
      "9.812702455473226e-118\n",
      "True\n",
      "1.2981198513339382e-122\n",
      "True\n",
      "3.0025526689547544e-52\n",
      "True\n",
      "1.6445934032654228e-104\n",
      "True\n",
      "2.6087779586248516e-48\n",
      "True\n",
      "1.2426629778520611e-131\n",
      "True\n",
      "9.325119491716943e-50\n",
      "True\n",
      "4.368070925330786e-50\n",
      "True\n",
      "1.1662451074747708e-60\n",
      "True\n",
      "2.9197814078262485e-45\n",
      "True\n"
     ]
    },
    {
     "name": "stderr",
     "output_type": "stream",
     "text": [
      "C:\\Users\\kayan\\anaconda3\\lib\\site-packages\\statsmodels\\base\\model.py:1830: ValueWarning: covariance of constraints does not have full rank. The number of constraints is 2, but rank is 1\n",
      "  warnings.warn('covariance of constraints does not have full '\n"
     ]
    },
    {
     "name": "stdout",
     "output_type": "stream",
     "text": [
      "0.0\n",
      "True\n",
      "1.0498753824179103e-250\n",
      "True\n",
      "7.015783261310802e-154\n",
      "True\n",
      "6.058318453868243e-26\n",
      "True\n",
      "4.7636740754752956e-52\n",
      "True\n"
     ]
    },
    {
     "name": "stderr",
     "output_type": "stream",
     "text": [
      "C:\\Users\\kayan\\anaconda3\\lib\\site-packages\\statsmodels\\base\\model.py:1830: ValueWarning: covariance of constraints does not have full rank. The number of constraints is 2, but rank is 1\n",
      "  warnings.warn('covariance of constraints does not have full '\n"
     ]
    },
    {
     "name": "stdout",
     "output_type": "stream",
     "text": [
      "0.0\n",
      "True\n",
      "1.0648862750576271e-60\n",
      "True\n",
      "1.0182080478932815e-128\n",
      "True\n"
     ]
    },
    {
     "ename": "KeyboardInterrupt",
     "evalue": "",
     "output_type": "error",
     "traceback": [
      "\u001b[1;31m---------------------------------------------------------------------------\u001b[0m",
      "\u001b[1;31mKeyboardInterrupt\u001b[0m                         Traceback (most recent call last)",
      "\u001b[1;32m<ipython-input-29-04a22a80ae41>\u001b[0m in \u001b[0;36m<module>\u001b[1;34m\u001b[0m\n\u001b[0;32m      1\u001b[0m \u001b[1;32mfor\u001b[0m \u001b[0mx\u001b[0m \u001b[1;32min\u001b[0m \u001b[0mts\u001b[0m\u001b[1;33m:\u001b[0m\u001b[1;33m\u001b[0m\u001b[1;33m\u001b[0m\u001b[0m\n\u001b[1;32m----> 2\u001b[1;33m     \u001b[0mmodel\u001b[0m \u001b[1;33m=\u001b[0m \u001b[0mpm\u001b[0m\u001b[1;33m.\u001b[0m\u001b[0mauto_arima\u001b[0m\u001b[1;33m(\u001b[0m\u001b[0mx\u001b[0m\u001b[1;33m,\u001b[0m \u001b[0mseasonal\u001b[0m\u001b[1;33m=\u001b[0m\u001b[1;32mFalse\u001b[0m\u001b[1;33m)\u001b[0m\u001b[1;33m\u001b[0m\u001b[1;33m\u001b[0m\u001b[0m\n\u001b[0m\u001b[0;32m      3\u001b[0m     \u001b[0mres\u001b[0m \u001b[1;33m=\u001b[0m \u001b[0mmodel\u001b[0m\u001b[1;33m.\u001b[0m\u001b[0marima_res_\u001b[0m\u001b[1;33m\u001b[0m\u001b[1;33m\u001b[0m\u001b[0m\n\u001b[0;32m      4\u001b[0m     \u001b[0mfitted\u001b[0m \u001b[1;33m=\u001b[0m \u001b[0mres\u001b[0m\u001b[1;33m.\u001b[0m\u001b[0mfittedvalues\u001b[0m\u001b[1;33m\u001b[0m\u001b[1;33m\u001b[0m\u001b[0m\n\u001b[0;32m      5\u001b[0m     \u001b[0mprint\u001b[0m\u001b[1;33m(\u001b[0m\u001b[0mgranger_causality\u001b[0m\u001b[1;33m(\u001b[0m\u001b[0mfitted\u001b[0m\u001b[1;33m,\u001b[0m \u001b[0mx\u001b[0m\u001b[1;33m,\u001b[0m \u001b[1;36m2\u001b[0m\u001b[1;33m,\u001b[0m \u001b[0mverbose\u001b[0m \u001b[1;33m=\u001b[0m \u001b[1;32mTrue\u001b[0m\u001b[1;33m)\u001b[0m\u001b[1;33m)\u001b[0m\u001b[1;33m\u001b[0m\u001b[1;33m\u001b[0m\u001b[0m\n",
      "\u001b[1;32m~\\anaconda3\\lib\\site-packages\\pmdarima\\arima\\auto.py\u001b[0m in \u001b[0;36mauto_arima\u001b[1;34m(y, X, start_p, d, start_q, max_p, max_d, max_q, start_P, D, start_Q, max_P, max_D, max_Q, max_order, m, seasonal, stationary, information_criterion, alpha, test, seasonal_test, stepwise, n_jobs, start_params, trend, method, maxiter, offset_test_args, seasonal_test_args, suppress_warnings, error_action, trace, random, random_state, n_fits, return_valid_fits, out_of_sample_size, scoring, scoring_args, with_intercept, sarimax_kwargs, **fit_args)\u001b[0m\n\u001b[0;32m    715\u001b[0m         )\n\u001b[0;32m    716\u001b[0m \u001b[1;33m\u001b[0m\u001b[0m\n\u001b[1;32m--> 717\u001b[1;33m     \u001b[0msorted_res\u001b[0m \u001b[1;33m=\u001b[0m \u001b[0msearch\u001b[0m\u001b[1;33m.\u001b[0m\u001b[0msolve\u001b[0m\u001b[1;33m(\u001b[0m\u001b[1;33m)\u001b[0m\u001b[1;33m\u001b[0m\u001b[1;33m\u001b[0m\u001b[0m\n\u001b[0m\u001b[0;32m    718\u001b[0m     \u001b[1;32mreturn\u001b[0m \u001b[0m_return_wrapper\u001b[0m\u001b[1;33m(\u001b[0m\u001b[0msorted_res\u001b[0m\u001b[1;33m,\u001b[0m \u001b[0mreturn_valid_fits\u001b[0m\u001b[1;33m,\u001b[0m \u001b[0mstart\u001b[0m\u001b[1;33m,\u001b[0m \u001b[0mtrace\u001b[0m\u001b[1;33m)\u001b[0m\u001b[1;33m\u001b[0m\u001b[1;33m\u001b[0m\u001b[0m\n\u001b[0;32m    719\u001b[0m \u001b[1;33m\u001b[0m\u001b[0m\n",
      "\u001b[1;32m~\\anaconda3\\lib\\site-packages\\pmdarima\\arima\\_auto_solvers.py\u001b[0m in \u001b[0;36msolve\u001b[1;34m(self)\u001b[0m\n\u001b[0;32m    437\u001b[0m             \u001b[1;31m# evaluate all corners\u001b[0m\u001b[1;33m\u001b[0m\u001b[1;33m\u001b[0m\u001b[1;33m\u001b[0m\u001b[0m\n\u001b[0;32m    438\u001b[0m             \u001b[1;32mif\u001b[0m \u001b[0mself\u001b[0m\u001b[1;33m.\u001b[0m\u001b[0mk\u001b[0m \u001b[1;33m<\u001b[0m \u001b[0mself\u001b[0m\u001b[1;33m.\u001b[0m\u001b[0mmax_k\u001b[0m \u001b[1;32mand\u001b[0m\u001b[0;31m \u001b[0m\u001b[0;31m\\\u001b[0m\u001b[1;33m\u001b[0m\u001b[1;33m\u001b[0m\u001b[0m\n\u001b[1;32m--> 439\u001b[1;33m                     self._do_fit((p, d, q),\n\u001b[0m\u001b[0;32m    440\u001b[0m                                  \u001b[1;33m(\u001b[0m\u001b[0mP\u001b[0m\u001b[1;33m,\u001b[0m \u001b[0mD\u001b[0m\u001b[1;33m,\u001b[0m \u001b[0mQ\u001b[0m\u001b[1;33m,\u001b[0m \u001b[0mm\u001b[0m\u001b[1;33m)\u001b[0m\u001b[1;33m,\u001b[0m\u001b[1;33m\u001b[0m\u001b[1;33m\u001b[0m\u001b[0m\n\u001b[0;32m    441\u001b[0m                                  constant=not self.with_intercept):\n",
      "\u001b[1;32m~\\anaconda3\\lib\\site-packages\\pmdarima\\arima\\_auto_solvers.py\u001b[0m in \u001b[0;36m_do_fit\u001b[1;34m(self, order, seasonal_order, constant)\u001b[0m\n\u001b[0;32m    231\u001b[0m             \u001b[0mself\u001b[0m\u001b[1;33m.\u001b[0m\u001b[0mk\u001b[0m \u001b[1;33m+=\u001b[0m \u001b[1;36m1\u001b[0m\u001b[1;33m\u001b[0m\u001b[1;33m\u001b[0m\u001b[0m\n\u001b[0;32m    232\u001b[0m \u001b[1;33m\u001b[0m\u001b[0m\n\u001b[1;32m--> 233\u001b[1;33m             fit, fit_time, new_ic = self._fit_arima(\n\u001b[0m\u001b[0;32m    234\u001b[0m                 \u001b[0morder\u001b[0m\u001b[1;33m=\u001b[0m\u001b[0morder\u001b[0m\u001b[1;33m,\u001b[0m\u001b[1;33m\u001b[0m\u001b[1;33m\u001b[0m\u001b[0m\n\u001b[0;32m    235\u001b[0m                 \u001b[0mseasonal_order\u001b[0m\u001b[1;33m=\u001b[0m\u001b[0mseasonal_order\u001b[0m\u001b[1;33m,\u001b[0m\u001b[1;33m\u001b[0m\u001b[1;33m\u001b[0m\u001b[0m\n",
      "\u001b[1;32m~\\anaconda3\\lib\\site-packages\\pmdarima\\arima\\_auto_solvers.py\u001b[0m in \u001b[0;36m_fit_candidate_model\u001b[1;34m(y, X, order, seasonal_order, start_params, trend, method, maxiter, fit_params, suppress_warnings, trace, error_action, out_of_sample_size, scoring, scoring_args, with_intercept, information_criterion, **kwargs)\u001b[0m\n\u001b[0;32m    504\u001b[0m \u001b[1;33m\u001b[0m\u001b[0m\n\u001b[0;32m    505\u001b[0m     \u001b[1;32mtry\u001b[0m\u001b[1;33m:\u001b[0m\u001b[1;33m\u001b[0m\u001b[1;33m\u001b[0m\u001b[0m\n\u001b[1;32m--> 506\u001b[1;33m         \u001b[0mfit\u001b[0m\u001b[1;33m.\u001b[0m\u001b[0mfit\u001b[0m\u001b[1;33m(\u001b[0m\u001b[0my\u001b[0m\u001b[1;33m,\u001b[0m \u001b[0mX\u001b[0m\u001b[1;33m=\u001b[0m\u001b[0mX\u001b[0m\u001b[1;33m,\u001b[0m \u001b[1;33m**\u001b[0m\u001b[0mfit_params\u001b[0m\u001b[1;33m)\u001b[0m\u001b[1;33m\u001b[0m\u001b[1;33m\u001b[0m\u001b[0m\n\u001b[0m\u001b[0;32m    507\u001b[0m \u001b[1;33m\u001b[0m\u001b[0m\n\u001b[0;32m    508\u001b[0m     \u001b[1;31m# for non-stationarity errors or singular matrices, return None\u001b[0m\u001b[1;33m\u001b[0m\u001b[1;33m\u001b[0m\u001b[1;33m\u001b[0m\u001b[0m\n",
      "\u001b[1;32m~\\anaconda3\\lib\\site-packages\\pmdarima\\arima\\arima.py\u001b[0m in \u001b[0;36mfit\u001b[1;34m(self, y, X, **fit_args)\u001b[0m\n\u001b[0;32m    480\u001b[0m \u001b[1;33m\u001b[0m\u001b[0m\n\u001b[0;32m    481\u001b[0m         \u001b[1;31m# Internal call\u001b[0m\u001b[1;33m\u001b[0m\u001b[1;33m\u001b[0m\u001b[1;33m\u001b[0m\u001b[0m\n\u001b[1;32m--> 482\u001b[1;33m         \u001b[0mself\u001b[0m\u001b[1;33m.\u001b[0m\u001b[0m_fit\u001b[0m\u001b[1;33m(\u001b[0m\u001b[0my\u001b[0m\u001b[1;33m,\u001b[0m \u001b[0mX\u001b[0m\u001b[1;33m,\u001b[0m \u001b[1;33m**\u001b[0m\u001b[0mfit_args\u001b[0m\u001b[1;33m)\u001b[0m\u001b[1;33m\u001b[0m\u001b[1;33m\u001b[0m\u001b[0m\n\u001b[0m\u001b[0;32m    483\u001b[0m \u001b[1;33m\u001b[0m\u001b[0m\n\u001b[0;32m    484\u001b[0m         \u001b[1;31m# now make a forecast if we're validating to compute the\u001b[0m\u001b[1;33m\u001b[0m\u001b[1;33m\u001b[0m\u001b[1;33m\u001b[0m\u001b[0m\n",
      "\u001b[1;32m~\\anaconda3\\lib\\site-packages\\pmdarima\\arima\\arima.py\u001b[0m in \u001b[0;36m_fit\u001b[1;34m(self, y, X, **fit_args)\u001b[0m\n\u001b[0;32m    401\u001b[0m             \u001b[1;32mwith\u001b[0m \u001b[0mwarnings\u001b[0m\u001b[1;33m.\u001b[0m\u001b[0mcatch_warnings\u001b[0m\u001b[1;33m(\u001b[0m\u001b[0mrecord\u001b[0m\u001b[1;33m=\u001b[0m\u001b[1;32mFalse\u001b[0m\u001b[1;33m)\u001b[0m\u001b[1;33m:\u001b[0m\u001b[1;33m\u001b[0m\u001b[1;33m\u001b[0m\u001b[0m\n\u001b[0;32m    402\u001b[0m                 \u001b[0mwarnings\u001b[0m\u001b[1;33m.\u001b[0m\u001b[0msimplefilter\u001b[0m\u001b[1;33m(\u001b[0m\u001b[1;34m'ignore'\u001b[0m\u001b[1;33m)\u001b[0m\u001b[1;33m\u001b[0m\u001b[1;33m\u001b[0m\u001b[0m\n\u001b[1;32m--> 403\u001b[1;33m                 \u001b[0mfit\u001b[0m\u001b[1;33m,\u001b[0m \u001b[0mself\u001b[0m\u001b[1;33m.\u001b[0m\u001b[0marima_res_\u001b[0m \u001b[1;33m=\u001b[0m \u001b[0m_fit_wrapper\u001b[0m\u001b[1;33m(\u001b[0m\u001b[1;33m)\u001b[0m\u001b[1;33m\u001b[0m\u001b[1;33m\u001b[0m\u001b[0m\n\u001b[0m\u001b[0;32m    404\u001b[0m         \u001b[1;32melse\u001b[0m\u001b[1;33m:\u001b[0m\u001b[1;33m\u001b[0m\u001b[1;33m\u001b[0m\u001b[0m\n\u001b[0;32m    405\u001b[0m             \u001b[0mfit\u001b[0m\u001b[1;33m,\u001b[0m \u001b[0mself\u001b[0m\u001b[1;33m.\u001b[0m\u001b[0marima_res_\u001b[0m \u001b[1;33m=\u001b[0m \u001b[0m_fit_wrapper\u001b[0m\u001b[1;33m(\u001b[0m\u001b[1;33m)\u001b[0m\u001b[1;33m\u001b[0m\u001b[1;33m\u001b[0m\u001b[0m\n",
      "\u001b[1;32m~\\anaconda3\\lib\\site-packages\\pmdarima\\arima\\arima.py\u001b[0m in \u001b[0;36m_fit_wrapper\u001b[1;34m()\u001b[0m\n\u001b[0;32m    391\u001b[0m             \u001b[0mdisp\u001b[0m \u001b[1;33m=\u001b[0m \u001b[0mfit_args\u001b[0m\u001b[1;33m.\u001b[0m\u001b[0mpop\u001b[0m\u001b[1;33m(\u001b[0m\u001b[1;34m\"disp\"\u001b[0m\u001b[1;33m,\u001b[0m \u001b[1;36m0\u001b[0m\u001b[1;33m)\u001b[0m\u001b[1;33m\u001b[0m\u001b[1;33m\u001b[0m\u001b[0m\n\u001b[0;32m    392\u001b[0m \u001b[1;33m\u001b[0m\u001b[0m\n\u001b[1;32m--> 393\u001b[1;33m             return arima, arima.fit(start_params=start_params,\n\u001b[0m\u001b[0;32m    394\u001b[0m                                     \u001b[0mmethod\u001b[0m\u001b[1;33m=\u001b[0m\u001b[0mmethod\u001b[0m\u001b[1;33m,\u001b[0m\u001b[1;33m\u001b[0m\u001b[1;33m\u001b[0m\u001b[0m\n\u001b[0;32m    395\u001b[0m                                     \u001b[0mmaxiter\u001b[0m\u001b[1;33m=\u001b[0m\u001b[0m_maxiter\u001b[0m\u001b[1;33m,\u001b[0m\u001b[1;33m\u001b[0m\u001b[1;33m\u001b[0m\u001b[0m\n",
      "\u001b[1;32m~\\anaconda3\\lib\\site-packages\\statsmodels\\tsa\\statespace\\mlemodel.py\u001b[0m in \u001b[0;36mfit\u001b[1;34m(self, start_params, transformed, includes_fixed, cov_type, cov_kwds, method, maxiter, full_output, disp, callback, return_params, optim_score, optim_complex_step, optim_hessian, flags, low_memory, **kwargs)\u001b[0m\n\u001b[0;32m    652\u001b[0m                 \u001b[0mflags\u001b[0m\u001b[1;33m[\u001b[0m\u001b[1;34m'hessian_method'\u001b[0m\u001b[1;33m]\u001b[0m \u001b[1;33m=\u001b[0m \u001b[0moptim_hessian\u001b[0m\u001b[1;33m\u001b[0m\u001b[1;33m\u001b[0m\u001b[0m\n\u001b[0;32m    653\u001b[0m             \u001b[0mfargs\u001b[0m \u001b[1;33m=\u001b[0m \u001b[1;33m(\u001b[0m\u001b[0mflags\u001b[0m\u001b[1;33m,\u001b[0m\u001b[1;33m)\u001b[0m\u001b[1;33m\u001b[0m\u001b[1;33m\u001b[0m\u001b[0m\n\u001b[1;32m--> 654\u001b[1;33m             mlefit = super(MLEModel, self).fit(start_params, method=method,\n\u001b[0m\u001b[0;32m    655\u001b[0m                                                \u001b[0mfargs\u001b[0m\u001b[1;33m=\u001b[0m\u001b[0mfargs\u001b[0m\u001b[1;33m,\u001b[0m\u001b[1;33m\u001b[0m\u001b[1;33m\u001b[0m\u001b[0m\n\u001b[0;32m    656\u001b[0m                                                \u001b[0mmaxiter\u001b[0m\u001b[1;33m=\u001b[0m\u001b[0mmaxiter\u001b[0m\u001b[1;33m,\u001b[0m\u001b[1;33m\u001b[0m\u001b[1;33m\u001b[0m\u001b[0m\n",
      "\u001b[1;32m~\\anaconda3\\lib\\site-packages\\statsmodels\\base\\model.py\u001b[0m in \u001b[0;36mfit\u001b[1;34m(self, start_params, method, maxiter, full_output, disp, fargs, callback, retall, skip_hessian, **kwargs)\u001b[0m\n\u001b[0;32m    516\u001b[0m         \u001b[0mwarn_convergence\u001b[0m \u001b[1;33m=\u001b[0m \u001b[0mkwargs\u001b[0m\u001b[1;33m.\u001b[0m\u001b[0mpop\u001b[0m\u001b[1;33m(\u001b[0m\u001b[1;34m'warn_convergence'\u001b[0m\u001b[1;33m,\u001b[0m \u001b[1;32mTrue\u001b[0m\u001b[1;33m)\u001b[0m\u001b[1;33m\u001b[0m\u001b[1;33m\u001b[0m\u001b[0m\n\u001b[0;32m    517\u001b[0m         \u001b[0moptimizer\u001b[0m \u001b[1;33m=\u001b[0m \u001b[0mOptimizer\u001b[0m\u001b[1;33m(\u001b[0m\u001b[1;33m)\u001b[0m\u001b[1;33m\u001b[0m\u001b[1;33m\u001b[0m\u001b[0m\n\u001b[1;32m--> 518\u001b[1;33m         xopt, retvals, optim_settings = optimizer._fit(f, score, start_params,\n\u001b[0m\u001b[0;32m    519\u001b[0m                                                        \u001b[0mfargs\u001b[0m\u001b[1;33m,\u001b[0m \u001b[0mkwargs\u001b[0m\u001b[1;33m,\u001b[0m\u001b[1;33m\u001b[0m\u001b[1;33m\u001b[0m\u001b[0m\n\u001b[0;32m    520\u001b[0m                                                        \u001b[0mhessian\u001b[0m\u001b[1;33m=\u001b[0m\u001b[0mhess\u001b[0m\u001b[1;33m,\u001b[0m\u001b[1;33m\u001b[0m\u001b[1;33m\u001b[0m\u001b[0m\n",
      "\u001b[1;32m~\\anaconda3\\lib\\site-packages\\statsmodels\\base\\optimizer.py\u001b[0m in \u001b[0;36m_fit\u001b[1;34m(self, objective, gradient, start_params, fargs, kwargs, hessian, method, maxiter, full_output, disp, callback, retall)\u001b[0m\n\u001b[0;32m    213\u001b[0m \u001b[1;33m\u001b[0m\u001b[0m\n\u001b[0;32m    214\u001b[0m         \u001b[0mfunc\u001b[0m \u001b[1;33m=\u001b[0m \u001b[0mfit_funcs\u001b[0m\u001b[1;33m[\u001b[0m\u001b[0mmethod\u001b[0m\u001b[1;33m]\u001b[0m\u001b[1;33m\u001b[0m\u001b[1;33m\u001b[0m\u001b[0m\n\u001b[1;32m--> 215\u001b[1;33m         xopt, retvals = func(objective, gradient, start_params, fargs, kwargs,\n\u001b[0m\u001b[0;32m    216\u001b[0m                             \u001b[0mdisp\u001b[0m\u001b[1;33m=\u001b[0m\u001b[0mdisp\u001b[0m\u001b[1;33m,\u001b[0m \u001b[0mmaxiter\u001b[0m\u001b[1;33m=\u001b[0m\u001b[0mmaxiter\u001b[0m\u001b[1;33m,\u001b[0m \u001b[0mcallback\u001b[0m\u001b[1;33m=\u001b[0m\u001b[0mcallback\u001b[0m\u001b[1;33m,\u001b[0m\u001b[1;33m\u001b[0m\u001b[1;33m\u001b[0m\u001b[0m\n\u001b[0;32m    217\u001b[0m                             \u001b[0mretall\u001b[0m\u001b[1;33m=\u001b[0m\u001b[0mretall\u001b[0m\u001b[1;33m,\u001b[0m \u001b[0mfull_output\u001b[0m\u001b[1;33m=\u001b[0m\u001b[0mfull_output\u001b[0m\u001b[1;33m,\u001b[0m\u001b[1;33m\u001b[0m\u001b[1;33m\u001b[0m\u001b[0m\n",
      "\u001b[1;32m~\\anaconda3\\lib\\site-packages\\statsmodels\\base\\optimizer.py\u001b[0m in \u001b[0;36m_fit_lbfgs\u001b[1;34m(f, score, start_params, fargs, kwargs, disp, maxiter, callback, retall, full_output, hess)\u001b[0m\n\u001b[0;32m    435\u001b[0m         \u001b[0mfunc\u001b[0m \u001b[1;33m=\u001b[0m \u001b[0mf\u001b[0m\u001b[1;33m\u001b[0m\u001b[1;33m\u001b[0m\u001b[0m\n\u001b[0;32m    436\u001b[0m \u001b[1;33m\u001b[0m\u001b[0m\n\u001b[1;32m--> 437\u001b[1;33m     retvals = optimize.fmin_l_bfgs_b(func, start_params, maxiter=maxiter,\n\u001b[0m\u001b[0;32m    438\u001b[0m                                      \u001b[0mcallback\u001b[0m\u001b[1;33m=\u001b[0m\u001b[0mcallback\u001b[0m\u001b[1;33m,\u001b[0m \u001b[0margs\u001b[0m\u001b[1;33m=\u001b[0m\u001b[0mfargs\u001b[0m\u001b[1;33m,\u001b[0m\u001b[1;33m\u001b[0m\u001b[1;33m\u001b[0m\u001b[0m\n\u001b[0;32m    439\u001b[0m                                      \u001b[0mbounds\u001b[0m\u001b[1;33m=\u001b[0m\u001b[0mbounds\u001b[0m\u001b[1;33m,\u001b[0m \u001b[0mdisp\u001b[0m\u001b[1;33m=\u001b[0m\u001b[0mdisp\u001b[0m\u001b[1;33m,\u001b[0m\u001b[1;33m\u001b[0m\u001b[1;33m\u001b[0m\u001b[0m\n",
      "\u001b[1;32m~\\anaconda3\\lib\\site-packages\\scipy\\optimize\\lbfgsb.py\u001b[0m in \u001b[0;36mfmin_l_bfgs_b\u001b[1;34m(func, x0, fprime, args, approx_grad, bounds, m, factr, pgtol, epsilon, iprint, maxfun, maxiter, disp, callback, maxls)\u001b[0m\n\u001b[0;32m    195\u001b[0m             'maxls': maxls}\n\u001b[0;32m    196\u001b[0m \u001b[1;33m\u001b[0m\u001b[0m\n\u001b[1;32m--> 197\u001b[1;33m     res = _minimize_lbfgsb(fun, x0, args=args, jac=jac, bounds=bounds,\n\u001b[0m\u001b[0;32m    198\u001b[0m                            **opts)\n\u001b[0;32m    199\u001b[0m     d = {'grad': res['jac'],\n",
      "\u001b[1;32m~\\anaconda3\\lib\\site-packages\\scipy\\optimize\\lbfgsb.py\u001b[0m in \u001b[0;36m_minimize_lbfgsb\u001b[1;34m(fun, x0, args, jac, bounds, disp, maxcor, ftol, gtol, eps, maxfun, maxiter, iprint, callback, maxls, finite_diff_rel_step, **unknown_options)\u001b[0m\n\u001b[0;32m    358\u001b[0m             \u001b[1;31m# until the completion of the current minimization iteration.\u001b[0m\u001b[1;33m\u001b[0m\u001b[1;33m\u001b[0m\u001b[1;33m\u001b[0m\u001b[0m\n\u001b[0;32m    359\u001b[0m             \u001b[1;31m# Overwrite f and g:\u001b[0m\u001b[1;33m\u001b[0m\u001b[1;33m\u001b[0m\u001b[1;33m\u001b[0m\u001b[0m\n\u001b[1;32m--> 360\u001b[1;33m             \u001b[0mf\u001b[0m\u001b[1;33m,\u001b[0m \u001b[0mg\u001b[0m \u001b[1;33m=\u001b[0m \u001b[0mfunc_and_grad\u001b[0m\u001b[1;33m(\u001b[0m\u001b[0mx\u001b[0m\u001b[1;33m)\u001b[0m\u001b[1;33m\u001b[0m\u001b[1;33m\u001b[0m\u001b[0m\n\u001b[0m\u001b[0;32m    361\u001b[0m         \u001b[1;32melif\u001b[0m \u001b[0mtask_str\u001b[0m\u001b[1;33m.\u001b[0m\u001b[0mstartswith\u001b[0m\u001b[1;33m(\u001b[0m\u001b[1;34mb'NEW_X'\u001b[0m\u001b[1;33m)\u001b[0m\u001b[1;33m:\u001b[0m\u001b[1;33m\u001b[0m\u001b[1;33m\u001b[0m\u001b[0m\n\u001b[0;32m    362\u001b[0m             \u001b[1;31m# new iteration\u001b[0m\u001b[1;33m\u001b[0m\u001b[1;33m\u001b[0m\u001b[1;33m\u001b[0m\u001b[0m\n",
      "\u001b[1;32m~\\anaconda3\\lib\\site-packages\\scipy\\optimize\\_differentiable_functions.py\u001b[0m in \u001b[0;36mfun_and_grad\u001b[1;34m(self, x)\u001b[0m\n\u001b[0;32m    199\u001b[0m             \u001b[0mself\u001b[0m\u001b[1;33m.\u001b[0m\u001b[0m_update_x_impl\u001b[0m\u001b[1;33m(\u001b[0m\u001b[0mx\u001b[0m\u001b[1;33m)\u001b[0m\u001b[1;33m\u001b[0m\u001b[1;33m\u001b[0m\u001b[0m\n\u001b[0;32m    200\u001b[0m         \u001b[0mself\u001b[0m\u001b[1;33m.\u001b[0m\u001b[0m_update_fun\u001b[0m\u001b[1;33m(\u001b[0m\u001b[1;33m)\u001b[0m\u001b[1;33m\u001b[0m\u001b[1;33m\u001b[0m\u001b[0m\n\u001b[1;32m--> 201\u001b[1;33m         \u001b[0mself\u001b[0m\u001b[1;33m.\u001b[0m\u001b[0m_update_grad\u001b[0m\u001b[1;33m(\u001b[0m\u001b[1;33m)\u001b[0m\u001b[1;33m\u001b[0m\u001b[1;33m\u001b[0m\u001b[0m\n\u001b[0m\u001b[0;32m    202\u001b[0m         \u001b[1;32mreturn\u001b[0m \u001b[0mself\u001b[0m\u001b[1;33m.\u001b[0m\u001b[0mf\u001b[0m\u001b[1;33m,\u001b[0m \u001b[0mself\u001b[0m\u001b[1;33m.\u001b[0m\u001b[0mg\u001b[0m\u001b[1;33m\u001b[0m\u001b[1;33m\u001b[0m\u001b[0m\n\u001b[0;32m    203\u001b[0m \u001b[1;33m\u001b[0m\u001b[0m\n",
      "\u001b[1;32m~\\anaconda3\\lib\\site-packages\\scipy\\optimize\\_differentiable_functions.py\u001b[0m in \u001b[0;36m_update_grad\u001b[1;34m(self)\u001b[0m\n\u001b[0;32m    169\u001b[0m     \u001b[1;32mdef\u001b[0m \u001b[0m_update_grad\u001b[0m\u001b[1;33m(\u001b[0m\u001b[0mself\u001b[0m\u001b[1;33m)\u001b[0m\u001b[1;33m:\u001b[0m\u001b[1;33m\u001b[0m\u001b[1;33m\u001b[0m\u001b[0m\n\u001b[0;32m    170\u001b[0m         \u001b[1;32mif\u001b[0m \u001b[1;32mnot\u001b[0m \u001b[0mself\u001b[0m\u001b[1;33m.\u001b[0m\u001b[0mg_updated\u001b[0m\u001b[1;33m:\u001b[0m\u001b[1;33m\u001b[0m\u001b[1;33m\u001b[0m\u001b[0m\n\u001b[1;32m--> 171\u001b[1;33m             \u001b[0mself\u001b[0m\u001b[1;33m.\u001b[0m\u001b[0m_update_grad_impl\u001b[0m\u001b[1;33m(\u001b[0m\u001b[1;33m)\u001b[0m\u001b[1;33m\u001b[0m\u001b[1;33m\u001b[0m\u001b[0m\n\u001b[0m\u001b[0;32m    172\u001b[0m             \u001b[0mself\u001b[0m\u001b[1;33m.\u001b[0m\u001b[0mg_updated\u001b[0m \u001b[1;33m=\u001b[0m \u001b[1;32mTrue\u001b[0m\u001b[1;33m\u001b[0m\u001b[1;33m\u001b[0m\u001b[0m\n\u001b[0;32m    173\u001b[0m \u001b[1;33m\u001b[0m\u001b[0m\n",
      "\u001b[1;32m~\\anaconda3\\lib\\site-packages\\scipy\\optimize\\_differentiable_functions.py\u001b[0m in \u001b[0;36mupdate_grad\u001b[1;34m()\u001b[0m\n\u001b[0;32m     89\u001b[0m                 \u001b[0mself\u001b[0m\u001b[1;33m.\u001b[0m\u001b[0m_update_fun\u001b[0m\u001b[1;33m(\u001b[0m\u001b[1;33m)\u001b[0m\u001b[1;33m\u001b[0m\u001b[1;33m\u001b[0m\u001b[0m\n\u001b[0;32m     90\u001b[0m                 \u001b[0mself\u001b[0m\u001b[1;33m.\u001b[0m\u001b[0mngev\u001b[0m \u001b[1;33m+=\u001b[0m \u001b[1;36m1\u001b[0m\u001b[1;33m\u001b[0m\u001b[1;33m\u001b[0m\u001b[0m\n\u001b[1;32m---> 91\u001b[1;33m                 self.g = approx_derivative(fun_wrapped, self.x, f0=self.f,\n\u001b[0m\u001b[0;32m     92\u001b[0m                                            **finite_diff_options)\n\u001b[0;32m     93\u001b[0m \u001b[1;33m\u001b[0m\u001b[0m\n",
      "\u001b[1;32m~\\anaconda3\\lib\\site-packages\\scipy\\optimize\\_numdiff.py\u001b[0m in \u001b[0;36mapprox_derivative\u001b[1;34m(fun, x0, method, rel_step, abs_step, f0, bounds, sparsity, as_linear_operator, args, kwargs)\u001b[0m\n\u001b[0;32m    424\u001b[0m \u001b[1;33m\u001b[0m\u001b[0m\n\u001b[0;32m    425\u001b[0m         \u001b[1;32mif\u001b[0m \u001b[0msparsity\u001b[0m \u001b[1;32mis\u001b[0m \u001b[1;32mNone\u001b[0m\u001b[1;33m:\u001b[0m\u001b[1;33m\u001b[0m\u001b[1;33m\u001b[0m\u001b[0m\n\u001b[1;32m--> 426\u001b[1;33m             return _dense_difference(fun_wrapped, x0, f0, h,\n\u001b[0m\u001b[0;32m    427\u001b[0m                                      use_one_sided, method)\n\u001b[0;32m    428\u001b[0m         \u001b[1;32melse\u001b[0m\u001b[1;33m:\u001b[0m\u001b[1;33m\u001b[0m\u001b[1;33m\u001b[0m\u001b[0m\n",
      "\u001b[1;32m~\\anaconda3\\lib\\site-packages\\scipy\\optimize\\_numdiff.py\u001b[0m in \u001b[0;36m_dense_difference\u001b[1;34m(fun, x0, f0, h, use_one_sided, method)\u001b[0m\n\u001b[0;32m    495\u001b[0m             \u001b[0mx\u001b[0m \u001b[1;33m=\u001b[0m \u001b[0mx0\u001b[0m \u001b[1;33m+\u001b[0m \u001b[0mh_vecs\u001b[0m\u001b[1;33m[\u001b[0m\u001b[0mi\u001b[0m\u001b[1;33m]\u001b[0m\u001b[1;33m\u001b[0m\u001b[1;33m\u001b[0m\u001b[0m\n\u001b[0;32m    496\u001b[0m             \u001b[0mdx\u001b[0m \u001b[1;33m=\u001b[0m \u001b[0mx\u001b[0m\u001b[1;33m[\u001b[0m\u001b[0mi\u001b[0m\u001b[1;33m]\u001b[0m \u001b[1;33m-\u001b[0m \u001b[0mx0\u001b[0m\u001b[1;33m[\u001b[0m\u001b[0mi\u001b[0m\u001b[1;33m]\u001b[0m  \u001b[1;31m# Recompute dx as exactly representable number.\u001b[0m\u001b[1;33m\u001b[0m\u001b[1;33m\u001b[0m\u001b[0m\n\u001b[1;32m--> 497\u001b[1;33m             \u001b[0mdf\u001b[0m \u001b[1;33m=\u001b[0m \u001b[0mfun\u001b[0m\u001b[1;33m(\u001b[0m\u001b[0mx\u001b[0m\u001b[1;33m)\u001b[0m \u001b[1;33m-\u001b[0m \u001b[0mf0\u001b[0m\u001b[1;33m\u001b[0m\u001b[1;33m\u001b[0m\u001b[0m\n\u001b[0m\u001b[0;32m    498\u001b[0m         \u001b[1;32melif\u001b[0m \u001b[0mmethod\u001b[0m \u001b[1;33m==\u001b[0m \u001b[1;34m'3-point'\u001b[0m \u001b[1;32mand\u001b[0m \u001b[0muse_one_sided\u001b[0m\u001b[1;33m[\u001b[0m\u001b[0mi\u001b[0m\u001b[1;33m]\u001b[0m\u001b[1;33m:\u001b[0m\u001b[1;33m\u001b[0m\u001b[1;33m\u001b[0m\u001b[0m\n\u001b[0;32m    499\u001b[0m             \u001b[0mx1\u001b[0m \u001b[1;33m=\u001b[0m \u001b[0mx0\u001b[0m \u001b[1;33m+\u001b[0m \u001b[0mh_vecs\u001b[0m\u001b[1;33m[\u001b[0m\u001b[0mi\u001b[0m\u001b[1;33m]\u001b[0m\u001b[1;33m\u001b[0m\u001b[1;33m\u001b[0m\u001b[0m\n",
      "\u001b[1;32m~\\anaconda3\\lib\\site-packages\\scipy\\optimize\\_numdiff.py\u001b[0m in \u001b[0;36mfun_wrapped\u001b[1;34m(x)\u001b[0m\n\u001b[0;32m    375\u001b[0m \u001b[1;33m\u001b[0m\u001b[0m\n\u001b[0;32m    376\u001b[0m     \u001b[1;32mdef\u001b[0m \u001b[0mfun_wrapped\u001b[0m\u001b[1;33m(\u001b[0m\u001b[0mx\u001b[0m\u001b[1;33m)\u001b[0m\u001b[1;33m:\u001b[0m\u001b[1;33m\u001b[0m\u001b[1;33m\u001b[0m\u001b[0m\n\u001b[1;32m--> 377\u001b[1;33m         \u001b[0mf\u001b[0m \u001b[1;33m=\u001b[0m \u001b[0mnp\u001b[0m\u001b[1;33m.\u001b[0m\u001b[0matleast_1d\u001b[0m\u001b[1;33m(\u001b[0m\u001b[0mfun\u001b[0m\u001b[1;33m(\u001b[0m\u001b[0mx\u001b[0m\u001b[1;33m,\u001b[0m \u001b[1;33m*\u001b[0m\u001b[0margs\u001b[0m\u001b[1;33m,\u001b[0m \u001b[1;33m**\u001b[0m\u001b[0mkwargs\u001b[0m\u001b[1;33m)\u001b[0m\u001b[1;33m)\u001b[0m\u001b[1;33m\u001b[0m\u001b[1;33m\u001b[0m\u001b[0m\n\u001b[0m\u001b[0;32m    378\u001b[0m         \u001b[1;32mif\u001b[0m \u001b[0mf\u001b[0m\u001b[1;33m.\u001b[0m\u001b[0mndim\u001b[0m \u001b[1;33m>\u001b[0m \u001b[1;36m1\u001b[0m\u001b[1;33m:\u001b[0m\u001b[1;33m\u001b[0m\u001b[1;33m\u001b[0m\u001b[0m\n\u001b[0;32m    379\u001b[0m             raise RuntimeError(\"`fun` return value has \"\n",
      "\u001b[1;32m~\\anaconda3\\lib\\site-packages\\scipy\\optimize\\_differentiable_functions.py\u001b[0m in \u001b[0;36mfun_wrapped\u001b[1;34m(x)\u001b[0m\n\u001b[0;32m     68\u001b[0m         \u001b[1;32mdef\u001b[0m \u001b[0mfun_wrapped\u001b[0m\u001b[1;33m(\u001b[0m\u001b[0mx\u001b[0m\u001b[1;33m)\u001b[0m\u001b[1;33m:\u001b[0m\u001b[1;33m\u001b[0m\u001b[1;33m\u001b[0m\u001b[0m\n\u001b[0;32m     69\u001b[0m             \u001b[0mself\u001b[0m\u001b[1;33m.\u001b[0m\u001b[0mnfev\u001b[0m \u001b[1;33m+=\u001b[0m \u001b[1;36m1\u001b[0m\u001b[1;33m\u001b[0m\u001b[1;33m\u001b[0m\u001b[0m\n\u001b[1;32m---> 70\u001b[1;33m             \u001b[1;32mreturn\u001b[0m \u001b[0mfun\u001b[0m\u001b[1;33m(\u001b[0m\u001b[0mx\u001b[0m\u001b[1;33m,\u001b[0m \u001b[1;33m*\u001b[0m\u001b[0margs\u001b[0m\u001b[1;33m)\u001b[0m\u001b[1;33m\u001b[0m\u001b[1;33m\u001b[0m\u001b[0m\n\u001b[0m\u001b[0;32m     71\u001b[0m \u001b[1;33m\u001b[0m\u001b[0m\n\u001b[0;32m     72\u001b[0m         \u001b[1;32mdef\u001b[0m \u001b[0mupdate_fun\u001b[0m\u001b[1;33m(\u001b[0m\u001b[1;33m)\u001b[0m\u001b[1;33m:\u001b[0m\u001b[1;33m\u001b[0m\u001b[1;33m\u001b[0m\u001b[0m\n",
      "\u001b[1;32m~\\anaconda3\\lib\\site-packages\\statsmodels\\base\\model.py\u001b[0m in \u001b[0;36mf\u001b[1;34m(params, *args)\u001b[0m\n\u001b[0;32m    498\u001b[0m \u001b[1;33m\u001b[0m\u001b[0m\n\u001b[0;32m    499\u001b[0m         \u001b[1;32mdef\u001b[0m \u001b[0mf\u001b[0m\u001b[1;33m(\u001b[0m\u001b[0mparams\u001b[0m\u001b[1;33m,\u001b[0m \u001b[1;33m*\u001b[0m\u001b[0margs\u001b[0m\u001b[1;33m)\u001b[0m\u001b[1;33m:\u001b[0m\u001b[1;33m\u001b[0m\u001b[1;33m\u001b[0m\u001b[0m\n\u001b[1;32m--> 500\u001b[1;33m             \u001b[1;32mreturn\u001b[0m \u001b[1;33m-\u001b[0m\u001b[0mself\u001b[0m\u001b[1;33m.\u001b[0m\u001b[0mloglike\u001b[0m\u001b[1;33m(\u001b[0m\u001b[0mparams\u001b[0m\u001b[1;33m,\u001b[0m \u001b[1;33m*\u001b[0m\u001b[0margs\u001b[0m\u001b[1;33m)\u001b[0m \u001b[1;33m/\u001b[0m \u001b[0mnobs\u001b[0m\u001b[1;33m\u001b[0m\u001b[1;33m\u001b[0m\u001b[0m\n\u001b[0m\u001b[0;32m    501\u001b[0m \u001b[1;33m\u001b[0m\u001b[0m\n\u001b[0;32m    502\u001b[0m         \u001b[1;32mif\u001b[0m \u001b[0mmethod\u001b[0m \u001b[1;33m==\u001b[0m \u001b[1;34m'newton'\u001b[0m\u001b[1;33m:\u001b[0m\u001b[1;33m\u001b[0m\u001b[1;33m\u001b[0m\u001b[0m\n",
      "\u001b[1;32m~\\anaconda3\\lib\\site-packages\\statsmodels\\tsa\\statespace\\mlemodel.py\u001b[0m in \u001b[0;36mloglike\u001b[1;34m(self, params, *args, **kwargs)\u001b[0m\n\u001b[0;32m    887\u001b[0m             \u001b[0mkwargs\u001b[0m\u001b[1;33m[\u001b[0m\u001b[1;34m'inversion_method'\u001b[0m\u001b[1;33m]\u001b[0m \u001b[1;33m=\u001b[0m \u001b[0mINVERT_UNIVARIATE\u001b[0m \u001b[1;33m|\u001b[0m \u001b[0mSOLVE_LU\u001b[0m\u001b[1;33m\u001b[0m\u001b[1;33m\u001b[0m\u001b[0m\n\u001b[0;32m    888\u001b[0m \u001b[1;33m\u001b[0m\u001b[0m\n\u001b[1;32m--> 889\u001b[1;33m         \u001b[0mloglike\u001b[0m \u001b[1;33m=\u001b[0m \u001b[0mself\u001b[0m\u001b[1;33m.\u001b[0m\u001b[0mssm\u001b[0m\u001b[1;33m.\u001b[0m\u001b[0mloglike\u001b[0m\u001b[1;33m(\u001b[0m\u001b[0mcomplex_step\u001b[0m\u001b[1;33m=\u001b[0m\u001b[0mcomplex_step\u001b[0m\u001b[1;33m,\u001b[0m \u001b[1;33m**\u001b[0m\u001b[0mkwargs\u001b[0m\u001b[1;33m)\u001b[0m\u001b[1;33m\u001b[0m\u001b[1;33m\u001b[0m\u001b[0m\n\u001b[0m\u001b[0;32m    890\u001b[0m \u001b[1;33m\u001b[0m\u001b[0m\n\u001b[0;32m    891\u001b[0m         \u001b[1;31m# Koopman, Shephard, and Doornik recommend maximizing the average\u001b[0m\u001b[1;33m\u001b[0m\u001b[1;33m\u001b[0m\u001b[1;33m\u001b[0m\u001b[0m\n",
      "\u001b[1;32m~\\anaconda3\\lib\\site-packages\\statsmodels\\tsa\\statespace\\kalman_filter.py\u001b[0m in \u001b[0;36mloglike\u001b[1;34m(self, **kwargs)\u001b[0m\n\u001b[0;32m    975\u001b[0m         kwargs.setdefault('conserve_memory',\n\u001b[0;32m    976\u001b[0m                           MEMORY_CONSERVE ^ MEMORY_NO_LIKELIHOOD)\n\u001b[1;32m--> 977\u001b[1;33m         \u001b[0mkfilter\u001b[0m \u001b[1;33m=\u001b[0m \u001b[0mself\u001b[0m\u001b[1;33m.\u001b[0m\u001b[0m_filter\u001b[0m\u001b[1;33m(\u001b[0m\u001b[1;33m**\u001b[0m\u001b[0mkwargs\u001b[0m\u001b[1;33m)\u001b[0m\u001b[1;33m\u001b[0m\u001b[1;33m\u001b[0m\u001b[0m\n\u001b[0m\u001b[0;32m    978\u001b[0m         loglikelihood_burn = kwargs.get('loglikelihood_burn',\n\u001b[0;32m    979\u001b[0m                                         self.loglikelihood_burn)\n",
      "\u001b[1;32m~\\anaconda3\\lib\\site-packages\\statsmodels\\tsa\\statespace\\kalman_filter.py\u001b[0m in \u001b[0;36m_filter\u001b[1;34m(self, filter_method, inversion_method, stability_method, conserve_memory, filter_timing, tolerance, loglikelihood_burn, complex_step)\u001b[0m\n\u001b[0;32m    895\u001b[0m \u001b[1;33m\u001b[0m\u001b[0m\n\u001b[0;32m    896\u001b[0m         \u001b[1;31m# Initialize the state\u001b[0m\u001b[1;33m\u001b[0m\u001b[1;33m\u001b[0m\u001b[1;33m\u001b[0m\u001b[0m\n\u001b[1;32m--> 897\u001b[1;33m         \u001b[0mself\u001b[0m\u001b[1;33m.\u001b[0m\u001b[0m_initialize_state\u001b[0m\u001b[1;33m(\u001b[0m\u001b[0mprefix\u001b[0m\u001b[1;33m=\u001b[0m\u001b[0mprefix\u001b[0m\u001b[1;33m,\u001b[0m \u001b[0mcomplex_step\u001b[0m\u001b[1;33m=\u001b[0m\u001b[0mcomplex_step\u001b[0m\u001b[1;33m)\u001b[0m\u001b[1;33m\u001b[0m\u001b[1;33m\u001b[0m\u001b[0m\n\u001b[0m\u001b[0;32m    898\u001b[0m \u001b[1;33m\u001b[0m\u001b[0m\n\u001b[0;32m    899\u001b[0m         \u001b[1;31m# Run the filter\u001b[0m\u001b[1;33m\u001b[0m\u001b[1;33m\u001b[0m\u001b[1;33m\u001b[0m\u001b[0m\n",
      "\u001b[1;32m~\\anaconda3\\lib\\site-packages\\statsmodels\\tsa\\statespace\\representation.py\u001b[0m in \u001b[0;36m_initialize_state\u001b[1;34m(self, prefix, complex_step)\u001b[0m\n\u001b[0;32m    947\u001b[0m             \u001b[1;32mif\u001b[0m \u001b[1;32mnot\u001b[0m \u001b[0mself\u001b[0m\u001b[1;33m.\u001b[0m\u001b[0minitialization\u001b[0m\u001b[1;33m.\u001b[0m\u001b[0minitialized\u001b[0m\u001b[1;33m:\u001b[0m\u001b[1;33m\u001b[0m\u001b[1;33m\u001b[0m\u001b[0m\n\u001b[0;32m    948\u001b[0m                 \u001b[1;32mraise\u001b[0m \u001b[0mRuntimeError\u001b[0m\u001b[1;33m(\u001b[0m\u001b[1;34m'Initialization is incomplete.'\u001b[0m\u001b[1;33m)\u001b[0m\u001b[1;33m\u001b[0m\u001b[1;33m\u001b[0m\u001b[0m\n\u001b[1;32m--> 949\u001b[1;33m             self._statespaces[prefix].initialize(self.initialization,\n\u001b[0m\u001b[0;32m    950\u001b[0m                                                  complex_step=complex_step)\n\u001b[0;32m    951\u001b[0m         \u001b[1;32melse\u001b[0m\u001b[1;33m:\u001b[0m\u001b[1;33m\u001b[0m\u001b[1;33m\u001b[0m\u001b[0m\n",
      "\u001b[1;32mstatsmodels\\tsa\\statespace\\_representation.pyx\u001b[0m in \u001b[0;36mstatsmodels.tsa.statespace._representation.dStatespace.initialize\u001b[1;34m()\u001b[0m\n",
      "\u001b[1;32m~\\anaconda3\\lib\\site-packages\\statsmodels\\tsa\\statespace\\initialization.py\u001b[0m in \u001b[0;36m_initialize_initialization\u001b[1;34m(self, prefix)\u001b[0m\n\u001b[0;32m    227\u001b[0m         \u001b[1;31m# If they do exist, update them\u001b[0m\u001b[1;33m\u001b[0m\u001b[1;33m\u001b[0m\u001b[1;33m\u001b[0m\u001b[0m\n\u001b[0;32m    228\u001b[0m         \u001b[1;32melse\u001b[0m\u001b[1;33m:\u001b[0m\u001b[1;33m\u001b[0m\u001b[1;33m\u001b[0m\u001b[0m\n\u001b[1;32m--> 229\u001b[1;33m             self._representations[prefix]['constant'][:] = (\n\u001b[0m\u001b[0;32m    230\u001b[0m                 self.constant.astype(dtype)[:])\n\u001b[0;32m    231\u001b[0m             self._representations[prefix]['stationary_cov'][:] = (\n",
      "\u001b[1;31mKeyboardInterrupt\u001b[0m: "
     ]
    }
   ],
   "source": [
    "for x in ts:\n",
    "    model = pm.auto_arima(x, seasonal=False)\n",
    "    res = model.arima_res_\n",
    "    fitted = res.fittedvalues\n",
    "    print(granger_causality(fitted, x, 2, verbose = True))\n"
   ]
  },
  {
   "cell_type": "code",
   "execution_count": 36,
   "metadata": {},
   "outputs": [],
   "source": [
    "def fit_arima_dataset(TS):\n",
    "    n,m = TS.shape\n",
    "    newts = []\n",
    "    true_causality_mat = np.zeros((2*n,2*n))\n",
    "    for x in tqdm(ts):\n",
    "        newts.append(x)\n",
    "        model = pm.auto_arima(x, seasonal=False)\n",
    "        res = model.arima_res_\n",
    "        fitted = res.fittedvalues\n",
    "        newts.append(fitted)\n",
    "    newts = np.array(newts)\n",
    "    for i in range(0,2*n,2):\n",
    "        true_causality_mat[i, i + 1] = 1\n",
    "    \n",
    "    return newts, true_causality_mat\n",
    "    \n"
   ]
  },
  {
   "cell_type": "code",
   "execution_count": 37,
   "metadata": {},
   "outputs": [
    {
     "name": "stderr",
     "output_type": "stream",
     "text": [
      "100%|████████████████████████████████████████████████████████████████████████████████| 100/100 [06:45<00:00,  4.06s/it]\n"
     ]
    },
    {
     "ename": "NameError",
     "evalue": "name 'n' is not defined",
     "output_type": "error",
     "traceback": [
      "\u001b[1;31m---------------------------------------------------------------------------\u001b[0m",
      "\u001b[1;31mNameError\u001b[0m                                 Traceback (most recent call last)",
      "\u001b[1;32m<ipython-input-37-878fb4d702f9>\u001b[0m in \u001b[0;36m<module>\u001b[1;34m\u001b[0m\n\u001b[0;32m      1\u001b[0m \u001b[0mdata\u001b[0m\u001b[1;33m,\u001b[0m \u001b[0mtruemat\u001b[0m \u001b[1;33m=\u001b[0m \u001b[0mfit_arima_dataset\u001b[0m\u001b[1;33m(\u001b[0m\u001b[0mts\u001b[0m\u001b[1;33m)\u001b[0m\u001b[1;33m\u001b[0m\u001b[1;33m\u001b[0m\u001b[0m\n\u001b[0;32m      2\u001b[0m \u001b[1;33m\u001b[0m\u001b[0m\n\u001b[1;32m----> 3\u001b[1;33m \u001b[1;32mwith\u001b[0m \u001b[0mopen\u001b[0m\u001b[1;33m(\u001b[0m\u001b[1;34m'ecgarima{}.npy'\u001b[0m\u001b[1;33m.\u001b[0m\u001b[0mformat\u001b[0m\u001b[1;33m(\u001b[0m\u001b[0mn\u001b[0m\u001b[1;33m)\u001b[0m\u001b[1;33m,\u001b[0m \u001b[1;34m'wb'\u001b[0m\u001b[1;33m)\u001b[0m \u001b[1;32mas\u001b[0m \u001b[0mf\u001b[0m\u001b[1;33m:\u001b[0m\u001b[1;33m\u001b[0m\u001b[1;33m\u001b[0m\u001b[0m\n\u001b[0m\u001b[0;32m      4\u001b[0m     \u001b[0mnp\u001b[0m\u001b[1;33m.\u001b[0m\u001b[0msave\u001b[0m\u001b[1;33m(\u001b[0m\u001b[0mf\u001b[0m\u001b[1;33m,\u001b[0m \u001b[0mdata\u001b[0m\u001b[1;33m)\u001b[0m\u001b[1;33m\u001b[0m\u001b[1;33m\u001b[0m\u001b[0m\n\u001b[0;32m      5\u001b[0m \u001b[1;32mwith\u001b[0m \u001b[0mopen\u001b[0m\u001b[1;33m(\u001b[0m\u001b[1;34m'ecgarima{}_truemat.npy'\u001b[0m\u001b[1;33m.\u001b[0m\u001b[0mformat\u001b[0m\u001b[1;33m(\u001b[0m\u001b[0mn\u001b[0m\u001b[1;33m)\u001b[0m\u001b[1;33m,\u001b[0m \u001b[1;34m'wb'\u001b[0m\u001b[1;33m)\u001b[0m \u001b[1;32mas\u001b[0m \u001b[0mf\u001b[0m\u001b[1;33m:\u001b[0m\u001b[1;33m\u001b[0m\u001b[1;33m\u001b[0m\u001b[0m\n",
      "\u001b[1;31mNameError\u001b[0m: name 'n' is not defined"
     ]
    }
   ],
   "source": [
    "data, truemat = fit_arima_dataset(ts)\n",
    "\n",
    "with open('ecgarima{}.npy'.format(n), 'wb') as f:\n",
    "    np.save(f, data)\n",
    "with open('ecgarima{}_truemat.npy'.format(n), 'wb') as f:\n",
    "    np.save(f, truemat)"
   ]
  },
  {
   "cell_type": "code",
   "execution_count": 45,
   "metadata": {},
   "outputs": [],
   "source": [
    "with open('ecgarima{}.npy'.format(data.shape[0]), 'wb') as f:\n",
    "    np.save(f, data)\n",
    "with open('ecgarima{}_truemat.npy'.format(data.shape[0]), 'wb') as f:\n",
    "    np.save(f, truemat)"
   ]
  },
  {
   "cell_type": "code",
   "execution_count": 38,
   "metadata": {},
   "outputs": [
    {
     "data": {
      "text/plain": [
       "(200, 200)"
      ]
     },
     "execution_count": 38,
     "metadata": {},
     "output_type": "execute_result"
    }
   ],
   "source": [
    "truemat.shape"
   ]
  },
  {
   "cell_type": "code",
   "execution_count": 39,
   "metadata": {},
   "outputs": [
    {
     "data": {
      "text/plain": [
       "array([[0., 1., 0., ..., 0., 0., 0.],\n",
       "       [0., 0., 0., ..., 0., 0., 0.],\n",
       "       [0., 0., 0., ..., 0., 0., 0.],\n",
       "       ...,\n",
       "       [0., 0., 0., ..., 0., 0., 0.],\n",
       "       [0., 0., 0., ..., 0., 0., 1.],\n",
       "       [0., 0., 0., ..., 0., 0., 0.]])"
      ]
     },
     "execution_count": 39,
     "metadata": {},
     "output_type": "execute_result"
    }
   ],
   "source": [
    "truemat"
   ]
  },
  {
   "cell_type": "code",
   "execution_count": 44,
   "metadata": {},
   "outputs": [
    {
     "name": "stdout",
     "output_type": "stream",
     "text": [
      "0.00012364760411216476\n",
      "0.015331598739497984\n",
      "0.9999999191427038\n",
      "0.0\n",
      "2.8155373650363177e-06\n",
      "0.0009538112164670509\n",
      "0.3211622455557225\n",
      "0.37662862651421125\n",
      "1.754185908777808e-06\n",
      "3.561721701296321e-07\n",
      "0.010824836107273927\n",
      "0.0034805151223830863\n",
      "0.06216852485435889\n",
      "0.15775463542901896"
     ]
    },
    {
     "name": "stderr",
     "output_type": "stream",
     "text": [
      "C:\\Users\\kayan\\anaconda3\\lib\\site-packages\\statsmodels\\base\\model.py:1830: ValueWarning: covariance of constraints does not have full rank. The number of constraints is 2, but rank is 1\n",
      "  warnings.warn('covariance of constraints does not have full '\n",
      "C:\\Users\\kayan\\anaconda3\\lib\\site-packages\\statsmodels\\base\\model.py:1830: ValueWarning: covariance of constraints does not have full rank. The number of constraints is 3, but rank is 2\n",
      "  warnings.warn('covariance of constraints does not have full '\n",
      "C:\\Users\\kayan\\anaconda3\\lib\\site-packages\\statsmodels\\base\\model.py:1830: ValueWarning: covariance of constraints does not have full rank. The number of constraints is 4, but rank is 3\n",
      "  warnings.warn('covariance of constraints does not have full '\n",
      "C:\\Users\\kayan\\anaconda3\\lib\\site-packages\\statsmodels\\base\\model.py:1830: ValueWarning: covariance of constraints does not have full rank. The number of constraints is 5, but rank is 3\n",
      "  warnings.warn('covariance of constraints does not have full '\n"
     ]
    },
    {
     "name": "stdout",
     "output_type": "stream",
     "text": [
      "\n",
      "9.261601725549358e-05\n",
      "0.00036961013429761804\n",
      "3.336278869030592e-05\n",
      "9.98282364467388e-05\n",
      "0.00013832199596743996\n",
      "2.561140994390308e-05\n",
      "0.0011915227552305053\n",
      "0.00365375905918148\n",
      "0.0004127384276126055\n",
      "0.0018210521371481317\n",
      "2.0960289132130865e-06\n",
      "6.649928097323264e-09\n",
      "1.2169774707668294e-07\n",
      "9.651418202250216e-05\n",
      "0.03775905178962683\n",
      "0.10613429902760703\n",
      "5.7224770414530985e-05\n",
      "8.679726573398508e-07\n",
      "1.1088909459331145e-06\n",
      "0.0010891731383017242\n",
      "5.599019002721637e-06\n",
      "0.006506900625358747\n",
      "0.0005328400138073807\n",
      "0.0012994448331934186\n",
      "0.0007772853287046024\n",
      "0.006521319697686105\n",
      "0.004909232089165273\n",
      "0.054485790678732535\n",
      "0.0004066488305464226\n",
      "0.0026492097332779336\n",
      "0.00013122006329106676\n",
      "0.0011629631637073985\n",
      "0.06753020156372548\n",
      "0.0698322241313902\n",
      "9.283426420129586e-05\n",
      "5.7824380641963133e-05\n",
      "1.3341985889891967e-05\n",
      "1.175052443607801e-08\n",
      "6.019017306556713e-05\n",
      "5.662896473017014e-05\n",
      "0.0017494112040328327\n",
      "0.00022418199099133758\n",
      "0.003355776390033018\n",
      "0.0006337817246391627\n",
      "3.055838146905656e-06\n",
      "0.002447560064128227\n",
      "3.7221606624567925e-06\n",
      "0.0001934852516502662\n",
      "7.410468292919823e-06\n",
      "0.0007051332589517957\n",
      "1.298510499468693e-06\n",
      "5.462287572942598e-07\n",
      "4.666959002931599e-05\n",
      "3.3993184588153246e-05\n",
      "0.00019432825018015842\n",
      "0.0010602317372977647\n",
      "0.007618071230173218\n",
      "0.00469334391968742\n",
      "0.034010693917410614\n",
      "2.58224961185666e-07\n",
      "8.321700582695624e-05\n",
      "5.7114072244512566e-05\n",
      "0.0040948875261968155\n",
      "0.007751832420017419\n",
      "1.6048341011479157e-06\n",
      "1.2818967352319147e-06\n",
      "0.00037786794754550326\n",
      "0.007028303081242017\n",
      "7.681687803944951e-06\n",
      "0.016537609954963922\n",
      "0.00016499589608362096\n",
      "0.0005074433904383643\n",
      "0.0007005951870608561\n",
      "0.01384614427075126\n",
      "0.18200461465290893\n",
      "0.047622456914991736\n",
      "0.0003382881223196536\n",
      "2.2615970515402977e-05\n",
      "0.001271223072048472\n",
      "0.0023489128407663757\n",
      "0.02845258904491583\n",
      "0.009944683979774395\n",
      "1.5740513625511258e-05\n",
      "7.02666702762893e-05\n",
      "0.06359886817130216\n",
      "0.007701957042846822\n",
      "9.532051620216024e-06\n",
      "2.4186790604419747e-06\n",
      "5.1863289528241423e-05\n",
      "0.000949556704037422\n",
      "1.0496448580056842e-05\n",
      "3.771142167636041e-08\n",
      "5.259433716782318e-05\n",
      "0.00016089972333727283\n",
      "1.369300043369063e-05\n",
      "1.6170818538084666e-05\n",
      "8.768800283603486e-05\n",
      "3.604685837489532e-05\n",
      "0.000506563377156734\n",
      "0.00046738441975650174\n",
      "0.0053623764581540185\n",
      "0.02599096554513662\n",
      "1.9230429877043153e-05\n",
      "0.00011170932624939983\n",
      "0.00012141659660261667\n",
      "0.0012554627524476209\n",
      "9.76809228256206e-06\n",
      "0.00016846583102679552\n",
      "0.045064121888159094\n",
      "0.013805737635284003\n",
      "0.044700057389866654\n",
      "0.09672179965323799\n",
      "4.920680475284669e-06\n",
      "2.8797809344962098e-05\n",
      "1.287412539169528e-05\n",
      "4.670150699532177e-06\n",
      "0.012463558726761043\n",
      "2.9092021904226408e-06\n",
      "0.00010527713243419207\n",
      "0.0024417590429586947\n",
      "0.0017183434137680595\n",
      "0.000822141733255859\n",
      "0.0001658667907806639\n",
      "0.00015142016404782427\n",
      "2.436732584208343e-10\n",
      "3.942507628925539e-05\n",
      "0.0044646436179681375\n",
      "0.002739428372894746\n",
      "2.2004216726686962e-05\n",
      "0.0029673769793761326\n",
      "0.0011354862073384847\n",
      "0.20094600537114632\n",
      "5.027922672800154e-05\n",
      "3.484513078539473e-05\n",
      "1.4663349675706981e-06\n",
      "9.094720744090165e-05\n",
      "1.1532439058333648e-05\n",
      "1.5721902496128432e-05\n",
      "2.5852717279046365e-05\n",
      "0.0003148247377829837\n",
      "7.33356975219294e-07\n",
      "7.561264260304957e-06\n",
      "1.7116447285440816e-05\n",
      "0.00048093053140836747\n",
      "0.00021119646464211282\n",
      "0.0041205704919557145\n",
      "0.0002952262431370092\n",
      "0.0004287444275415292\n",
      "0.004265789768320642\n",
      "4.6237580960107075e-10\n",
      "4.1094333419867296e-06\n",
      "0.001026401402829448\n",
      "0.002162414323718441\n",
      "0.007827623078996484\n",
      "0.002725622661691854\n",
      "0.014509896244108287\n",
      "0.03240411271553012\n",
      "0.12526712270612148\n",
      "9.19076946510903e-07\n",
      "1.646635198267815e-07\n",
      "2.0680085054014354e-05\n",
      "5.2696994548631206e-05\n",
      "0.0028189874395461154\n",
      "0.0070125199680893206\n",
      "9.564703466612981e-06\n",
      "2.3937210464060764e-06\n",
      "0.0008699657900802661\n",
      "0.004770591594037957\n",
      "0.0008699197060383686\n",
      "0.012953702746873\n",
      "0.0024916530453615833\n",
      "0.01638223584031058\n",
      "1.5765711626254644e-05\n",
      "0.0008988780227665514\n",
      "0.030492129279459282\n",
      "0.033191818409638904\n",
      "0.039326128161111806\n",
      "0.033551862996854975\n",
      "0.02554863573020626\n",
      "0.07863818872775281\n",
      "0.0009696061757287351\n",
      "0.0016158643433131946\n",
      "0.004241874586859699\n",
      "0.00861944292349575\n",
      "0.004473994664116348\n",
      "0.0025503567104655112\n"
     ]
    },
    {
     "data": {
      "text/plain": [
       "1"
      ]
     },
     "execution_count": 44,
     "metadata": {},
     "output_type": "execute_result"
    }
   ],
   "source": [
    "cnt = 0\n",
    "\n",
    "for i, x in enumerate(data):\n",
    "    if granger_causality(x, data[2], lag = 5, verbose = True, pval = 1e-30,check_one_lag = False):\n",
    "        cnt += 1\n",
    "cnt"
   ]
  },
  {
   "cell_type": "code",
   "execution_count": 67,
   "metadata": {},
   "outputs": [
    {
     "data": {
      "text/plain": [
       "array([[ 0.50206   ,  0.54216   ,  0.72238   , ...,  0.70501   ,\n",
       "         0.71382   ,  0.43376   ],\n",
       "       [ 0.        ,  0.50206001,  0.56361384, ...,  0.56832891,\n",
       "         0.78701077,  0.72855504],\n",
       "       [ 0.14765   ,  0.80467   ,  0.36777   , ...,  0.036857  ,\n",
       "        -1.2651    , -0.20802   ],\n",
       "       ...,\n",
       "       [ 0.        ,  0.17950001,  1.2825747 , ...,  0.34533089,\n",
       "         0.21705792,  0.24245302],\n",
       "       [ 0.073124  ,  0.77605   ,  2.1813    , ..., -0.066689  ,\n",
       "        -0.17845   , -0.25605   ],\n",
       "       [ 0.        ,  0.073124  ,  1.03131193, ..., -0.38747969,\n",
       "         0.1628106 , -0.38049458]])"
      ]
     },
     "execution_count": 67,
     "metadata": {},
     "output_type": "execute_result"
    }
   ],
   "source": [
    "data"
   ]
  },
  {
   "cell_type": "code",
   "execution_count": 87,
   "metadata": {},
   "outputs": [],
   "source": [
    "noisydata = data.copy()\n",
    "for i in range(1, data.shape[0], 2):\n",
    "    noisydata[i] = data[i] + np.random.normal(0,0.01, data.shape[1])"
   ]
  },
  {
   "cell_type": "code",
   "execution_count": 88,
   "metadata": {},
   "outputs": [
    {
     "data": {
      "image/png": "[encoded data removed]",
      "text/plain": [
       "<Figure size 432x288 with 1 Axes>"
      ]
     },
     "metadata": {
      "needs_background": "light"
     },
     "output_type": "display_data"
    },
    {
     "data": {
      "image/png": "[encoded data removed]",
      "text/plain": [
       "<Figure size 432x288 with 1 Axes>"
      ]
     },
     "metadata": {
      "needs_background": "light"
     },
     "output_type": "display_data"
    }
   ],
   "source": [
    "plot(data[1] )\n",
    "plot(noisydata[1])\n"
   ]
  },
  {
   "cell_type": "code",
   "execution_count": 33,
   "metadata": {},
   "outputs": [
    {
     "ename": "NameError",
     "evalue": "name 'data' is not defined",
     "output_type": "error",
     "traceback": [
      "\u001b[1;31m---------------------------------------------------------------------------\u001b[0m",
      "\u001b[1;31mNameError\u001b[0m                                 Traceback (most recent call last)",
      "\u001b[1;32m<ipython-input-33-ff44f5d94eca>\u001b[0m in \u001b[0;36m<module>\u001b[1;34m\u001b[0m\n\u001b[1;32m----> 1\u001b[1;33m \u001b[1;32mwith\u001b[0m \u001b[0mopen\u001b[0m\u001b[1;33m(\u001b[0m\u001b[1;34m'ecgarimanoisy{}.npy'\u001b[0m\u001b[1;33m.\u001b[0m\u001b[0mformat\u001b[0m\u001b[1;33m(\u001b[0m\u001b[0mdata\u001b[0m\u001b[1;33m.\u001b[0m\u001b[0mshape\u001b[0m\u001b[1;33m[\u001b[0m\u001b[1;36m0\u001b[0m\u001b[1;33m]\u001b[0m\u001b[1;33m)\u001b[0m\u001b[1;33m,\u001b[0m \u001b[1;34m'wb'\u001b[0m\u001b[1;33m)\u001b[0m \u001b[1;32mas\u001b[0m \u001b[0mf\u001b[0m\u001b[1;33m:\u001b[0m\u001b[1;33m\u001b[0m\u001b[1;33m\u001b[0m\u001b[0m\n\u001b[0m\u001b[0;32m      2\u001b[0m     \u001b[0mnp\u001b[0m\u001b[1;33m.\u001b[0m\u001b[0msave\u001b[0m\u001b[1;33m(\u001b[0m\u001b[0mf\u001b[0m\u001b[1;33m,\u001b[0m \u001b[0mnoisydata\u001b[0m\u001b[1;33m)\u001b[0m\u001b[1;33m\u001b[0m\u001b[1;33m\u001b[0m\u001b[0m\n",
      "\u001b[1;31mNameError\u001b[0m: name 'data' is not defined"
     ]
    }
   ],
   "source": [
    "with open('ecgarimanoisy{}.npy'.format(data.shape[0]), 'wb') as f:\n",
    "    np.save(f, noisydata)"
   ]
  },
  {
   "cell_type": "code",
   "execution_count": 90,
   "metadata": {},
   "outputs": [
    {
     "name": "stdout",
     "output_type": "stream",
     "text": [
      "2.803637277322246e-160\n",
      "True\n"
     ]
    }
   ],
   "source": [
    "print(granger_causality(noisydata[3], noisydata[2], 2, verbose = True))"
   ]
  },
  {
   "cell_type": "code",
   "execution_count": 91,
   "metadata": {},
   "outputs": [
    {
     "data": {
      "text/plain": [
       "array([-0.01345084, -0.00843114,  0.01085562,  0.00726338, -0.00992198,\n",
       "        0.01349766, -0.0167964 , -0.00220097, -0.00157531, -0.0141308 ,\n",
       "       -0.0011057 ,  0.0150676 ,  0.00550692, -0.01605963,  0.0039178 ,\n",
       "        0.01410494, -0.01556796, -0.00698639, -0.01094912,  0.00983311,\n",
       "       -0.00820716,  0.01815883,  0.00783584, -0.00405231,  0.00752099,\n",
       "       -0.00304114, -0.00850401,  0.0161165 ,  0.0019999 ,  0.00328735,\n",
       "       -0.01294898,  0.01420791, -0.00795803,  0.00457226, -0.00637935,\n",
       "        0.01435475, -0.00142928, -0.01157228, -0.01890745,  0.02229153,\n",
       "       -0.00362485, -0.00810925,  0.00337952,  0.01596111,  0.00844618,\n",
       "        0.00373804, -0.01554699, -0.00185527, -0.00097903, -0.00353726,\n",
       "        0.00155275, -0.00912251,  0.01053491, -0.00646532, -0.00542733,\n",
       "        0.00771577, -0.00865337, -0.01128171, -0.01208091, -0.00279144,\n",
       "        0.00959386, -0.00862077,  0.00066761,  0.00668116,  0.00416067,\n",
       "        0.00189371,  0.01047537, -0.00474251,  0.00067109,  0.01173893,\n",
       "        0.00455193, -0.00699247, -0.00698222,  0.00176688, -0.01151197,\n",
       "        0.00870577,  0.01255632,  0.00982697,  0.00288363, -0.0009281 ,\n",
       "        0.01192671, -0.00210851,  0.00417299, -0.00376732, -0.00362855,\n",
       "        0.00782008,  0.00222138, -0.00729801,  0.01511394, -0.01080794,\n",
       "        0.01343179,  0.01361337,  0.01583313,  0.01116441, -0.01782958,\n",
       "        0.00119013])"
      ]
     },
     "execution_count": 91,
     "metadata": {},
     "output_type": "execute_result"
    }
   ],
   "source": [
    "noisydata[3]-data[3]"
   ]
  },
  {
   "cell_type": "code",
   "execution_count": 28,
   "metadata": {},
   "outputs": [],
   "source": [
    "noisydata = np.load('ecgarimanoisy200.npy')"
   ]
  },
  {
   "cell_type": "code",
   "execution_count": 35,
   "metadata": {},
   "outputs": [
    {
     "data": {
      "image/png": "[encoded data removed]",
      "text/plain": [
       "<Figure size 432x288 with 1 Axes>"
      ]
     },
     "metadata": {
      "needs_background": "light"
     },
     "output_type": "display_data"
    }
   ],
   "source": [
    "plot(noisydata[1])"
   ]
  },
  {
   "cell_type": "code",
   "execution_count": 37,
   "metadata": {},
   "outputs": [
    {
     "name": "stdout",
     "output_type": "stream",
     "text": [
      "1.0\n",
      "3.75063991524724e-51\n",
      "0.36511074787628095\n",
      "0.392183088065749\n",
      "0.5765414572565024\n",
      "3.111721968896583e-09\n",
      "0.011665754566525497\n",
      "0.03853635653054882\n",
      "0.21457055322013274\n",
      "0.9368047967695049\n",
      "0.1999418133591078\n",
      "0.05134998856101839\n",
      "0.001217611564393595\n",
      "0.00030813800002665116\n",
      "0.5878452439986105\n",
      "0.004028632774335119\n",
      "0.005202455135386836\n",
      "0.9459739363573323\n",
      "0.5959449293220367\n",
      "0.9099872324153656\n",
      "0.8743788841991694\n",
      "0.11967305502296595\n",
      "0.005261519207665881\n",
      "6.783768617160453e-05\n",
      "0.9327221008378147\n",
      "0.627699152394987\n",
      "0.059102605837359545\n",
      "0.2752512006418353\n",
      "0.00032771797399804877\n",
      "3.0110952655329156e-05\n",
      "0.9510641291264081\n",
      "0.9589858702096807\n",
      "0.0885318176095813\n",
      "0.4599291550529747\n",
      "0.7406252464086993\n",
      "0.7778898475178715\n",
      "0.029921177582269143\n",
      "0.042111064662947575\n",
      "0.004288147719217249\n",
      "1.0462192284026752e-05\n",
      "0.621114159400449\n",
      "0.828542208521914\n",
      "0.5490619545043257\n",
      "0.3613021501761643\n",
      "0.6738650256531535\n",
      "0.02434054943393938\n",
      "0.03652831521155005\n",
      "0.5471421658534876\n",
      "0.658794042730342\n",
      "0.734731236819341\n",
      "0.502585185534183\n",
      "0.4376485771081611\n",
      "0.20228123995260996\n",
      "0.528778482745492\n",
      "0.008462879601372429\n",
      "0.06554974955477584\n",
      "0.6151966475918513\n",
      "0.06041445131429941\n",
      "0.1122980428914119\n",
      "0.7580123301635445\n",
      "0.34918932775018074\n",
      "0.9036148440664398\n",
      "0.2473347934598765\n",
      "0.9874355863028631\n",
      "0.8558439162481722\n",
      "0.9988845704154847\n",
      "0.3451349997702964\n",
      "0.7798159245431688\n",
      "0.4722197607242542\n",
      "0.26188908160130586\n",
      "0.0067400290539859145\n",
      "0.017403804902675363\n",
      "0.780470269865929\n",
      "0.36898519723359396\n",
      "0.32307360241882926\n",
      "0.38764095722836744\n",
      "0.00808353221635325\n",
      "0.28787151872952355\n",
      "0.17074498913114375\n",
      "0.9094290074282768\n",
      "0.09069623849821162\n",
      "0.05397249820946137\n",
      "0.004918955894325965\n",
      "0.3950127415212964\n",
      "0.12066181312223644\n",
      "0.25577343431968974\n",
      "0.00021733720661082172\n",
      "2.4444772049518875e-08\n",
      "0.05751274875685074\n",
      "0.022481678726551328\n",
      "0.1812686766499703\n",
      "0.934232533581723\n",
      "0.46875696815043844\n",
      "0.8423411377332448\n",
      "0.014281802089989151\n",
      "0.16665620431788764\n",
      "0.14859739760883742\n",
      "0.6900750229701444\n",
      "0.513319835314118\n",
      "0.8230064842907575\n",
      "0.6492112885216688\n",
      "0.8246734306161961\n",
      "0.07852029263660917\n",
      "0.7529970338987564\n",
      "0.2408089936138286\n",
      "0.42340269048292156\n",
      "0.4175876446533964\n",
      "0.3145908608839092\n",
      "0.6876946062196033\n",
      "0.7788464879356747\n",
      "0.07439512349145834\n",
      "0.9111962736648365\n",
      "0.07546430020304712\n",
      "0.05083782239883306\n",
      "3.1377252189341115e-09\n",
      "7.716838669493058e-11\n",
      "0.19082594610367004\n",
      "0.526302177948728\n",
      "0.1450232169077301\n",
      "0.2005967825072196\n",
      "0.1638162165457529\n",
      "0.6859953675139834\n",
      "0.6634785107213108\n",
      "0.6855062278036519\n",
      "0.029916112348853323\n",
      "0.02310645010741258\n",
      "0.06580192256263423\n",
      "0.17853674093740093\n",
      "0.13178701286950903\n",
      "0.5535220925807718\n",
      "0.5302346395364443\n",
      "0.511402472745051\n",
      "0.08648352492278903\n",
      "0.45301603818399383\n",
      "0.856437671428143\n",
      "0.3676846857544943\n",
      "0.2368786762434547\n",
      "0.5313665896334157\n",
      "0.12033601086958352\n",
      "0.9775131188516373\n",
      "0.30060987581934123\n",
      "0.034698097517934665\n",
      "0.33388529049853843\n",
      "0.5624741768318497\n",
      "0.17171318435551433\n",
      "0.420649550146304\n",
      "0.057393635497037354\n",
      "0.7053010479854811\n",
      "0.9743527395392332\n",
      "0.17261482524082464\n",
      "0.10058682151854309\n",
      "0.601402436237259\n",
      "0.1037450888810312\n",
      "0.9206932045510005\n",
      "0.06894956719984831\n",
      "0.8637259906856928\n",
      "0.025196593196812483\n",
      "0.8753396485106563\n",
      "0.7719280780529879\n",
      "0.6496080188552276\n",
      "0.597796364866325\n",
      "0.8722030673075597\n",
      "0.42931248002124656\n",
      "0.3671017666552137\n",
      "0.05883252363978337\n",
      "0.7503053120961869\n",
      "0.2520827104394867\n",
      "0.0031313702388208716\n",
      "0.0003206031679302236\n",
      "8.821602659703596e-09\n",
      "0.03276462248695388\n",
      "0.0021048317904805752\n",
      "0.26254508648060904\n",
      "0.1444160691350785\n",
      "0.2656611775179816\n",
      "0.7728012191380962\n",
      "0.35328556597158134\n",
      "0.15594218937709026\n",
      "0.5708736148633808\n",
      "0.9458938839831103\n",
      "9.277556392227546e-05\n",
      "2.63248734130508e-08\n",
      "0.03240411590883079\n",
      "0.16502031311770485\n",
      "0.7666633335277919\n",
      "0.0023377857655693967\n",
      "1.4610392376378031e-05\n",
      "0.016787066652595727\n",
      "0.5554311557042722\n",
      "0.8713013929842963\n",
      "0.0627788017322255\n",
      "0.0004155372002304576\n",
      "0.0035281445048088848\n",
      "0.00415222660049359\n",
      "0.5628631061337546\n",
      "0.04506494651634189\n",
      "0.1167704607068566\n",
      "0.9558248713149655\n",
      "0.5151925432804496\n",
      "0.29207600955681634\n"
     ]
    },
    {
     "data": {
      "text/plain": [
       "1"
      ]
     },
     "execution_count": 37,
     "metadata": {},
     "output_type": "execute_result"
    }
   ],
   "source": [
    "cnt = 0\n",
    "\n",
    "for i, x in enumerate(noisydata):\n",
    "    if granger_causality(x, noisydata[0], lag = 2, verbose = True, pval = 1e-30):\n",
    "        cnt += 1\n",
    "cnt"
   ]
  },
  {
   "cell_type": "code",
   "execution_count": 38,
   "metadata": {},
   "outputs": [
    {
     "data": {
      "text/plain": [
       "(array([[ 0.50206   ,  0.54216   ,  0.72238   , ...,  0.70501   ,\n",
       "          0.71382   ,  0.43376   ],\n",
       "        [ 0.01444202,  0.49740006,  1.07616782, ...,  1.20095997,\n",
       "          1.50217075,  1.42456539],\n",
       "        [ 0.14765   ,  0.80467   ,  0.36777   , ...,  0.036857  ,\n",
       "         -1.2651    , -0.20802   ],\n",
       "        ...,\n",
       "        [ 0.00745361,  0.1824419 ,  1.45942475, ...,  0.49109721,\n",
       "          0.65668511,  0.40127713],\n",
       "        [ 0.073124  ,  0.77605   ,  2.1813    , ..., -0.066689  ,\n",
       "         -0.17845   , -0.25605   ],\n",
       "        [ 0.01045457,  0.07439219,  1.10223181, ..., -0.73494454,\n",
       "         -0.29292601, -0.45409722]]),\n",
       " array([[0., 1., 0., ..., 0., 0., 0.],\n",
       "        [0., 0., 0., ..., 0., 0., 0.],\n",
       "        [0., 0., 0., ..., 0., 0., 0.],\n",
       "        ...,\n",
       "        [0., 0., 0., ..., 0., 0., 0.],\n",
       "        [0., 0., 0., ..., 0., 0., 1.],\n",
       "        [0., 0., 0., ..., 0., 0., 0.]]))"
      ]
     },
     "execution_count": 38,
     "metadata": {},
     "output_type": "execute_result"
    }
   ],
   "source": [
    "add_causality_dataset(noisydata, lag = 2)"
   ]
  },
  {
   "cell_type": "code",
   "execution_count": 39,
   "metadata": {},
   "outputs": [
    {
     "name": "stdout",
     "output_type": "stream",
     "text": [
      "1.0\n",
      "2.273323507692223e-33\n",
      "0.36511074787628095\n",
      "0.4212993335836396\n",
      "0.5765414572565024\n",
      "1.1406572532069706e-10\n",
      "0.011665754566525497\n",
      "0.03345092691838757\n",
      "0.21457055322013274\n",
      "0.9978268381177143\n",
      "0.1999418133591078\n",
      "0.4982908466204743\n",
      "0.001217611564393595\n",
      "0.012009981016839017\n",
      "0.5878452439986105\n",
      "0.007139016478503432\n",
      "0.005202455135386836\n",
      "0.8207482319425906\n",
      "0.5959449293220367\n",
      "0.5026405490740453\n",
      "0.8743788841991694\n",
      "0.2454982842610235\n",
      "0.005261519207665881\n",
      "0.0003316478925805887\n",
      "0.9327221008378147\n",
      "0.5704752259168404\n",
      "0.059102605837359545\n",
      "0.4860722116157683\n",
      "0.00032771797399804877\n",
      "4.748920113223749e-06\n",
      "0.9510641291264081\n",
      "0.5124418517847926\n",
      "0.0885318176095813\n",
      "0.8274438892500756\n",
      "0.7406252464086993\n",
      "0.5378523391009404\n",
      "0.029921177582269143\n",
      "0.09958830752344455\n",
      "0.004288147719217249\n",
      "0.002448010395146424\n",
      "0.621114159400449\n",
      "0.6449500243481459\n",
      "0.5490619545043257\n",
      "0.5405813174943643\n",
      "0.6738650256531535\n",
      "0.04623629478654132\n",
      "0.03652831521155005\n",
      "0.5023300910382684\n",
      "0.658794042730342\n",
      "0.5280890684485038\n",
      "0.502585185534183\n",
      "0.7438315018285826\n",
      "0.20228123995260996\n",
      "0.22269712545964998\n",
      "0.008462879601372429\n",
      "0.038488946716657334\n",
      "0.6151966475918513\n",
      "0.19881913521983913\n",
      "0.1122980428914119\n",
      "0.7814290469537708\n",
      "0.34918932775018074\n",
      "0.9323053845870204\n",
      "0.2473347934598765\n",
      "0.9850871064806921\n",
      "0.8558439162481722\n",
      "0.7919557316407309\n",
      "0.3451349997702964\n",
      "0.9310038730058194\n",
      "0.4722197607242542\n",
      "0.30316051084061957\n",
      "0.0067400290539859145\n",
      "0.11232671789686975\n",
      "0.780470269865929\n",
      "0.510193554873555\n",
      "0.32307360241882926\n",
      "0.25362696513032446\n",
      "0.00808353221635325\n",
      "0.27032466135044436\n",
      "0.17074498913114375\n",
      "0.9853654382857673\n",
      "0.09069623849821162\n",
      "0.07170059998690716\n",
      "0.004918955894325965\n",
      "0.40843513293867595\n",
      "0.12066181312223644\n",
      "0.49271183993526946\n",
      "0.00021733720661082172\n",
      "1.30277111693662e-06\n",
      "0.05751274875685074\n",
      "0.0041416684198344374\n",
      "0.1812686766499703\n",
      "0.9656290103879847\n",
      "0.46875696815043844\n",
      "0.648775981466835\n",
      "0.014281802089989151\n",
      "0.08723515132336165\n",
      "0.14859739760883742\n",
      "0.5367133392647762\n",
      "0.513319835314118\n",
      "0.8893739337144427\n",
      "0.6492112885216688\n",
      "0.3588874875465204\n",
      "0.07852029263660917\n",
      "0.9737157945027793\n",
      "0.2408089936138286\n",
      "0.6044534204506307\n",
      "0.4175876446533964\n",
      "0.11739884132108996\n",
      "0.6876946062196033\n",
      "0.9633936885628157\n",
      "0.07439512349145834\n",
      "0.9644411847695964\n",
      "0.07546430020304712\n",
      "0.21692126615986293\n",
      "3.1377252189341115e-09\n",
      "7.176211217761241e-12\n",
      "0.19082594610367004\n",
      "0.40206034852331185\n",
      "0.1450232169077301\n",
      "0.5785806984915995\n",
      "0.1638162165457529\n",
      "0.40756286702382283\n",
      "0.6634785107213108\n",
      "0.28726109561553664\n",
      "0.029916112348853323\n",
      "0.04921371807255394\n",
      "0.06580192256263423\n",
      "0.19274019220957475\n",
      "0.13178701286950903\n",
      "0.7945306784752828\n",
      "0.5302346395364443\n",
      "0.6264618359018779\n",
      "0.08648352492278903\n",
      "0.6677690466347356\n",
      "0.856437671428143\n",
      "0.43131545316054987\n",
      "0.2368786762434547\n",
      "0.29448708334107404\n",
      "0.12033601086958352\n",
      "0.933849426501447\n",
      "0.30060987581934123\n",
      "0.005863677309235083\n",
      "0.33388529049853843\n",
      "0.4576882967490197\n",
      "0.17171318435551433\n",
      "0.2959298778138669\n",
      "0.057393635497037354\n",
      "0.42739806342769615\n",
      "0.9743527395392332\n",
      "0.07816855547580957\n",
      "0.10058682151854309\n",
      "0.587100327351012\n",
      "0.1037450888810312\n",
      "0.7491188670879357\n",
      "0.06894956719984831\n",
      "0.8532657950258449\n",
      "0.025196593196812483\n",
      "0.9363280686969181\n",
      "0.7719280780529879\n",
      "0.8633939606606107\n",
      "0.597796364866325\n",
      "0.9203924239623125\n",
      "0.42931248002124656\n",
      "0.39892045883718874\n",
      "0.05883252363978337\n",
      "0.9010207512394169\n",
      "0.2520827104394867\n",
      "0.06966839230005978\n",
      "0.0003206031679302236\n",
      "2.0187640133072588e-08\n",
      "0.03276462248695388\n",
      "0.00010471624999350134\n",
      "0.26254508648060904\n",
      "0.25021389955404066\n",
      "0.2656611775179816\n",
      "0.7821550969140292\n",
      "0.35328556597158134\n",
      "0.21013820618672974\n",
      "0.5708736148633808\n",
      "0.8708884458628582\n",
      "9.277556392227546e-05\n",
      "6.118203473254665e-08\n",
      "0.03240411590883079\n",
      "0.1911047921756347\n",
      "0.7666633335277919\n",
      "0.00984268766529383\n",
      "1.4610392376378031e-05\n",
      "0.10502888828776165\n",
      "0.5554311557042722\n",
      "0.6069827987224832\n",
      "0.0627788017322255\n",
      "0.0036579651253603905\n",
      "0.0035281445048088848\n",
      "0.12953584054301678\n",
      "0.5628631061337546\n",
      "0.0199611192656953\n",
      "0.1167704607068566\n",
      "0.8905448078289314\n",
      "0.5151925432804496\n",
      "0.4138816535327141\n"
     ]
    },
    {
     "data": {
      "text/plain": [
       "1"
      ]
     },
     "execution_count": 39,
     "metadata": {},
     "output_type": "execute_result"
    }
   ],
   "source": [
    "cnt = 0\n",
    "\n",
    "for i, x in enumerate(noisydata):\n",
    "    if granger_causality(x, noisydata[0], lag = 2, verbose = True, pval = 1e-30):\n",
    "        cnt += 1\n",
    "cnt"
   ]
  },
  {
   "cell_type": "code",
   "execution_count": 28,
   "metadata": {},
   "outputs": [
    {
     "data": {
      "image/png": "[encoded data removed]",
      "text/plain": [
       "<Figure size 432x288 with 1 Axes>"
      ]
     },
     "metadata": {
      "needs_background": "light"
     },
     "output_type": "display_data"
    }
   ],
   "source": [
    "plot(noisydata[1])"
   ]
  },
  {
   "cell_type": "code",
   "execution_count": 30,
   "metadata": {},
   "outputs": [
    {
     "name": "stdout",
     "output_type": "stream",
     "text": [
      "9.748032257074384e-168\n"
     ]
    },
    {
     "data": {
      "text/plain": [
       "True"
      ]
     },
     "execution_count": 30,
     "metadata": {},
     "output_type": "execute_result"
    }
   ],
   "source": [
    "granger_causality(noisydata[3], noisydata[2], lag = 2, verbose = True)"
   ]
  },
  {
   "cell_type": "code",
   "execution_count": null,
   "metadata": {},
   "outputs": [],
   "source": []
  },
  {
   "cell_type": "code",
   "execution_count": 32,
   "metadata": {},
   "outputs": [],
   "source": [
    "with open('ecgarimanoisyadded{}.npy'.format(200), 'wb') as f:\n",
    "    np.save(f, noisydata)"
   ]
  },
  {
   "cell_type": "markdown",
   "metadata": {},
   "source": [
    "--------------------------------------------"
   ]
  },
  {
   "cell_type": "code",
   "execution_count": 4,
   "metadata": {},
   "outputs": [],
   "source": [
    "noisydata = np.load('ecgarimanoisy200.npy')"
   ]
  },
  {
   "cell_type": "code",
   "execution_count": 5,
   "metadata": {},
   "outputs": [],
   "source": [
    "def add_noise(TS, sd):\n",
    "    n,m  = TS.shape\n",
    "    newTS = TS.copy()\n",
    "    for i in range(1,n,2):\n",
    "        newTS[i] += np.random.normal(0, sd, m)\n",
    "    return newTS"
   ]
  },
  {
   "cell_type": "code",
   "execution_count": 11,
   "metadata": {},
   "outputs": [],
   "source": [
    "sd1 = add_noise(noisydata, 1)"
   ]
  },
  {
   "cell_type": "code",
   "execution_count": 12,
   "metadata": {},
   "outputs": [
    {
     "data": {
      "image/png": "[encoded data removed]",
      "text/plain": [
       "<Figure size 432x288 with 1 Axes>"
      ]
     },
     "metadata": {
      "needs_background": "light"
     },
     "output_type": "display_data"
    },
    {
     "data": {
      "image/png": "[encoded data removed]",
      "text/plain": [
       "<Figure size 432x288 with 1 Axes>"
      ]
     },
     "metadata": {
      "needs_background": "light"
     },
     "output_type": "display_data"
    }
   ],
   "source": [
    "plot(noisydata[1])\n",
    "plot(sd1[1])"
   ]
  },
  {
   "cell_type": "code",
   "execution_count": 21,
   "metadata": {},
   "outputs": [
    {
     "name": "stdout",
     "output_type": "stream",
     "text": [
      "1.1488340386311819e-07\n",
      "2.94837889847398e-07\n",
      "0.00012970324504448796\n",
      "0.20981772432409773\n",
      "5.343659006019833e-12\n",
      "9.88314985506804e-05\n",
      "0.9999999999999999\n",
      "4.476726373923967e-11\n",
      "0.0035183221843543737\n",
      "0.04925466955697716\n",
      "0.010588472858258898\n",
      "0.03391811488191466\n",
      "0.0001339316910978228\n",
      "3.853695126018002e-06\n",
      "0.00034400473762289844\n",
      "0.015404788185535022\n",
      "0.0007916347686792505\n",
      "0.061728059749200155\n",
      "0.0013503066766930218\n",
      "0.0417074674875064\n",
      "3.681881222022499e-05\n",
      "0.0008097719554153606\n",
      "0.00016587543096453333\n",
      "0.0007766943659370675\n",
      "0.0001468941193519098\n",
      "0.13419081176452693\n",
      "0.002462055993268514\n",
      "0.15335426417675377\n",
      "1.5301294358895845e-05\n",
      "8.286533653924798e-06\n",
      "0.0005999840230058427\n",
      "0.08613417822363477\n",
      "0.00019892068997132774\n",
      "0.3437833092963962\n",
      "0.00028428134118860276\n",
      "0.22343724521149227\n",
      "4.9242948538705935e-11\n",
      "0.0001373539235958514\n",
      "0.0007477324370042815\n",
      "6.603134414880336e-07\n",
      "9.018645164596562e-05\n",
      "0.006433892090154219\n",
      "7.469326465936858e-05\n",
      "0.05884229108686892\n",
      "0.016870693822627382\n",
      "0.010433976375719503\n",
      "0.0003207258203852362\n",
      "0.05476223694410941\n",
      "0.002501612553970437\n",
      "0.19865891023914617\n",
      "0.0007860241599300932\n",
      "0.08217239497665121\n",
      "0.005626209947610985\n",
      "0.08337492298345392\n",
      "4.168563981075329e-05\n",
      "3.84139861510129e-05\n",
      "0.00021832139986773677\n",
      "0.14567142031643426\n",
      "1.5627019492961037e-07\n",
      "0.10534226437197716\n",
      "0.0003996431113994187\n",
      "0.015854800551734084\n",
      "0.0006277128601346769\n",
      "0.004606457819417634\n",
      "0.018696050282252914\n",
      "0.030654910047638803\n",
      "9.673221477611678e-05\n",
      "0.1678865673461812\n",
      "0.0011660275804321746\n",
      "0.021691191213952597\n",
      "0.006220173051201069\n",
      "0.039696709250670086\n",
      "0.00032638709079300466\n",
      "4.7204288524754805e-05\n",
      "0.0002429979238632774\n",
      "0.029808486025446033\n",
      "1.516248399047884e-05\n",
      "4.654106633925061e-06\n",
      "0.0005055731212729171\n",
      "0.0014290182683109178\n",
      "1.610037896016536e-05\n",
      "4.414874043279153e-07\n",
      "3.256248050550212e-06\n",
      "0.002244409712432826\n",
      "0.008879231334146429\n",
      "0.04719637090872598\n",
      "0.00012074436191282692\n",
      "1.8707319630501705e-08\n",
      "0.002278595552780715\n",
      "0.06317271688781924\n",
      "0.006292837717319521\n",
      "0.06269435215109495\n",
      "0.0004203947242010319\n",
      "0.5904966536896217\n",
      "7.249014223229736e-11\n",
      "1.2328078373395433e-08\n",
      "0.010975024734483892\n",
      "0.21965165622837268\n",
      "0.028029820583130697\n",
      "0.016640289310402154\n",
      "0.0004514333196290006\n",
      "0.015208133133284932\n",
      "0.03624797055223028\n",
      "9.447715813688064e-05\n",
      "0.0001664256232552586\n",
      "0.13766808248453968\n",
      "0.002234180153865903\n",
      "0.14169591410022986\n",
      "0.0310477864667814\n",
      "0.0025347261436135826\n",
      "0.00020482412098524682\n",
      "0.013146894955681065\n",
      "0.0017719796469713562\n",
      "0.013430374288576238\n",
      "1.574283589843045e-05\n",
      "5.8805040128616867e-08\n",
      "0.01926632262552404\n",
      "0.17010605146829164\n",
      "0.00038746532949002113\n",
      "0.01922825150620126\n",
      "2.3537946457459597e-05\n",
      "0.055055238415612544\n",
      "0.04331933820674723\n",
      "0.1323933042006247\n",
      "0.00010036178407208225\n",
      "2.9980918085628226e-07\n",
      "0.021898216001598504\n",
      "0.02287426656982235\n",
      "6.328724065536228e-05\n",
      "0.02071806998251803\n",
      "3.7848792613982e-07\n",
      "0.07358400894451722\n",
      "0.0012671865125513878\n",
      "0.0005052874634548303\n",
      "0.0003325972018027725\n",
      "0.22086757439774435\n",
      "0.0047655592124326365\n",
      "0.04268348478768882\n",
      "2.9614481139224865e-05\n",
      "0.007511306718970973\n",
      "9.046236949785254e-06\n",
      "0.0018369341324608818\n",
      "0.010181315118513837\n",
      "0.02001985669708542\n",
      "0.0007337620039629102\n",
      "0.0008182342852890217\n",
      "1.5699774556398342e-05\n",
      "0.01918006243901952\n",
      "0.03177367463400457\n",
      "0.064968150817146\n",
      "0.0015602583407172664\n",
      "0.2035870817865051\n",
      "1.9168411057015622e-05\n",
      "0.01807043798610422\n",
      "0.0017249743708251195\n",
      "0.034666608432169295\n",
      "0.0019637328709456716\n",
      "0.009315673564480452\n",
      "3.9704009182355323e-08\n",
      "0.00030824052577783716\n",
      "0.00033561702869437773\n",
      "0.4506296763824945\n",
      "3.402801941906522e-05\n",
      "0.008459574374856392\n",
      "0.0007802623199973072\n",
      "0.014389919476232704\n",
      "0.0005126630943328326\n",
      "0.007478567605439092\n",
      "0.00030980137388686636\n",
      "2.0237246469712057e-05\n",
      "2.0288391851136052e-05\n",
      "2.5596861272245375e-08\n",
      "0.00122307626597017\n",
      "0.010299201698595162\n",
      "0.00032229871661946824\n",
      "0.09568706075440922\n",
      "0.02153459777435424\n",
      "0.0922861359729111\n",
      "0.01230286665178246\n",
      "0.317905989632407\n",
      "2.4871494004260868e-05\n",
      "9.501865391111829e-05\n",
      "4.6432409863627165e-06\n",
      "0.06489781962387484\n",
      "0.0103376706947049\n",
      "0.11358971898252668\n",
      "2.9817378790515354e-07\n",
      "0.007667918334769402\n",
      "0.0016405517546307664\n",
      "0.0001105091218720583\n",
      "1.1400922878889481e-07\n",
      "1.0435031002347056e-07\n",
      "8.022266525713695e-05\n",
      "0.029395929756330763\n",
      "0.0008544553375013638\n",
      "0.04106907303565906\n",
      "1.7523518387463319e-06\n",
      "0.05842701763563522\n",
      "4.126733787333509e-05\n",
      "0.15941434476439215\n"
     ]
    },
    {
     "data": {
      "text/plain": [
       "0"
      ]
     },
     "execution_count": 21,
     "metadata": {},
     "output_type": "execute_result"
    }
   ],
   "source": [
    "cnt = 0\n",
    "\n",
    "for i, x in enumerate(sd1):\n",
    "    if granger_causality(x, sd1[6], lag = 5, verbose = True, pval = 1e-30,check_one_lag = False):\n",
    "        cnt += 1\n",
    "cnt"
   ]
  },
  {
   "cell_type": "code",
   "execution_count": 22,
   "metadata": {},
   "outputs": [],
   "source": [
    "with open('ecgarimanoisewithsd{}.npy'.format(1), 'wb') as f:\n",
    "    np.save(f, sd1)"
   ]
  },
  {
   "cell_type": "code",
   "execution_count": 23,
   "metadata": {},
   "outputs": [],
   "source": [
    "sd05 = add_noise(noisydata, 0.5)"
   ]
  },
  {
   "cell_type": "code",
   "execution_count": 24,
   "metadata": {},
   "outputs": [
    {
     "data": {
      "image/png": "[encoded data removed]",
      "text/plain": [
       "<Figure size 432x288 with 1 Axes>"
      ]
     },
     "metadata": {
      "needs_background": "light"
     },
     "output_type": "display_data"
    },
    {
     "data": {
      "image/png": "[encoded data removed]",
      "text/plain": [
       "<Figure size 432x288 with 1 Axes>"
      ]
     },
     "metadata": {
      "needs_background": "light"
     },
     "output_type": "display_data"
    }
   ],
   "source": [
    "plot(noisydata[1])\n",
    "plot(sd05[1])"
   ]
  },
  {
   "cell_type": "code",
   "execution_count": 27,
   "metadata": {},
   "outputs": [
    {
     "name": "stdout",
     "output_type": "stream",
     "text": [
      "1.0\n",
      "1.3930606687498426e-12\n",
      "0.2545226758177345\n",
      "0.34991854682907886\n",
      "0.23099001942518174\n",
      "4.751539842444734e-14\n",
      "0.011665754566525497\n",
      "1.0048706317073381e-05\n",
      "0.21457055322013274\n",
      "0.18271762441501002\n",
      "0.1999418133591078\n",
      "0.1083370759938522\n",
      "0.001217611564393595\n",
      "0.00023319511699405052\n",
      "0.007370682712151132\n",
      "4.482326648407741e-05\n",
      "0.005202455135386836\n",
      "0.21408646720020533\n",
      "0.5959449293220367\n",
      "0.09223307478559796\n",
      "0.025219969321323064\n",
      "6.710317263163823e-06\n",
      "0.005261519207665881\n",
      "1.5500028909812e-06\n",
      "0.23460995397526108\n",
      "0.613478379707779\n",
      "0.059102605837359545\n",
      "0.43882223707257084\n",
      "4.392704269136087e-08\n",
      "6.265450965020632e-07\n",
      "0.5083256294282668\n",
      "0.22463631298416661\n",
      "0.0885318176095813\n",
      "0.22673269498471255\n",
      "0.4886679315596407\n",
      "0.4716853207727658\n",
      "0.029921177582269143\n",
      "0.0010437122713679594\n",
      "0.004288147719217249\n",
      "1.1627265558270642e-09\n",
      "0.20989358503401329\n",
      "0.6284284204542567\n",
      "0.25885369681422943\n",
      "0.03640804041329194\n",
      "0.32348147156313933\n",
      "0.004181879833683976\n",
      "0.03652831521155005\n",
      "0.2658702767988932\n",
      "0.3908698922631981\n",
      "0.059884695149848365\n",
      "0.10970349993056609\n",
      "0.5018137204411204\n",
      "0.20228123995260996\n",
      "0.11400101066553298\n",
      "0.008462879601372429\n",
      "0.00038399238718795416\n",
      "0.6151966475918513\n",
      "0.026725082246863284\n",
      "0.1122980428914119\n",
      "0.2721166573110766\n",
      "0.34918932775018074\n",
      "0.15401692681109197\n",
      "0.2473347934598765\n",
      "0.2347654493007357\n",
      "0.3169728161647405\n",
      "0.10025231725523123\n",
      "0.12910766340199062\n",
      "0.1466600221320746\n",
      "0.21949422035267488\n",
      "0.007402225591907661\n",
      "0.0005416952755506844\n",
      "0.5131173597624571\n",
      "0.1443916705379107\n",
      "0.6261112611790844\n",
      "0.32307360241882926\n",
      "0.04173309625973076\n",
      "0.00808353221635325\n",
      "0.004031538172232807\n",
      "0.17074498913114375\n",
      "0.114612533845261\n",
      "0.09069623849821162\n",
      "3.6097246230594975e-07\n",
      "0.004918955894325965\n",
      "4.580551078641618e-05\n",
      "0.12066181312223644\n",
      "0.15632794283402215\n",
      "6.780499055941812e-06\n",
      "2.0647538498680484e-12\n",
      "0.05038265440205776\n",
      "0.6470603884348316\n",
      "0.1812686766499703\n",
      "0.10155790070171211\n",
      "0.46875696815043844\n",
      "0.2977420809998463\n",
      "0.014281802089989151\n",
      "0.0012316003433527295\n",
      "0.14859739760883742\n",
      "0.05772466818474563\n",
      "0.507900178916235\n",
      "0.22051679320384873\n",
      "0.6492112885216688\n",
      "0.010230841873924203\n",
      "0.028336715556833827\n",
      "0.0024282540332902784\n",
      "0.2408089936138286\n",
      "0.03173610084975743\n",
      "0.14668793812553313\n",
      "0.041547098814500825\n",
      "0.1484488873297287\n",
      "0.09866834906184273\n",
      "0.07439512349145834\n",
      "0.3601806030470671\n",
      "0.01343147562437711\n",
      "0.13201234203692616\n",
      "9.684525491761433e-14\n",
      "5.060234041581406e-11\n",
      "0.19082594610367004\n",
      "0.028085519380565263\n",
      "0.1450232169077301\n",
      "0.2697417364370687\n",
      "0.1638162165457529\n",
      "0.0038534391295559096\n",
      "0.5083811890279888\n",
      "0.4154167531018158\n",
      "0.029916112348853323\n",
      "0.0007017203375404094\n",
      "0.06580192256263423\n",
      "0.10394426005199234\n",
      "0.11320871876385424\n",
      "0.16674144064529073\n",
      "0.10330907013646465\n",
      "0.6533356207755172\n",
      "0.08648352492278903\n",
      "0.04353031405902233\n",
      "0.4323090477524699\n",
      "0.10406125453118413\n",
      "0.2368786762434547\n",
      "0.02431209887425645\n",
      "0.12033601086958352\n",
      "0.024098092009066225\n",
      "0.0019370081967336886\n",
      "3.126763659272619e-07\n",
      "0.33388529049853843\n",
      "0.3925676300124107\n",
      "0.17171318435551433\n",
      "0.05546574634735068\n",
      "0.057393635497037354\n",
      "0.008940855506850422\n",
      "0.3573373196875985\n",
      "0.3422112258832206\n",
      "0.10058682151854309\n",
      "0.12175958277076517\n",
      "0.1037450888810312\n",
      "0.5405294225758724\n",
      "0.06894956719984831\n",
      "0.1137442151533448\n",
      "0.025196593196812483\n",
      "0.05162281538439733\n",
      "0.00036724214056792833\n",
      "0.00014044849340645238\n",
      "0.43534337808058154\n",
      "0.07622972599542746\n",
      "0.2382467483829628\n",
      "0.7150287913727341\n",
      "0.05883252363978337\n",
      "0.28663906488738283\n",
      "3.347657838124863e-06\n",
      "0.000727025147159948\n",
      "0.00018597507937280844\n",
      "5.306672443036007e-10\n",
      "0.03276462248695388\n",
      "5.711909965407803e-06\n",
      "0.030061830399909076\n",
      "0.18856887641119205\n",
      "0.24661651497457943\n",
      "0.04913250938141557\n",
      "0.16219474721672061\n",
      "0.06973805543987334\n",
      "0.5708736148633808\n",
      "0.3276367445502343\n",
      "1.8070015806995995e-06\n",
      "1.1779496488402228e-09\n",
      "0.03240411590883079\n",
      "0.12021719788084674\n",
      "0.10809592881134436\n",
      "0.0007402910472024454\n",
      "1.4610392376378031e-05\n",
      "0.003302818615955495\n",
      "0.01567867425514638\n",
      "0.10684524490731018\n",
      "0.0627788017322255\n",
      "1.0776103508582662e-08\n",
      "2.853054163604942e-05\n",
      "0.07993881771176231\n",
      "0.0012811539198310821\n",
      "0.0008979459038681256\n",
      "0.1167704607068566\n",
      "0.04744995452508164\n",
      "0.03478562977658399\n",
      "0.6649162425262083\n"
     ]
    },
    {
     "data": {
      "text/plain": [
       "0"
      ]
     },
     "execution_count": 27,
     "metadata": {},
     "output_type": "execute_result"
    }
   ],
   "source": [
    "cnt = 0\n",
    "\n",
    "for i, x in enumerate(sd05):\n",
    "    if granger_causality(x, sd05[0], lag = 2, verbose = True, pval = 1e-30,check_one_lag = False):\n",
    "        cnt += 1\n",
    "cnt"
   ]
  },
  {
   "cell_type": "code",
   "execution_count": 29,
   "metadata": {},
   "outputs": [],
   "source": [
    "new = noisydata.copy()\n",
    "for i in range(0,noisydata.shape[0], 2):\n",
    "    new[i+1] += new[i]\n"
   ]
  },
  {
   "cell_type": "code",
   "execution_count": 30,
   "metadata": {},
   "outputs": [
    {
     "name": "stdout",
     "output_type": "stream",
     "text": [
      "1.0\n",
      "3.75063991524724e-51\n",
      "0.2545226758177345\n",
      "0.19162484506358926\n",
      "0.23099001942518174\n",
      "3.111721968896583e-09\n",
      "0.011665754566525497\n",
      "0.008695656092530103\n",
      "0.21457055322013274\n",
      "0.7912980364873208\n",
      "0.1999418133591078\n",
      "0.05134998856101839\n",
      "0.001217611564393595\n",
      "0.00030813800002665116\n",
      "0.007370682712151132\n",
      "0.004028632774335119\n",
      "0.005202455135386836\n",
      "0.5628339484459073\n",
      "0.5959449293220367\n",
      "0.7691790533610643\n",
      "0.025219969321323064\n",
      "0.11967305502296595\n",
      "0.005261519207665881\n",
      "6.783768617160453e-05\n",
      "0.23460995397526108\n",
      "0.4259349239779663\n",
      "0.059102605837359545\n",
      "0.2752512006418353\n",
      "4.392704269136087e-08\n",
      "3.5629171243400297e-08\n",
      "0.5083256294282668\n",
      "0.9589858702096807\n",
      "0.0885318176095813\n",
      "0.4599291550529747\n",
      "0.4886679315596407\n",
      "0.7778898475178715\n",
      "0.029921177582269143\n",
      "0.042111064662947575\n",
      "0.004288147719217249\n",
      "1.0462192284026752e-05\n",
      "0.20989358503401329\n",
      "0.4579739775435199\n",
      "0.25885369681422943\n",
      "0.3613021501761643\n",
      "0.32348147156313933\n",
      "0.02434054943393938\n",
      "0.03652831521155005\n",
      "0.31060732819179554\n",
      "0.3908698922631981\n",
      "0.734731236819341\n",
      "0.10970349993056609\n",
      "0.1654864176652655\n",
      "0.20228123995260996\n",
      "0.528778482745492\n",
      "0.008462879601372429\n",
      "0.048335179224698155\n",
      "0.6151966475918513\n",
      "0.06041445131429941\n",
      "0.1122980428914119\n",
      "0.7580123301635445\n",
      "0.34918932775018074\n",
      "0.9036148440664398\n",
      "0.2473347934598765\n",
      "0.9705771572111918\n",
      "0.3169728161647405\n",
      "0.9241714451928236\n",
      "0.12910766340199062\n",
      "0.7699760030682875\n",
      "0.21949422035267488\n",
      "0.26188908160130586\n",
      "0.0005416952755506844\n",
      "0.017403804902675363\n",
      "0.1443916705379107\n",
      "0.3587941570650742\n",
      "0.32307360241882926\n",
      "0.38764095722836744\n",
      "0.00808353221635325\n",
      "0.28787151872952355\n",
      "0.17074498913114375\n",
      "0.9094290074282768\n",
      "0.09069623849821162\n",
      "0.05397249820946137\n",
      "0.004918955894325965\n",
      "0.3950127415212964\n",
      "0.12066181312223644\n",
      "0.25577343431968974\n",
      "6.780499055941812e-06\n",
      "3.354941395653923e-09\n",
      "0.05038265440205776\n",
      "0.022481678726551328\n",
      "0.1812686766499703\n",
      "0.8976473627630892\n",
      "0.46875696815043844\n",
      "0.744677634123423\n",
      "0.014281802089989151\n",
      "0.06120214218735849\n",
      "0.14859739760883742\n",
      "0.6519584189347174\n",
      "0.507900178916235\n",
      "0.5734878012985858\n",
      "0.6492112885216688\n",
      "0.6361545458528873\n",
      "0.028336715556833827\n",
      "0.7529970338987564\n",
      "0.2408089936138286\n",
      "0.42340269048292156\n",
      "0.14668793812553313\n",
      "0.3145908608839092\n",
      "0.1484488873297287\n",
      "0.7788464879356747\n",
      "0.07439512349145834\n",
      "0.8588667698546024\n",
      "0.01343147562437711\n",
      "0.05083782239883306\n",
      "9.684525491761433e-14\n",
      "1.349519158957368e-14\n",
      "0.19082594610367004\n",
      "0.4451576449777105\n",
      "0.1450232169077301\n",
      "0.2005967825072196\n",
      "0.1638162165457529\n",
      "0.6859953675139834\n",
      "0.5083811890279888\n",
      "0.48250678702686267\n",
      "0.029916112348853323\n",
      "0.02310645010741258\n",
      "0.06580192256263423\n",
      "0.17853674093740093\n",
      "0.11320871876385424\n",
      "0.5535220925807718\n",
      "0.10330907013646465\n",
      "0.3329825331089272\n",
      "0.08648352492278903\n",
      "0.45301603818399383\n",
      "0.4323090477524699\n",
      "0.3676846857544943\n",
      "0.2368786762434547\n",
      "0.4536384420840782\n",
      "0.12033601086958352\n",
      "0.8478444196842134\n",
      "0.0019370081967336886\n",
      "0.034698097517934665\n",
      "0.33388529049853843\n",
      "0.5624741768318497\n",
      "0.17171318435551433\n",
      "0.420649550146304\n",
      "0.057393635497037354\n",
      "0.7053010479854811\n",
      "0.3573373196875985\n",
      "0.17261482524082464\n",
      "0.10058682151854309\n",
      "0.601402436237259\n",
      "0.1037450888810312\n",
      "0.637018599642412\n",
      "0.06894956719984831\n",
      "0.7862128809964132\n",
      "0.025196593196812483\n",
      "0.8753396485106563\n",
      "0.00036724214056792833\n",
      "0.30197470014657996\n",
      "0.43534337808058154\n",
      "0.7261698973448973\n",
      "0.2382467483829628\n",
      "0.3247844501995507\n",
      "0.05883252363978337\n",
      "0.7503053120961869\n",
      "3.347657838124863e-06\n",
      "0.0031313702388208716\n",
      "0.00018597507937280844\n",
      "1.6043217453704221e-09\n",
      "0.03276462248695388\n",
      "0.0021048317904805752\n",
      "0.030061830399909076\n",
      "0.1444160691350785\n",
      "0.24661651497457943\n",
      "0.7613171478690178\n",
      "0.16219474721672061\n",
      "0.15594218937709026\n",
      "0.5708736148633808\n",
      "0.6095585605385825\n",
      "1.8070015806995995e-06\n",
      "2.63248734130508e-08\n",
      "0.03240411590883079\n",
      "0.16502031311770485\n",
      "0.10809592881134436\n",
      "0.0023377857655693967\n",
      "1.4610392376378031e-05\n",
      "0.016787066652595727\n",
      "0.01567867425514638\n",
      "0.8089332583186651\n",
      "0.0627788017322255\n",
      "0.0004155372002304576\n",
      "2.853054163604942e-05\n",
      "0.00415222660049359\n",
      "0.0012811539198310821\n",
      "0.04506494651634189\n",
      "0.1167704607068566\n",
      "0.9558248713149655\n",
      "0.03478562977658399\n",
      "0.29207600955681634\n"
     ]
    },
    {
     "data": {
      "text/plain": [
       "1"
      ]
     },
     "execution_count": 30,
     "metadata": {},
     "output_type": "execute_result"
    }
   ],
   "source": [
    "cnt = 0\n",
    "\n",
    "for i, x in enumerate(noisydata):\n",
    "    if granger_causality(x, noisydata[0], lag = 2, verbose = True, pval = 1e-30,check_one_lag = False):\n",
    "        cnt += 1\n",
    "cnt"
   ]
  },
  {
   "cell_type": "code",
   "execution_count": 32,
   "metadata": {},
   "outputs": [
    {
     "name": "stdout",
     "output_type": "stream",
     "text": [
      "1.0\n",
      "3.900928216312714e-39\n",
      "0.2545226758177345\n",
      "0.06113354887262447\n",
      "0.23099001942518174\n",
      "0.0002630668471843615\n",
      "0.011665754566525497\n",
      "0.04490586126756646\n",
      "0.21457055322013274\n",
      "0.27752648206746683\n",
      "0.1999418133591078\n",
      "0.042761437033902734\n",
      "0.001217611564393595\n",
      "0.0007409039497725381\n",
      "0.007370682712151132\n",
      "0.04908378331879456\n",
      "0.005202455135386836\n",
      "0.0463584793874542\n",
      "0.5959449293220367\n",
      "0.5178369598326267\n",
      "0.025219969321323064\n",
      "0.2434843201979181\n",
      "0.005261519207665881\n",
      "0.0003940189496619314\n",
      "0.23460995397526108\n",
      "0.2370244360436059\n",
      "0.059102605837359545\n",
      "0.04935110632189953\n",
      "4.392704269136087e-08\n",
      "3.227965089814153e-08\n",
      "0.5083256294282668\n",
      "0.3412077939930527\n",
      "0.0885318176095813\n",
      "0.10531350852464\n",
      "0.4886679315596407\n",
      "0.4746861188317555\n",
      "0.029921177582269143\n",
      "0.02252596783856699\n",
      "0.004288147719217249\n",
      "0.0004037949132290158\n",
      "0.20989358503401329\n",
      "0.29075994640805175\n",
      "0.25885369681422943\n",
      "0.19975548809693122\n",
      "0.32348147156313933\n",
      "0.233061218853721\n",
      "0.03652831521155005\n",
      "0.12286567144608634\n",
      "0.3908698922631981\n",
      "0.5031383459475329\n",
      "0.10970349993056609\n",
      "0.030100220941921076\n",
      "0.20228123995260996\n",
      "0.6393720517323487\n",
      "0.008462879601372429\n",
      "0.04579063942379468\n",
      "0.6151966475918513\n",
      "0.12343622760390936\n",
      "0.1122980428914119\n",
      "0.20345234058816897\n",
      "0.34918932775018074\n",
      "0.3912979899397291\n",
      "0.2473347934598765\n",
      "0.35066589620232136\n",
      "0.3169728161647405\n",
      "0.39001520615209617\n",
      "0.12910766340199062\n",
      "0.09075503670932786\n",
      "0.21949422035267488\n",
      "0.36551621092193154\n",
      "0.0005416952755506844\n",
      "0.002726637733300489\n",
      "0.1443916705379107\n",
      "0.09987570871950305\n",
      "0.32307360241882926\n",
      "0.4794950097231303\n",
      "0.00808353221635325\n",
      "0.0992174960270473\n",
      "0.17074498913114375\n",
      "0.2273190198461551\n",
      "0.09069623849821162\n",
      "0.2130378617014223\n",
      "0.004918955894325965\n",
      "0.2506604894516724\n",
      "0.12066181312223644\n",
      "0.048856684057807735\n",
      "6.780499055941812e-06\n",
      "1.2243034350133825e-07\n",
      "0.05038265440205776\n",
      "0.00041901088195610384\n",
      "0.1812686766499703\n",
      "0.11415377092717016\n",
      "0.46875696815043844\n",
      "0.7885264207279347\n",
      "0.014281802089989151\n",
      "0.07984409811782843\n",
      "0.14859739760883742\n",
      "0.5051388001284252\n",
      "0.507900178916235\n",
      "0.11081720089572392\n",
      "0.6492112885216688\n",
      "0.7280354045470963\n",
      "0.028336715556833827\n",
      "0.11128272946292272\n",
      "0.2408089936138286\n",
      "0.07831980515212765\n",
      "0.14668793812553313\n",
      "0.19422345254123027\n",
      "0.1484488873297287\n",
      "0.2322889223963596\n",
      "0.07439512349145834\n",
      "0.21942691979185794\n",
      "0.01343147562437711\n",
      "0.007513285751880429\n",
      "9.684525491761433e-14\n",
      "2.054913843417358e-14\n",
      "0.19082594610367004\n",
      "0.435411610022183\n",
      "0.1450232169077301\n",
      "0.0878202756013754\n",
      "0.1638162165457529\n",
      "0.2784402794141849\n",
      "0.5083811890279888\n",
      "0.16577469501755998\n",
      "0.029916112348853323\n",
      "0.03619175041688326\n",
      "0.06580192256263423\n",
      "0.21726206683612667\n",
      "0.11320871876385424\n",
      "0.06533247937203608\n",
      "0.10330907013646465\n",
      "0.07996616673610446\n",
      "0.08648352492278903\n",
      "0.11918355588810794\n",
      "0.4323090477524699\n",
      "0.44808766638786857\n",
      "0.2368786762434547\n",
      "0.6302996639503103\n",
      "0.12033601086958352\n",
      "0.3134450421253414\n",
      "0.0019370081967336886\n",
      "0.0413193225561764\n",
      "0.33388529049853843\n",
      "0.2192839186163054\n",
      "0.17171318435551433\n",
      "0.42099331872426093\n",
      "0.057393635497037354\n",
      "0.1824443631358999\n",
      "0.3573373196875985\n",
      "0.2967471527810881\n",
      "0.10058682151854309\n",
      "0.162409411548305\n",
      "0.1037450888810312\n",
      "0.11693120823843381\n",
      "0.06894956719984831\n",
      "0.14304033644522027\n",
      "0.025196593196812483\n",
      "0.19900646831612478\n",
      "0.00036724214056792833\n",
      "0.0047676669373595566\n",
      "0.43534337808058154\n",
      "0.5679165557988066\n",
      "0.2382467483829628\n",
      "0.14291307968909983\n",
      "0.05883252363978337\n",
      "0.1298280515959806\n",
      "3.347657838124863e-06\n",
      "0.00036973041585485925\n",
      "0.00018597507937280844\n",
      "1.8608547023436799e-06\n",
      "0.03276462248695388\n",
      "0.022437961848894673\n",
      "0.030061830399909076\n",
      "0.03205874890115517\n",
      "0.24661651497457943\n",
      "0.0894523304932503\n",
      "0.16219474721672061\n",
      "0.020424221193388416\n",
      "0.5708736148633808\n",
      "0.8861865204083981\n",
      "1.8070015806995995e-06\n",
      "2.4845255269913414e-07\n",
      "0.03240411590883079\n",
      "0.03709288351520335\n",
      "0.10809592881134436\n",
      "0.20216899975266023\n",
      "1.4610392376378031e-05\n",
      "0.0008067803225898745\n",
      "0.01567867425514638\n",
      "0.0896455054168125\n",
      "0.0627788017322255\n",
      "0.05211434259125282\n",
      "2.853054163604942e-05\n",
      "0.0001338487076068651\n",
      "0.0012811539198310821\n",
      "0.0183941641702032\n",
      "0.1167704607068566\n",
      "0.25962488681636514\n",
      "0.03478562977658399\n",
      "0.04984602946757662\n"
     ]
    },
    {
     "data": {
      "text/plain": [
       "1"
      ]
     },
     "execution_count": 32,
     "metadata": {},
     "output_type": "execute_result"
    }
   ],
   "source": [
    "cnt = 0\n",
    "\n",
    "for i, x in enumerate(new):\n",
    "    if granger_causality(x, new[0], lag = 2, verbose = True, pval = 1e-30,check_one_lag = False):\n",
    "        cnt += 1\n",
    "cnt"
   ]
  },
  {
   "cell_type": "code",
   "execution_count": 40,
   "metadata": {},
   "outputs": [],
   "source": [
    "def brute_ground_truth(TS, lag, pval = 0.05):\n",
    "    n,m = TS.shape\n",
    "    truemat= np.zeros((n,n))\n",
    "    for i in tqdm(range(n)):\n",
    "        for j in range(n):\n",
    "            truemat[i,j] = granger_causality(TS[j], TS[i], lag = lag, verbose = False, pval = pval)\n",
    "    return truemat"
   ]
  },
  {
   "cell_type": "code",
   "execution_count": 41,
   "metadata": {},
   "outputs": [
    {
     "name": "stderr",
     "output_type": "stream",
     "text": [
      "100%|████████████████████████████████████████████████████████████████████████████████| 100/100 [01:11<00:00,  1.40it/s]\n"
     ]
    }
   ],
   "source": [
    "truemat = brute_ground_truth(ts, lag = 2)"
   ]
  },
  {
   "cell_type": "code",
   "execution_count": 46,
   "metadata": {},
   "outputs": [
    {
     "data": {
      "text/plain": [
       "5813.0"
      ]
     },
     "execution_count": 46,
     "metadata": {},
     "output_type": "execute_result"
    }
   ],
   "source": [
    "truemat.sum()"
   ]
  },
  {
   "cell_type": "code",
   "execution_count": null,
   "metadata": {},
   "outputs": [],
   "source": [
    "with open('brutegroundtruthecg.npy', 'wb') as f:\n",
    "    np.save(f, truemat)"
   ]
  }
 ],
 "metadata": {
  "kernelspec": {
   "display_name": "Python 3",
   "language": "python",
   "name": "python3"
  },
  "language_info": {
   "codemirror_mode": {
    "name": "ipython",
    "version": 3
   },
   "file_extension": ".py",
   "mimetype": "text/x-python",
   "name": "python",
   "nbconvert_exporter": "python",
   "pygments_lexer": "ipython3",
   "version": "3.8.3"
  }
 },
 "nbformat": 4,
 "nbformat_minor": 4
}
