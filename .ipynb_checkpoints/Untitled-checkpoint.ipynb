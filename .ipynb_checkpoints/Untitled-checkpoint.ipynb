{
 "cells": [
  {
   "cell_type": "code",
   "execution_count": 23,
   "metadata": {
    "scrolled": false
   },
   "outputs": [
    {
     "data": {
      "text/html": [
       "<div>\n",
       "<style scoped>\n",
       "    .dataframe tbody tr th:only-of-type {\n",
       "        vertical-align: middle;\n",
       "    }\n",
       "\n",
       "    .dataframe tbody tr th {\n",
       "        vertical-align: top;\n",
       "    }\n",
       "\n",
       "    .dataframe thead th {\n",
       "        text-align: right;\n",
       "    }\n",
       "</style>\n",
       "<table border=\"1\" class=\"dataframe\">\n",
       "  <thead>\n",
       "    <tr style=\"text-align: right;\">\n",
       "      <th></th>\n",
       "      <th>Dataset</th>\n",
       "      <th>NN</th>\n",
       "      <th>GRAIL exact classification precision</th>\n",
       "      <th>GRAIL exact precision</th>\n",
       "      <th>GRAIL exact time</th>\n",
       "      <th>PQ classification precision</th>\n",
       "      <th>PQ precision</th>\n",
       "      <th>PQ time</th>\n",
       "      <th>OPQ (64) classification precision</th>\n",
       "      <th>OPQ (64) precision</th>\n",
       "      <th>OPQ (64) time</th>\n",
       "      <th>OPQ (128) classification precision</th>\n",
       "      <th>OPQ (128) precision</th>\n",
       "      <th>OPQ (128) time</th>\n",
       "      <th>TRAIN_size</th>\n",
       "      <th>TEST_size</th>\n",
       "    </tr>\n",
       "  </thead>\n",
       "  <tbody>\n",
       "    <tr>\n",
       "      <th>0</th>\n",
       "      <td>ACSF1</td>\n",
       "      <td>1</td>\n",
       "      <td>0.770000</td>\n",
       "      <td>0.750000</td>\n",
       "      <td>0.117019</td>\n",
       "      <td>0.580000</td>\n",
       "      <td>0.290000</td>\n",
       "      <td>0.031816</td>\n",
       "      <td>0.620000</td>\n",
       "      <td>0.290000</td>\n",
       "      <td>0.033227</td>\n",
       "      <td>0.630000</td>\n",
       "      <td>0.450000</td>\n",
       "      <td>0.055773</td>\n",
       "      <td>100</td>\n",
       "      <td>100</td>\n",
       "    </tr>\n",
       "    <tr>\n",
       "      <th>1</th>\n",
       "      <td>ACSF1</td>\n",
       "      <td>3</td>\n",
       "      <td>0.600000</td>\n",
       "      <td>0.793333</td>\n",
       "      <td>0.120010</td>\n",
       "      <td>0.470000</td>\n",
       "      <td>0.306667</td>\n",
       "      <td>0.033460</td>\n",
       "      <td>0.560000</td>\n",
       "      <td>0.450000</td>\n",
       "      <td>0.035234</td>\n",
       "      <td>0.590000</td>\n",
       "      <td>0.483333</td>\n",
       "      <td>0.058627</td>\n",
       "      <td>100</td>\n",
       "      <td>100</td>\n",
       "    </tr>\n",
       "    <tr>\n",
       "      <th>2</th>\n",
       "      <td>ACSF1</td>\n",
       "      <td>5</td>\n",
       "      <td>0.590000</td>\n",
       "      <td>0.826000</td>\n",
       "      <td>0.121005</td>\n",
       "      <td>0.490000</td>\n",
       "      <td>0.418000</td>\n",
       "      <td>0.034242</td>\n",
       "      <td>0.570000</td>\n",
       "      <td>0.506000</td>\n",
       "      <td>0.036548</td>\n",
       "      <td>0.590000</td>\n",
       "      <td>0.586000</td>\n",
       "      <td>0.059463</td>\n",
       "      <td>100</td>\n",
       "      <td>100</td>\n",
       "    </tr>\n",
       "    <tr>\n",
       "      <th>3</th>\n",
       "      <td>ACSF1</td>\n",
       "      <td>10</td>\n",
       "      <td>0.570000</td>\n",
       "      <td>0.873000</td>\n",
       "      <td>0.121503</td>\n",
       "      <td>0.460000</td>\n",
       "      <td>0.514000</td>\n",
       "      <td>0.035174</td>\n",
       "      <td>0.540000</td>\n",
       "      <td>0.616000</td>\n",
       "      <td>0.037306</td>\n",
       "      <td>0.510000</td>\n",
       "      <td>0.666000</td>\n",
       "      <td>0.059867</td>\n",
       "      <td>100</td>\n",
       "      <td>100</td>\n",
       "    </tr>\n",
       "    <tr>\n",
       "      <th>4</th>\n",
       "      <td>Adiac</td>\n",
       "      <td>1</td>\n",
       "      <td>0.634271</td>\n",
       "      <td>0.959079</td>\n",
       "      <td>1.782659</td>\n",
       "      <td>0.460358</td>\n",
       "      <td>0.176471</td>\n",
       "      <td>0.177981</td>\n",
       "      <td>0.480818</td>\n",
       "      <td>0.322251</td>\n",
       "      <td>0.185995</td>\n",
       "      <td>0.534527</td>\n",
       "      <td>0.396419</td>\n",
       "      <td>0.294395</td>\n",
       "      <td>390</td>\n",
       "      <td>391</td>\n",
       "    </tr>\n",
       "    <tr>\n",
       "      <th>...</th>\n",
       "      <td>...</td>\n",
       "      <td>...</td>\n",
       "      <td>...</td>\n",
       "      <td>...</td>\n",
       "      <td>...</td>\n",
       "      <td>...</td>\n",
       "      <td>...</td>\n",
       "      <td>...</td>\n",
       "      <td>...</td>\n",
       "      <td>...</td>\n",
       "      <td>...</td>\n",
       "      <td>...</td>\n",
       "      <td>...</td>\n",
       "      <td>...</td>\n",
       "      <td>...</td>\n",
       "      <td>...</td>\n",
       "    </tr>\n",
       "    <tr>\n",
       "      <th>507</th>\n",
       "      <td>WormsTwoClass</td>\n",
       "      <td>10</td>\n",
       "      <td>0.597403</td>\n",
       "      <td>0.450649</td>\n",
       "      <td>0.165539</td>\n",
       "      <td>0.688312</td>\n",
       "      <td>0.337662</td>\n",
       "      <td>0.030725</td>\n",
       "      <td>0.675325</td>\n",
       "      <td>0.414286</td>\n",
       "      <td>0.032920</td>\n",
       "      <td>0.623377</td>\n",
       "      <td>0.446753</td>\n",
       "      <td>0.051763</td>\n",
       "      <td>181</td>\n",
       "      <td>77</td>\n",
       "    </tr>\n",
       "    <tr>\n",
       "      <th>508</th>\n",
       "      <td>Yoga</td>\n",
       "      <td>1</td>\n",
       "      <td>0.831000</td>\n",
       "      <td>0.827333</td>\n",
       "      <td>10.483001</td>\n",
       "      <td>0.789667</td>\n",
       "      <td>0.369333</td>\n",
       "      <td>1.229488</td>\n",
       "      <td>0.764333</td>\n",
       "      <td>0.358000</td>\n",
       "      <td>1.305332</td>\n",
       "      <td>0.804667</td>\n",
       "      <td>0.503667</td>\n",
       "      <td>2.362590</td>\n",
       "      <td>300</td>\n",
       "      <td>3000</td>\n",
       "    </tr>\n",
       "    <tr>\n",
       "      <th>509</th>\n",
       "      <td>Yoga</td>\n",
       "      <td>3</td>\n",
       "      <td>0.803667</td>\n",
       "      <td>0.862222</td>\n",
       "      <td>10.544420</td>\n",
       "      <td>0.753667</td>\n",
       "      <td>0.497000</td>\n",
       "      <td>1.307997</td>\n",
       "      <td>0.750000</td>\n",
       "      <td>0.466667</td>\n",
       "      <td>2.115471</td>\n",
       "      <td>0.775000</td>\n",
       "      <td>0.621000</td>\n",
       "      <td>3.039499</td>\n",
       "      <td>300</td>\n",
       "      <td>3000</td>\n",
       "    </tr>\n",
       "    <tr>\n",
       "      <th>510</th>\n",
       "      <td>Yoga</td>\n",
       "      <td>5</td>\n",
       "      <td>0.773333</td>\n",
       "      <td>0.893400</td>\n",
       "      <td>10.656230</td>\n",
       "      <td>0.699667</td>\n",
       "      <td>0.556067</td>\n",
       "      <td>1.333026</td>\n",
       "      <td>0.721000</td>\n",
       "      <td>0.541933</td>\n",
       "      <td>4.282892</td>\n",
       "      <td>0.761667</td>\n",
       "      <td>0.693067</td>\n",
       "      <td>11.998993</td>\n",
       "      <td>300</td>\n",
       "      <td>3000</td>\n",
       "    </tr>\n",
       "    <tr>\n",
       "      <th>511</th>\n",
       "      <td>Yoga</td>\n",
       "      <td>10</td>\n",
       "      <td>0.750333</td>\n",
       "      <td>0.924000</td>\n",
       "      <td>10.649014</td>\n",
       "      <td>0.628333</td>\n",
       "      <td>0.638767</td>\n",
       "      <td>1.382069</td>\n",
       "      <td>0.685000</td>\n",
       "      <td>0.686467</td>\n",
       "      <td>1.670309</td>\n",
       "      <td>0.727667</td>\n",
       "      <td>0.794667</td>\n",
       "      <td>11.339252</td>\n",
       "      <td>300</td>\n",
       "      <td>3000</td>\n",
       "    </tr>\n",
       "  </tbody>\n",
       "</table>\n",
       "<p>512 rows × 16 columns</p>\n",
       "</div>"
      ],
      "text/plain": [
       "           Dataset  NN  GRAIL exact classification precision  \\\n",
       "0            ACSF1   1                              0.770000   \n",
       "1            ACSF1   3                              0.600000   \n",
       "2            ACSF1   5                              0.590000   \n",
       "3            ACSF1  10                              0.570000   \n",
       "4            Adiac   1                              0.634271   \n",
       "..             ...  ..                                   ...   \n",
       "507  WormsTwoClass  10                              0.597403   \n",
       "508           Yoga   1                              0.831000   \n",
       "509           Yoga   3                              0.803667   \n",
       "510           Yoga   5                              0.773333   \n",
       "511           Yoga  10                              0.750333   \n",
       "\n",
       "     GRAIL exact precision  GRAIL exact time  PQ classification precision  \\\n",
       "0                 0.750000          0.117019                     0.580000   \n",
       "1                 0.793333          0.120010                     0.470000   \n",
       "2                 0.826000          0.121005                     0.490000   \n",
       "3                 0.873000          0.121503                     0.460000   \n",
       "4                 0.959079          1.782659                     0.460358   \n",
       "..                     ...               ...                          ...   \n",
       "507               0.450649          0.165539                     0.688312   \n",
       "508               0.827333         10.483001                     0.789667   \n",
       "509               0.862222         10.544420                     0.753667   \n",
       "510               0.893400         10.656230                     0.699667   \n",
       "511               0.924000         10.649014                     0.628333   \n",
       "\n",
       "     PQ precision   PQ time  OPQ (64) classification precision  \\\n",
       "0        0.290000  0.031816                           0.620000   \n",
       "1        0.306667  0.033460                           0.560000   \n",
       "2        0.418000  0.034242                           0.570000   \n",
       "3        0.514000  0.035174                           0.540000   \n",
       "4        0.176471  0.177981                           0.480818   \n",
       "..            ...       ...                                ...   \n",
       "507      0.337662  0.030725                           0.675325   \n",
       "508      0.369333  1.229488                           0.764333   \n",
       "509      0.497000  1.307997                           0.750000   \n",
       "510      0.556067  1.333026                           0.721000   \n",
       "511      0.638767  1.382069                           0.685000   \n",
       "\n",
       "     OPQ (64) precision  OPQ (64) time  OPQ (128) classification precision  \\\n",
       "0              0.290000       0.033227                            0.630000   \n",
       "1              0.450000       0.035234                            0.590000   \n",
       "2              0.506000       0.036548                            0.590000   \n",
       "3              0.616000       0.037306                            0.510000   \n",
       "4              0.322251       0.185995                            0.534527   \n",
       "..                  ...            ...                                 ...   \n",
       "507            0.414286       0.032920                            0.623377   \n",
       "508            0.358000       1.305332                            0.804667   \n",
       "509            0.466667       2.115471                            0.775000   \n",
       "510            0.541933       4.282892                            0.761667   \n",
       "511            0.686467       1.670309                            0.727667   \n",
       "\n",
       "     OPQ (128) precision  OPQ (128) time  TRAIN_size  TEST_size  \n",
       "0               0.450000        0.055773         100        100  \n",
       "1               0.483333        0.058627         100        100  \n",
       "2               0.586000        0.059463         100        100  \n",
       "3               0.666000        0.059867         100        100  \n",
       "4               0.396419        0.294395         390        391  \n",
       "..                   ...             ...         ...        ...  \n",
       "507             0.446753        0.051763         181         77  \n",
       "508             0.503667        2.362590         300       3000  \n",
       "509             0.621000        3.039499         300       3000  \n",
       "510             0.693067       11.998993         300       3000  \n",
       "511             0.794667       11.339252         300       3000  \n",
       "\n",
       "[512 rows x 16 columns]"
      ]
     },
     "execution_count": 23,
     "metadata": {},
     "output_type": "execute_result"
    }
   ],
   "source": [
    "import pandas as pd\n",
    "import matplotlib.pyplot as plt\n",
    "import numpy as np\n",
    "df = pd.read_csv(\"final_results.csv\")\n",
    "\n",
    "df"
   ]
  },
  {
   "cell_type": "code",
   "execution_count": 27,
   "metadata": {},
   "outputs": [
    {
     "data": {
      "text/plain": [
       "[<matplotlib.lines.Line2D at 0x25250a38220>]"
      ]
     },
     "execution_count": 27,
     "metadata": {},
     "output_type": "execute_result"
    },
    {
     "data": {
      "image/png": "[encoded data removed]",
      "text/plain": [
       "<Figure size 432x288 with 1 Axes>"
      ]
     },
     "metadata": {
      "needs_background": "light"
     },
     "output_type": "display_data"
    }
   ],
   "source": [
    "big_datasets = df[df.TEST_size >= 1000]\n",
    "\n",
    "big_datasets_1NN = big_datasets[big_datasets.NN == 1]\n",
    "\n",
    "#big_datasets_1NN.plot.scatter(x = 'OPQ (128) classification precision', y = 'GRAIL exact classification precision')\n",
    "\n",
    "ax = plt.subplot(111)\n",
    "big_datasets_1NN.plot(x='OPQ (128) classification precision',y='GRAIL exact classification precision',ax=ax, kind='scatter')\n",
    "x = np.linspace(*ax.get_xlim())\n",
    "ax.plot(x, x)"
   ]
  },
  {
   "cell_type": "code",
   "execution_count": 30,
   "metadata": {},
   "outputs": [
    {
     "data": {
      "text/plain": [
       "array([[<matplotlib.axes._subplots.AxesSubplot object at 0x000002525618EC70>,\n",
       "        <matplotlib.axes._subplots.AxesSubplot object at 0x0000025256117160>],\n",
       "       [<matplotlib.axes._subplots.AxesSubplot object at 0x0000025256051B80>,\n",
       "        <matplotlib.axes._subplots.AxesSubplot object at 0x000002525604C520>]],\n",
       "      dtype=object)"
      ]
     },
     "execution_count": 30,
     "metadata": {},
     "output_type": "execute_result"
    },
    {
     "data": {
      "image/png": "[encoded data removed]",
      "text/plain": [
       "<Figure size 432x288 with 4 Axes>"
      ]
     },
     "metadata": {
      "needs_background": "light"
     },
     "output_type": "display_data"
    }
   ],
   "source": [
    "pd.plotting.scatter_matrix(big_datasets_1NN[['OPQ (128) classification precision','GRAIL exact classification precision']])"
   ]
  },
  {
   "cell_type": "code",
   "execution_count": 25,
   "metadata": {},
   "outputs": [
    {
     "data": {
      "text/plain": [
       "<matplotlib.axes._subplots.AxesSubplot at 0x25250953a60>"
      ]
     },
     "execution_count": 25,
     "metadata": {},
     "output_type": "execute_result"
    },
    {
     "data": {
      "image/png": "[encoded data removed]",
      "text/plain": [
       "<Figure size 432x288 with 1 Axes>"
      ]
     },
     "metadata": {
      "needs_background": "light"
     },
     "output_type": "display_data"
    }
   ],
   "source": [
    "big_datasets_1NN.plot.scatter(x = 'OPQ (64) time', y = 'GRAIL exact time')"
   ]
  },
  {
   "cell_type": "markdown",
   "metadata": {},
   "source": [
    "Here we plot the opq time vs GRAIL time. The Line is y = x. "
   ]
  },
  {
   "cell_type": "code",
   "execution_count": 26,
   "metadata": {},
   "outputs": [
    {
     "data": {
      "text/plain": [
       "[<matplotlib.lines.Line2D at 0x252509cbd30>]"
      ]
     },
     "execution_count": 26,
     "metadata": {},
     "output_type": "execute_result"
    },
    {
     "data": {
      "image/png": "[encoded data removed]",
      "text/plain": [
       "<Figure size 432x288 with 1 Axes>"
      ]
     },
     "metadata": {
      "needs_background": "light"
     },
     "output_type": "display_data"
    }
   ],
   "source": [
    "fig = plt.figure()\n",
    "ax = plt.subplot(111)\n",
    "big_datasets_1NN.plot(x='OPQ (64) time',y='GRAIL exact time',ax=ax, kind='scatter')\n",
    "x = np.linspace(*ax.get_xlim())\n",
    "ax.plot(x, x)"
   ]
  },
  {
   "cell_type": "code",
   "execution_count": null,
   "metadata": {},
   "outputs": [],
   "source": []
  }
 ],
 "metadata": {
  "kernelspec": {
   "display_name": "Python 3",
   "language": "python",
   "name": "python3"
  },
  "language_info": {
   "codemirror_mode": {
    "name": "ipython",
    "version": 3
   },
   "file_extension": ".py",
   "mimetype": "text/x-python",
   "name": "python",
   "nbconvert_exporter": "python",
   "pygments_lexer": "ipython3",
   "version": "3.8.3"
  }
 },
 "nbformat": 4,
 "nbformat_minor": 4
}
